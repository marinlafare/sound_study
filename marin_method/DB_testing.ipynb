{
 "cells": [
  {
   "cell_type": "code",
   "execution_count": 1,
   "id": "e5c61df5-f0cd-4ce9-9289-6b781ad6b96e",
   "metadata": {},
   "outputs": [],
   "source": [
    "from marin_api.data.engine import init_db\n",
    "from marin_api.data.db_interface import DBInterface\n",
    "from marin_api.operations.models import CreateSong\n",
    "from marin_api.data.models import Song\n",
    "import psycopg2"
   ]
  },
  {
   "cell_type": "code",
   "execution_count": 2,
   "id": "4deaa7dc-2b63-40fd-82cc-88a9c5bdfe46",
   "metadata": {},
   "outputs": [],
   "source": [
    "init_db()"
   ]
  },
  {
   "cell_type": "code",
   "execution_count": 3,
   "id": "69a4cdbc-bda1-40b7-9720-cc2b2b86394b",
   "metadata": {},
   "outputs": [],
   "source": [
    "one_song = {\n",
    "    \"name\": \"popotito\",\n",
    "    \"url\":\"https://www.youtube.com/watch?v=ybuJ_nIXwGE\"\n",
    "}"
   ]
  },
  {
   "cell_type": "code",
   "execution_count": 4,
   "id": "b69b5cd8-e970-4fac-806e-d1c55c59559a",
   "metadata": {},
   "outputs": [],
   "source": [
    "test_song = CreateSong(**one_song)"
   ]
  },
  {
   "cell_type": "code",
   "execution_count": 5,
   "id": "cae25410-a7d3-4b33-b089-5d9a96da046d",
   "metadata": {},
   "outputs": [
    {
     "data": {
      "text/plain": [
       "CreateSong(name='popotito', url='https://www.youtube.com/watch?v=ybuJ_nIXwGE')"
      ]
     },
     "execution_count": 5,
     "metadata": {},
     "output_type": "execute_result"
    }
   ],
   "source": [
    "test_song"
   ]
  },
  {
   "cell_type": "code",
   "execution_count": 6,
   "id": "c61e02e6-4112-4122-801f-798040867793",
   "metadata": {},
   "outputs": [],
   "source": [
    "song_interface = DBInterface(Song)"
   ]
  },
  {
   "cell_type": "code",
   "execution_count": 7,
   "id": "254a927a-c558-472f-b54c-3d52aa15eb16",
   "metadata": {},
   "outputs": [
    {
     "name": "stderr",
     "output_type": "stream",
     "text": [
      "C:\\Users\\chompu\\AppData\\Local\\Temp\\ipykernel_2800\\12892215.py:1: PydanticDeprecatedSince20: The `dict` method is deprecated; use `model_dump` instead. Deprecated in Pydantic V2.0 to be removed in V3.0. See Pydantic V2 Migration Guide at https://errors.pydantic.dev/2.10/migration/\n",
      "  song_interface.create(test_song.dict())\n"
     ]
    },
    {
     "data": {
      "text/plain": [
       "{'id': 1,\n",
       " 'name': 'popotito',\n",
       " 'url': 'https://www.youtube.com/watch?v=ybuJ_nIXwGE'}"
      ]
     },
     "execution_count": 7,
     "metadata": {},
     "output_type": "execute_result"
    }
   ],
   "source": [
    "song_interface.create(test_song.dict())"
   ]
  },
  {
   "cell_type": "code",
   "execution_count": null,
   "id": "2263397d-e5b7-4361-b611-804cb2626cbb",
   "metadata": {},
   "outputs": [],
   "source": []
  },
  {
   "cell_type": "code",
   "execution_count": null,
   "id": "2a974fe1-8404-43f4-8590-58a17732314b",
   "metadata": {},
   "outputs": [],
   "source": []
  },
  {
   "cell_type": "code",
   "execution_count": null,
   "id": "4f9f86ad-337e-4c3a-ada9-90682ee16a23",
   "metadata": {},
   "outputs": [],
   "source": []
  },
  {
   "cell_type": "code",
   "execution_count": null,
   "id": "b792af26-9e3e-4168-a56c-b3fa52a135b9",
   "metadata": {},
   "outputs": [],
   "source": [
    "means_data = CreateCountryFactorsMean(**means_data)\n",
    "std_data = CreateCountryFactorsStd(**std_data)\n",
    "\n",
    "factors_mean_interface.create(means_data.dict())\n",
    "factors_std_interface.create(std_data.dict())"
   ]
  },
  {
   "cell_type": "code",
   "execution_count": null,
   "id": "1d530b5c-8b26-4d3d-af89-b813f925bca7",
   "metadata": {},
   "outputs": [],
   "source": []
  },
  {
   "cell_type": "code",
   "execution_count": 8,
   "id": "45a409b3-c5c3-40cc-998e-0d12cbf9c3a8",
   "metadata": {},
   "outputs": [],
   "source": [
    "conn = psycopg2.connect(\n",
    "                       host = \"127.0.0.1\",  \n",
    "                       dbname = \"postgres\",\n",
    "                       user = \"postgres\",\n",
    "                       password = \"3214\",\n",
    "                       port = \"5432\"\n",
    ")\n",
    "cur = conn.cursor()"
   ]
  },
  {
   "cell_type": "code",
   "execution_count": null,
   "id": "25a4ec29-b394-4afe-8524-69cc22b6c42d",
   "metadata": {},
   "outputs": [],
   "source": []
  },
  {
   "cell_type": "code",
   "execution_count": 9,
   "id": "7180f486-d86e-44ff-8817-4da220439783",
   "metadata": {},
   "outputs": [
    {
     "data": {
      "text/plain": [
       "[(1, 'popotito', 'https://www.youtube.com/watch?v=ybuJ_nIXwGE')]"
      ]
     },
     "execution_count": 9,
     "metadata": {},
     "output_type": "execute_result"
    }
   ],
   "source": [
    "cur.execute(f\"select * from song;\")\n",
    "cur.fetchall()"
   ]
  },
  {
   "cell_type": "code",
   "execution_count": null,
   "id": "83193bf5-3035-48ac-9ebd-ae14d66e58c3",
   "metadata": {},
   "outputs": [],
   "source": [
    "\n",
    "\n",
    "\n",
    "\n",
    "\n",
    "cur.execute(f\"select * from subject;\")\n",
    "cur.fetchall()\n",
    "\n",
    "conn.commit()\n",
    "cur.close()\n",
    "conn.close()"
   ]
  }
 ],
 "metadata": {
  "kernelspec": {
   "display_name": "audios",
   "language": "python",
   "name": "audios"
  },
  "language_info": {
   "codemirror_mode": {
    "name": "ipython",
    "version": 3
   },
   "file_extension": ".py",
   "mimetype": "text/x-python",
   "name": "python",
   "nbconvert_exporter": "python",
   "pygments_lexer": "ipython3",
   "version": "3.10.14"
  }
 },
 "nbformat": 4,
 "nbformat_minor": 5
}
