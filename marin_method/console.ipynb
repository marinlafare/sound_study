{
 "cells": [
  {
   "cell_type": "code",
   "execution_count": 8,
   "id": "324a68da-4f71-40ab-b726-543464380d87",
   "metadata": {},
   "outputs": [],
   "source": [
    "from pytubefix import YouTube\n",
    "import pyaudio\n",
    "import wave\n",
    "import sys\n",
    "import os\n",
    "from raw_data.raw_data import *\n",
    "from raw_data.constants import *\n",
    "import crepe\n",
    "from scipy.io import wavfile\n",
    "import matplotlib.pyplot as plt\n",
    "import numpy as np\n",
    "import sounddevice as sd\n",
    "import time"
   ]
  },
  {
   "cell_type": "code",
   "execution_count": null,
   "id": "946b434a-b005-47cc-9e99-f962847dcba9",
   "metadata": {},
   "outputs": [],
   "source": []
  },
  {
   "cell_type": "code",
   "execution_count": 9,
   "id": "d2d68ff9-62e0-4cce-82c9-7262b8e14e1f",
   "metadata": {},
   "outputs": [],
   "source": [
    "# -*- coding: utf-8 -*-\n",
    "'''recorder.py\n",
    "Provides WAV recording functionality via two approaches:\n",
    "\n",
    "Blocking mode (record for a set duration):\n",
    ">>> rec = Recorder(channels=2)\n",
    ">>> with rec.open('blocking.wav', 'wb') as recfile:\n",
    "...     recfile.record(duration=5.0)\n",
    "\n",
    "Non-blocking mode (start and stop recording):\n",
    ">>> rec = Recorder(channels=2)\n",
    ">>> with rec.open('nonblocking.wav', 'wb') as recfile2:\n",
    "...     recfile2.start_recording()\n",
    "...     time.sleep(5.0)\n",
    "...     recfile2.stop_recording()\n",
    "'''\n",
    "frames = []\n",
    "class Recorder(object):\n",
    "    '''A recorder class for recording audio to a WAV file.\n",
    "    Records in mono by default.\n",
    "    '''\n",
    "\n",
    "    def __init__(self, channels=1, rate=44100, frames_per_buffer=1024):\n",
    "        self.channels = channels\n",
    "        self.rate = rate\n",
    "        self.frames_per_buffer = frames_per_buffer\n",
    "\n",
    "    def open(self, fname, mode='wb'):\n",
    "        return RecordingFile(fname, mode, self.channels, self.rate,\n",
    "                            self.frames_per_buffer)\n",
    "\n",
    "class RecordingFile(object):\n",
    "    def __init__(self, fname, mode, channels, \n",
    "                rate, frames_per_buffer):\n",
    "        self.fname = fname\n",
    "        self.mode = mode\n",
    "        self.channels = channels\n",
    "        self.rate = rate\n",
    "        self.frames_per_buffer = frames_per_buffer\n",
    "        self._pa = pyaudio.PyAudio()\n",
    "        self.wavefile = self._prepare_file(self.fname, self.mode)\n",
    "        self._stream = None\n",
    "\n",
    "    def __enter__(self):\n",
    "        return self\n",
    "\n",
    "    def __exit__(self, exception, value, traceback):\n",
    "        self.close()\n",
    "\n",
    "    def record(self, duration):\n",
    "        # Use a stream with no callback function in blocking mode\n",
    "        self._stream = self._pa.open(format=pyaudio.paInt16,\n",
    "                                        channels=self.channels,\n",
    "                                        rate=self.rate,\n",
    "                                        input=True,\n",
    "                                        frames_per_buffer=self.frames_per_buffer)\n",
    "        for _ in range(int(self.rate / self.frames_per_buffer * duration)):\n",
    "            audio = self._stream.read(self.frames_per_buffer)\n",
    "            self.wavefile.writeframes(audio)\n",
    "        return None\n",
    "\n",
    "    def start_recording(self):\n",
    "        # Use a stream with a callback in non-blocking mode\n",
    "        self._stream = self._pa.open(format=pyaudio.paInt16,\n",
    "                                        channels=self.channels,\n",
    "                                        rate=self.rate,\n",
    "                                        input=True,\n",
    "                                        frames_per_buffer=self.frames_per_buffer,\n",
    "                                        stream_callback=self.get_callback())\n",
    "        self._stream.start_stream()\n",
    "        return self\n",
    "\n",
    "    def stop_recording(self):\n",
    "        self._stream.stop_stream()\n",
    "        return self\n",
    "\n",
    "    def get_callback(self):\n",
    "        def callback(in_data, frame_count, time_info, status):\n",
    "            self.wavefile.writeframes(in_data)\n",
    "            return in_data, pyaudio.paContinue\n",
    "        return callback\n",
    "\n",
    "\n",
    "    def close(self):\n",
    "        self._stream.close()\n",
    "        self._pa.terminate()\n",
    "        self.wavefile.close()\n",
    "\n",
    "    def _prepare_file(self, fname, mode='wb'):\n",
    "        wavefile = wave.open(fname, mode)\n",
    "        wavefile.setnchannels(self.channels)\n",
    "        wavefile.setsampwidth(self._pa.get_sample_size(pyaudio.paInt16))\n",
    "        wavefile.setframerate(self.rate)\n",
    "        return wavefile"
   ]
  },
  {
   "cell_type": "code",
   "execution_count": 10,
   "id": "376acfc9-872b-4505-ab90-6238b8ad7f61",
   "metadata": {},
   "outputs": [],
   "source": [
    "rec = Recorder(channels=1)\n",
    "with rec.open('pipi.wav', 'wb') as recfile2:\n",
    "    recfile2.start_recording()\n",
    "    time.sleep(5.0)\n",
    "    recfile2.stop_recording()"
   ]
  },
  {
   "cell_type": "code",
   "execution_count": 11,
   "id": "f0c80d64-514e-4c31-af73-de56683e61e7",
   "metadata": {},
   "outputs": [
    {
     "data": {
      "text/plain": [
       "'C:\\\\Users\\\\chompu\\\\Desktop\\\\audio_windows\\\\sound_study\\\\marin_method'"
      ]
     },
     "execution_count": 11,
     "metadata": {},
     "output_type": "execute_result"
    }
   ],
   "source": [
    "os.getcwd()"
   ]
  },
  {
   "cell_type": "code",
   "execution_count": null,
   "id": "ab8b6b66-a879-48c2-87b6-f672d8e280e6",
   "metadata": {},
   "outputs": [],
   "source": []
  },
  {
   "cell_type": "code",
   "execution_count": null,
   "id": "73bbf071-e8d4-44af-8eee-674ad80fbf43",
   "metadata": {},
   "outputs": [],
   "source": []
  },
  {
   "cell_type": "code",
   "execution_count": null,
   "id": "27b486e0-5cad-45e8-99a0-c924505740f4",
   "metadata": {},
   "outputs": [],
   "source": []
  },
  {
   "cell_type": "code",
   "execution_count": null,
   "id": "9d8afe73-e76e-4301-adb5-5a2b5d5223a5",
   "metadata": {},
   "outputs": [],
   "source": []
  },
  {
   "cell_type": "code",
   "execution_count": null,
   "id": "b4bbfcdf-c07d-48a6-8941-7dbb3fcbaa11",
   "metadata": {},
   "outputs": [],
   "source": []
  },
  {
   "cell_type": "code",
   "execution_count": null,
   "id": "295c1b74-3d81-42a8-85ed-7bb05e05a1d9",
   "metadata": {},
   "outputs": [],
   "source": []
  },
  {
   "cell_type": "code",
   "execution_count": null,
   "id": "2615749f-d160-4388-95c6-583b1e2a285c",
   "metadata": {},
   "outputs": [],
   "source": []
  },
  {
   "cell_type": "code",
   "execution_count": null,
   "id": "cdf93882-a79b-4ff4-8fbf-4f6d21a024dd",
   "metadata": {},
   "outputs": [],
   "source": []
  },
  {
   "cell_type": "code",
   "execution_count": null,
   "id": "df225c52-3fdc-4030-befa-e24bc618989f",
   "metadata": {},
   "outputs": [],
   "source": []
  },
  {
   "cell_type": "code",
   "execution_count": null,
   "id": "c102a255-71d5-4477-91b7-6f70812b5ad7",
   "metadata": {},
   "outputs": [],
   "source": []
  },
  {
   "cell_type": "code",
   "execution_count": null,
   "id": "99918527-c40b-4472-9366-5649a5384234",
   "metadata": {},
   "outputs": [],
   "source": []
  },
  {
   "cell_type": "code",
   "execution_count": null,
   "id": "236401b9-822b-4b5d-a34e-c443bad59d3c",
   "metadata": {},
   "outputs": [],
   "source": []
  },
  {
   "cell_type": "code",
   "execution_count": null,
   "id": "eba4733c-77e1-4388-9312-b48f54652976",
   "metadata": {},
   "outputs": [],
   "source": []
  },
  {
   "cell_type": "code",
   "execution_count": null,
   "id": "f322b6ad-345c-4d68-b1a0-c713b72a75ad",
   "metadata": {},
   "outputs": [],
   "source": []
  },
  {
   "cell_type": "code",
   "execution_count": null,
   "id": "43dde63c-5395-4ffd-a38c-2edf969f69c7",
   "metadata": {},
   "outputs": [],
   "source": []
  },
  {
   "cell_type": "code",
   "execution_count": null,
   "id": "7bad9acf-4929-4690-aef7-00d97916deca",
   "metadata": {},
   "outputs": [],
   "source": []
  },
  {
   "cell_type": "code",
   "execution_count": 3,
   "id": "a23b903a-f0b6-4e49-b7cf-496c914990c9",
   "metadata": {},
   "outputs": [],
   "source": [
    "chunk = 1024 \n",
    "sample_format = pyaudio.paInt16  \n",
    "chanels = 1\n",
    "sr = 44100 \n",
    "seconds = 4"
   ]
  },
  {
   "cell_type": "code",
   "execution_count": 4,
   "id": "20481c01-9432-4f24-91b0-c487d6ee650c",
   "metadata": {},
   "outputs": [
    {
     "name": "stdout",
     "output_type": "stream",
     "text": [
      "Recording...\n"
     ]
    }
   ],
   "source": [
    "p = pyaudio.PyAudio()  \n",
    "\n",
    "stream = p.open(format=sample_format,\n",
    "                 channels=chanels, \n",
    "                 rate=sr, input=True, \n",
    "                 frames_per_buffer=chunk)\n",
    " \n",
    "print('Recording...')\n",
    "# Initialize array that be used for storing frames\n",
    "frames = []  \n",
    " \n",
    "# Store data in chunks for 8 seconds\n",
    "for i in range(0, int(sr / chunk * seconds)):\n",
    "    data = stream.read(chunk)\n",
    "    frames.append(data)\n",
    "frames = b''.join(frames)\n",
    "# Stop and close the stream \n",
    "stream.stop_stream()\n",
    "stream.close()\n",
    " \n",
    "# Terminate - PortAudio interface\n",
    "p.terminate()"
   ]
  },
  {
   "cell_type": "code",
   "execution_count": null,
   "id": "7c967f06-c903-4bd7-a3eb-318e614559d4",
   "metadata": {},
   "outputs": [],
   "source": [
    "notes = []\n",
    "times = []\n",
    "def callback(in_data, frame_count, time_info, status):\n",
    "    # print(in_data)     # takes too long in callback\n",
    "    global notes, times\n",
    "    time, frequency, _, _ = crepe.predict(in_data, 44100, viterbi=True)\n",
    "    notes.append(frequency)\n",
    "    times.append(time)\n",
    "    # print(rms)  # new # takes too long in callback\n",
    "    return in_data, pyaudio.paContinue\n",
    "\n",
    "\n",
    "stream = p.open(format=p.get_format_from_width(WIDTH),\n",
    "                channels=CHANNELS,\n",
    "                rate=RATE,\n",
    "                input=True,\n",
    "                output=True,\n",
    "                stream_callback=callback)\n",
    "\n",
    "stream.start_stream()\n",
    "\n",
    "# while stream.is_active():  # <--------------------------------------------\n",
    "#     print(rms)    # may be losing some values if sleeping too long, didn't check\n",
    "#     time.sleep(0.1)\n",
    "\n",
    "stream.stop_stream()\n",
    "stream.close()\n",
    "\n",
    "p.terminate()"
   ]
  },
  {
   "cell_type": "code",
   "execution_count": null,
   "id": "f9889b76-ba8a-486f-a961-570955ee2b7a",
   "metadata": {},
   "outputs": [],
   "source": []
  },
  {
   "cell_type": "code",
   "execution_count": null,
   "id": "a85529c5-750a-4061-bd30-c3e2a78187df",
   "metadata": {},
   "outputs": [],
   "source": []
  },
  {
   "cell_type": "code",
   "execution_count": null,
   "id": "ead6b728-c4f2-4a1f-b289-9d3af17e2b25",
   "metadata": {},
   "outputs": [],
   "source": []
  },
  {
   "cell_type": "code",
   "execution_count": null,
   "id": "22310457-90a2-43c2-a467-5c34251229aa",
   "metadata": {},
   "outputs": [],
   "source": []
  },
  {
   "cell_type": "code",
   "execution_count": null,
   "id": "e48de8b2-79f3-4b74-a31c-c3cce21b3e1d",
   "metadata": {},
   "outputs": [],
   "source": []
  },
  {
   "cell_type": "code",
   "execution_count": null,
   "id": "c955a60b-7e68-45ae-a8d7-0ccd76c4c080",
   "metadata": {},
   "outputs": [],
   "source": []
  },
  {
   "cell_type": "code",
   "execution_count": null,
   "id": "ad5cce75-3e29-4e60-bd74-402b741cc634",
   "metadata": {},
   "outputs": [],
   "source": []
  },
  {
   "cell_type": "code",
   "execution_count": null,
   "id": "cd2efda7-4ac1-4735-b1b3-96a06927e4cd",
   "metadata": {},
   "outputs": [],
   "source": []
  },
  {
   "cell_type": "code",
   "execution_count": null,
   "id": "956b8af0-f225-46de-ae5d-36f589a8ea4c",
   "metadata": {},
   "outputs": [],
   "source": []
  },
  {
   "cell_type": "code",
   "execution_count": null,
   "id": "fe2e880f-4d5d-4912-9861-d301bd303075",
   "metadata": {},
   "outputs": [],
   "source": []
  },
  {
   "cell_type": "code",
   "execution_count": 21,
   "id": "5b3ee69d-067c-4d51-90e2-7ccebc52b1e6",
   "metadata": {},
   "outputs": [],
   "source": [
    "chunk = 1024 \n",
    "sample_format = pyaudio.paInt16  \n",
    "chanels = 1\n",
    "sr = 44100 \n",
    "seconds = 4"
   ]
  },
  {
   "cell_type": "code",
   "execution_count": 22,
   "id": "a11ca666-372e-41e8-9481-24be85b78c44",
   "metadata": {},
   "outputs": [
    {
     "name": "stdout",
     "output_type": "stream",
     "text": [
      "Recording...\n"
     ]
    }
   ],
   "source": [
    "pa = pyaudio.PyAudio()  \n",
    "\n",
    "stream = pa.open(format=sample_format, channels=chanels, \n",
    "                 rate=sr, input=True, \n",
    "                 frames_per_buffer=chunk)\n",
    " \n",
    "print('Recording...')\n",
    "# Initialize array that be used for storing frames\n",
    "frames = []  \n",
    " \n",
    "# Store data in chunks for 8 seconds\n",
    "for i in range(0, int(sr / chunk * seconds)):\n",
    "    data = stream.read(chunk)\n",
    "    frames.append(data)\n",
    "frames = b''.join(frames)\n",
    "# Stop and close the stream \n",
    "stream.stop_stream()\n",
    "stream.close()\n",
    " \n",
    "# Terminate - PortAudio interface\n",
    "pa.terminate()"
   ]
  },
  {
   "cell_type": "code",
   "execution_count": 23,
   "id": "ac1e3330-acba-4628-ad96-2bc052194cb2",
   "metadata": {},
   "outputs": [
    {
     "data": {
      "text/plain": [
       "352256"
      ]
     },
     "execution_count": 23,
     "metadata": {},
     "output_type": "execute_result"
    }
   ],
   "source": [
    "len(frames)"
   ]
  },
  {
   "cell_type": "code",
   "execution_count": 16,
   "id": "f860708b-059d-4089-b612-9292a553afcb",
   "metadata": {},
   "outputs": [
    {
     "data": {
      "text/plain": [
       "0.046511627906976744"
      ]
     },
     "execution_count": 16,
     "metadata": {},
     "output_type": "execute_result"
    }
   ],
   "source": [
    "4/86"
   ]
  },
  {
   "cell_type": "code",
   "execution_count": 24,
   "id": "b6096fca-b3e5-4195-8220-9e30f263dc9a",
   "metadata": {},
   "outputs": [],
   "source": [
    "amplitude = np.frombuffer(frames, np.int16)"
   ]
  },
  {
   "cell_type": "code",
   "execution_count": 25,
   "id": "47e3ec1d-43b2-4923-969a-74ba3bf79846",
   "metadata": {},
   "outputs": [
    {
     "data": {
      "text/plain": [
       "[<matplotlib.lines.Line2D at 0x1caf40acd30>]"
      ]
     },
     "execution_count": 25,
     "metadata": {},
     "output_type": "execute_result"
    },
    {
     "data": {
      "image/png": "[encoded data removed]",
      "text/plain": [
       "<Figure size 640x480 with 1 Axes>"
      ]
     },
     "metadata": {},
     "output_type": "display_data"
    }
   ],
   "source": [
    "plt.plot(amplitude)"
   ]
  },
  {
   "cell_type": "code",
   "execution_count": null,
   "id": "8be95c75-c6aa-4f3e-a2ae-07d65d8c03e7",
   "metadata": {},
   "outputs": [],
   "source": [
    "amplitude[:500]"
   ]
  },
  {
   "cell_type": "code",
   "execution_count": null,
   "id": "b7cdf8d5-6589-4e4c-ab41-ebe3550e6eb5",
   "metadata": {},
   "outputs": [],
   "source": []
  },
  {
   "cell_type": "code",
   "execution_count": 31,
   "id": "78a3e649-204b-4168-bdaf-624d6c2e9ac1",
   "metadata": {},
   "outputs": [
    {
     "name": "stdout",
     "output_type": "stream",
     "text": [
      "1/1 [==============================] - 0s 25ms/step\n"
     ]
    }
   ],
   "source": [
    "time, frequency, confidence, activation = crepe.predict(amplitude[:1024], 44100, viterbi=True)"
   ]
  },
  {
   "cell_type": "code",
   "execution_count": null,
   "id": "cb857dcc-3022-4a94-a632-558985e6942c",
   "metadata": {},
   "outputs": [],
   "source": []
  },
  {
   "cell_type": "code",
   "execution_count": null,
   "id": "a2d4c2ac-b4a3-417c-9dda-58b093f5ae27",
   "metadata": {},
   "outputs": [],
   "source": []
  },
  {
   "cell_type": "code",
   "execution_count": 58,
   "id": "23bab4dc-24e7-4146-a6c3-554cd44435ef",
   "metadata": {},
   "outputs": [],
   "source": [
    "def freq_to_note(freq):\n",
    "    notes = ['A', 'A#', 'B', 'C', 'C#', 'D', 'D#', 'E', 'F', 'F#', 'G', 'G#']\n",
    "\n",
    "    note_number = 12 * np.log2(freq / 440) + 49  \n",
    "    note_number = round(note_number)\n",
    "        \n",
    "    note = (note_number - 1 ) % len(notes)\n",
    "    note = notes[note]\n",
    "    \n",
    "    octave = (note_number + 8 ) // len(notes)\n",
    "    \n",
    "    return f\"{note}_{octave}\""
   ]
  },
  {
   "cell_type": "code",
   "execution_count": 62,
   "id": "77f125dc-13a2-41a9-946c-3960718875c7",
   "metadata": {},
   "outputs": [
    {
     "data": {
      "text/plain": [
       "'C#_3'"
      ]
     },
     "execution_count": 62,
     "metadata": {},
     "output_type": "execute_result"
    }
   ],
   "source": [
    "freq_to_note(141)"
   ]
  },
  {
   "cell_type": "code",
   "execution_count": null,
   "id": "0ccf1b74-7e7d-46aa-a0a8-c3d5076eacf7",
   "metadata": {},
   "outputs": [],
   "source": [
    "frequency"
   ]
  },
  {
   "cell_type": "code",
   "execution_count": 33,
   "id": "3d395c66-8fb8-45b7-a5c3-75b4925f8f33",
   "metadata": {},
   "outputs": [
    {
     "data": {
      "text/plain": [
       "[<matplotlib.lines.Line2D at 0x1caf5c4eb90>]"
      ]
     },
     "execution_count": 33,
     "metadata": {},
     "output_type": "execute_result"
    },
    {
     "data": {
      "image/png": "[encoded data removed]",
      "text/plain": [
       "<Figure size 640x480 with 1 Axes>"
      ]
     },
     "metadata": {},
     "output_type": "display_data"
    }
   ],
   "source": [
    "plt.plot(frequency)\n",
    "# plt.ylim(100,140)"
   ]
  },
  {
   "cell_type": "code",
   "execution_count": null,
   "id": "e059f2a5-47b4-4f09-bd37-56484cdb7699",
   "metadata": {},
   "outputs": [],
   "source": []
  },
  {
   "cell_type": "code",
   "execution_count": null,
   "id": "3026a1d9-25f5-4241-9d5b-c73436ca42b3",
   "metadata": {},
   "outputs": [],
   "source": []
  },
  {
   "cell_type": "code",
   "execution_count": null,
   "id": "a20cf7f6-e636-4424-8271-c683bf04f392",
   "metadata": {},
   "outputs": [],
   "source": []
  },
  {
   "cell_type": "code",
   "execution_count": null,
   "id": "eb3be46c-584c-4b7b-8dbc-60d09a02407d",
   "metadata": {},
   "outputs": [],
   "source": []
  },
  {
   "cell_type": "code",
   "execution_count": null,
   "id": "560cad3b-f501-4da4-be9f-c6bd2be3c7e7",
   "metadata": {},
   "outputs": [],
   "source": []
  },
  {
   "cell_type": "code",
   "execution_count": null,
   "id": "e973354f-d6d9-4b01-a7b2-60083cd0a612",
   "metadata": {},
   "outputs": [],
   "source": []
  },
  {
   "cell_type": "code",
   "execution_count": null,
   "id": "66929775-2175-4145-83ec-23f8e66d80aa",
   "metadata": {},
   "outputs": [],
   "source": []
  },
  {
   "cell_type": "code",
   "execution_count": null,
   "id": "106e65af-e52f-4d21-b01d-652f6fae6908",
   "metadata": {},
   "outputs": [],
   "source": []
  },
  {
   "cell_type": "code",
   "execution_count": null,
   "id": "1444a2aa-e8fa-4ee1-bc50-2522272a1502",
   "metadata": {},
   "outputs": [],
   "source": []
  },
  {
   "cell_type": "code",
   "execution_count": null,
   "id": "74cf6f32-7cf6-4e89-97b0-08b4e713957f",
   "metadata": {},
   "outputs": [],
   "source": []
  },
  {
   "cell_type": "code",
   "execution_count": null,
   "id": "c9e77964-b375-4dee-8477-9e8c1e4cb87b",
   "metadata": {},
   "outputs": [],
   "source": []
  },
  {
   "cell_type": "code",
   "execution_count": 16,
   "id": "377bd2d0-c187-4503-ba76-ddcc319b675c",
   "metadata": {},
   "outputs": [],
   "source": [
    "audio_folder = \"raw_data/raw_audio\"\n",
    "voices_folder = \"raw_data/voices\""
   ]
  },
  {
   "cell_type": "code",
   "execution_count": 17,
   "id": "c27b21bb-f025-4f6b-badc-1ed85dd172de",
   "metadata": {},
   "outputs": [],
   "source": [
    "song_folder_url = \"White_Copper_Alley___Lass_of_London_City_-_Ménestrel\"\n",
    "song_voice_url = \"vocals.wav\""
   ]
  },
  {
   "cell_type": "code",
   "execution_count": 18,
   "id": "9819b8a0-7eb5-4caa-86a1-209c0f0180b5",
   "metadata": {},
   "outputs": [],
   "source": [
    "song = os.path.join(voices_folder, song_folder_url, song_voice_url)"
   ]
  },
  {
   "cell_type": "code",
   "execution_count": null,
   "id": "bd7c5676-4ef1-4507-bd52-6d8b8107065f",
   "metadata": {},
   "outputs": [],
   "source": []
  },
  {
   "cell_type": "code",
   "execution_count": 19,
   "id": "a069175b-b39a-4409-bcaa-ef4b9e206471",
   "metadata": {},
   "outputs": [],
   "source": [
    "sr, audio = wavfile.read(song)"
   ]
  },
  {
   "cell_type": "code",
   "execution_count": null,
   "id": "2f9e74f5-c455-4b0a-93b0-74a4ec3caee3",
   "metadata": {},
   "outputs": [],
   "source": [
    "audio[350_000:350_050]"
   ]
  },
  {
   "cell_type": "code",
   "execution_count": null,
   "id": "8b0f8946-e978-4854-9d71-661be34f05a1",
   "metadata": {},
   "outputs": [],
   "source": []
  },
  {
   "cell_type": "code",
   "execution_count": null,
   "id": "f60acf5c-0e37-4f46-86c7-a5a74995ad0e",
   "metadata": {},
   "outputs": [],
   "source": []
  },
  {
   "cell_type": "code",
   "execution_count": 7,
   "id": "5e3ed43e-2a39-4ebd-a141-0cb3c5cbe91a",
   "metadata": {},
   "outputs": [
    {
     "name": "stdout",
     "output_type": "stream",
     "text": [
      "532/532 [==============================] - 12s 20ms/step\n"
     ]
    }
   ],
   "source": [
    "time, frequency, confidence, activation = crepe.predict(audio, sr, viterbi=True)"
   ]
  },
  {
   "cell_type": "code",
   "execution_count": 8,
   "id": "760b0f18-dcce-462a-aa01-e06c713997d8",
   "metadata": {},
   "outputs": [
    {
     "data": {
      "text/plain": [
       "17023"
      ]
     },
     "execution_count": 8,
     "metadata": {},
     "output_type": "execute_result"
    }
   ],
   "source": [
    "len(time)"
   ]
  },
  {
   "cell_type": "code",
   "execution_count": 9,
   "id": "7ea912e6-1b55-4c83-9c0c-7af9be47b2d7",
   "metadata": {},
   "outputs": [
    {
     "data": {
      "text/plain": [
       "17023"
      ]
     },
     "execution_count": 9,
     "metadata": {},
     "output_type": "execute_result"
    }
   ],
   "source": [
    "len(frequency)"
   ]
  },
  {
   "cell_type": "code",
   "execution_count": 10,
   "id": "695034d1-026d-41e8-97ff-dcaca12fe58d",
   "metadata": {},
   "outputs": [
    {
     "data": {
      "text/plain": [
       "17023"
      ]
     },
     "execution_count": 10,
     "metadata": {},
     "output_type": "execute_result"
    }
   ],
   "source": [
    "len(confidence)"
   ]
  },
  {
   "cell_type": "code",
   "execution_count": 11,
   "id": "3a3bf723-4869-492f-91f1-191a2bcadccb",
   "metadata": {},
   "outputs": [
    {
     "data": {
      "text/plain": [
       "17023"
      ]
     },
     "execution_count": 11,
     "metadata": {},
     "output_type": "execute_result"
    }
   ],
   "source": [
    "len(activation)"
   ]
  },
  {
   "cell_type": "code",
   "execution_count": null,
   "id": "19b4dca2-e5f7-4ab2-bec0-6b5cf58dd925",
   "metadata": {},
   "outputs": [],
   "source": []
  },
  {
   "cell_type": "code",
   "execution_count": 12,
   "id": "329a3256-800c-40ed-9394-9927c99c6160",
   "metadata": {},
   "outputs": [],
   "source": [
    "time_split = time[2000:3000]\n",
    "freq_split = frequency[2000:3000]"
   ]
  },
  {
   "cell_type": "code",
   "execution_count": 13,
   "id": "f68ffee1-0881-4a9f-a9e5-57ed974d1ac5",
   "metadata": {},
   "outputs": [
    {
     "data": {
      "text/plain": [
       "1000"
      ]
     },
     "execution_count": 13,
     "metadata": {},
     "output_type": "execute_result"
    }
   ],
   "source": [
    "len(freq_split)"
   ]
  },
  {
   "cell_type": "code",
   "execution_count": 14,
   "id": "609189a4-5714-46a6-a770-e19ec59a0b01",
   "metadata": {},
   "outputs": [],
   "source": [
    "# Essentia is needed but only works in Linux\n",
    "# ALthough it seems crepe is fine, maybe we'll never know\n",
    "# [x if x<550 and x>180 else None for x in freq_split]"
   ]
  },
  {
   "cell_type": "code",
   "execution_count": 20,
   "id": "d0321add-e09c-4311-bc19-495c416b8a94",
   "metadata": {},
   "outputs": [
    {
     "data": {
      "text/plain": [
       "<matplotlib.collections.PathCollection at 0x221ef79dde0>"
      ]
     },
     "execution_count": 20,
     "metadata": {},
     "output_type": "execute_result"
    },
    {
     "data": {
      "image/png": "[encoded data removed]",
      "text/plain": [
       "<Figure size 1000x600 with 1 Axes>"
      ]
     },
     "metadata": {},
     "output_type": "display_data"
    }
   ],
   "source": [
    "plt.figure(figsize=(10,6))\n",
    "mean = np.mean(freq_split)\n",
    "std = np.std(freq_split)\n",
    "plt.scatter(time_split,[x if x<(mean+std) and x>(mean-std) else None for x in freq_split], alpha = 0.3)"
   ]
  },
  {
   "cell_type": "code",
   "execution_count": 25,
   "id": "43a5acec-022e-4d9e-ba94-53ca12c81f53",
   "metadata": {},
   "outputs": [],
   "source": []
  },
  {
   "cell_type": "code",
   "execution_count": 27,
   "id": "0695346b-4681-427f-ae73-1523a6d9edc9",
   "metadata": {},
   "outputs": [
    {
     "data": {
      "text/plain": [
       "209.50106670972906"
      ]
     },
     "execution_count": 27,
     "metadata": {},
     "output_type": "execute_result"
    }
   ],
   "source": [
    "np.std(freq_split)"
   ]
  },
  {
   "cell_type": "code",
   "execution_count": null,
   "id": "c210216d-0522-4213-9d3d-464e37d9716a",
   "metadata": {},
   "outputs": [],
   "source": []
  },
  {
   "cell_type": "code",
   "execution_count": null,
   "id": "139c34b6-eb76-47d4-9344-77a563159eb7",
   "metadata": {},
   "outputs": [],
   "source": []
  },
  {
   "cell_type": "code",
   "execution_count": 35,
   "id": "19ec4ce8-39cb-40f0-b2c2-93d025e6af93",
   "metadata": {},
   "outputs": [
    {
     "data": {
      "text/plain": [
       "17023"
      ]
     },
     "execution_count": 35,
     "metadata": {},
     "output_type": "execute_result"
    }
   ],
   "source": [
    "len(time)"
   ]
  },
  {
   "cell_type": "code",
   "execution_count": 36,
   "id": "cf208234-ff3a-4a2d-aaa1-b4813d97ef76",
   "metadata": {},
   "outputs": [
    {
     "data": {
      "text/plain": [
       "17023"
      ]
     },
     "execution_count": 36,
     "metadata": {},
     "output_type": "execute_result"
    }
   ],
   "source": [
    "len(frequency)"
   ]
  },
  {
   "cell_type": "code",
   "execution_count": null,
   "id": "5f8d3df7-f1f2-4d21-8e14-157b99db52ef",
   "metadata": {},
   "outputs": [],
   "source": []
  },
  {
   "cell_type": "code",
   "execution_count": null,
   "id": "f20ca838-e4af-4345-b0f5-767b6280e909",
   "metadata": {},
   "outputs": [],
   "source": []
  },
  {
   "cell_type": "code",
   "execution_count": null,
   "id": "6e42ab60-4c81-4c31-96d0-da2b2802eeda",
   "metadata": {},
   "outputs": [],
   "source": []
  },
  {
   "cell_type": "code",
   "execution_count": null,
   "id": "973f827e-be9f-47dc-b74e-7b9456485838",
   "metadata": {},
   "outputs": [],
   "source": []
  },
  {
   "cell_type": "code",
   "execution_count": null,
   "id": "99593cf8-a681-44dc-9e63-07063def3685",
   "metadata": {},
   "outputs": [],
   "source": []
  },
  {
   "cell_type": "code",
   "execution_count": null,
   "id": "9d5ccbe6-8d5c-4a3c-b29e-5c320db96053",
   "metadata": {},
   "outputs": [],
   "source": []
  },
  {
   "cell_type": "code",
   "execution_count": 5,
   "id": "bb983a40-5381-4d9e-9523-f72733be1087",
   "metadata": {},
   "outputs": [],
   "source": [
    "from spleeter.separator import Separator"
   ]
  },
  {
   "cell_type": "code",
   "execution_count": null,
   "id": "36beadd8-d357-4106-95a9-de0308ab1420",
   "metadata": {},
   "outputs": [],
   "source": [
    "separator = Separator(f\"spleeter:2stems\")\n",
    "separator.separate_to_file(song,\n",
    "                        \"raw_data/voices\",\n",
    "                        duration = 540,\n",
    "                        codec='wav',\n",
    "                        filename_format='{filename}/{instrument}.{codec}')"
   ]
  },
  {
   "cell_type": "code",
   "execution_count": null,
   "id": "44b4855e-7a77-44a4-aa0a-baa3a753fa23",
   "metadata": {},
   "outputs": [],
   "source": []
  },
  {
   "cell_type": "code",
   "execution_count": null,
   "id": "55667539-e6ea-42a5-8c73-fa0ee386517e",
   "metadata": {},
   "outputs": [],
   "source": []
  },
  {
   "cell_type": "code",
   "execution_count": 11,
   "id": "d05f6c98-41e8-4b5f-a8cf-df5f25f7cf8e",
   "metadata": {},
   "outputs": [],
   "source": [
    "one = videos_waiting_for_extract()[0]"
   ]
  },
  {
   "cell_type": "code",
   "execution_count": 12,
   "id": "aba3a09c-0503-4343-bf04-43e4cfc77993",
   "metadata": {},
   "outputs": [
    {
     "data": {
      "text/plain": [
       "'raw_data/raw_video/Che_si_può_fare_-_Barbara_Strozzi_(1619–1677)_-_Ménestrel/Che si può fare - Barbara Strozzi (1619–1677) - Ménestrel.m4a'"
      ]
     },
     "execution_count": 12,
     "metadata": {},
     "output_type": "execute_result"
    }
   ],
   "source": [
    "one"
   ]
  },
  {
   "cell_type": "code",
   "execution_count": 6,
   "id": "adf9a48a-545c-46af-9be0-f504aacfa374",
   "metadata": {},
   "outputs": [],
   "source": [
    "import os\n",
    "import ffmpeg\n",
    "import string"
   ]
  },
  {
   "cell_type": "code",
   "execution_count": null,
   "id": "2a6591e2-5679-48b1-bde3-a1a9fca58ae3",
   "metadata": {},
   "outputs": [],
   "source": []
  },
  {
   "cell_type": "code",
   "execution_count": null,
   "id": "39be67a9-e0c0-4d5a-8ad5-89086a19f733",
   "metadata": {},
   "outputs": [],
   "source": []
  },
  {
   "cell_type": "code",
   "execution_count": null,
   "id": "eb838c06-9f7b-4f51-821d-f0467f9a50d4",
   "metadata": {},
   "outputs": [],
   "source": []
  },
  {
   "cell_type": "code",
   "execution_count": null,
   "id": "7d7765c3-d036-41b5-98ba-3ab4e6dd2ce1",
   "metadata": {},
   "outputs": [],
   "source": []
  },
  {
   "cell_type": "code",
   "execution_count": null,
   "id": "efc94de6-f0e2-4930-a5fb-a67ea02bf91c",
   "metadata": {},
   "outputs": [],
   "source": []
  },
  {
   "cell_type": "code",
   "execution_count": null,
   "id": "ce7e4848-8449-4432-9447-5c97dcdabd2a",
   "metadata": {},
   "outputs": [],
   "source": []
  },
  {
   "cell_type": "code",
   "execution_count": null,
   "id": "a9e68175-fd3d-450d-aced-ab3a68f24777",
   "metadata": {},
   "outputs": [],
   "source": []
  },
  {
   "cell_type": "code",
   "execution_count": 5,
   "id": "3d98d7fd-5252-4b90-b82f-6e11dd5adc6a",
   "metadata": {},
   "outputs": [
    {
     "ename": "SyntaxError",
     "evalue": "unterminated string literal (detected at line 1) (3270841329.py, line 1)",
     "output_type": "error",
     "traceback": [
      "\u001b[1;36m  Cell \u001b[1;32mIn[5], line 1\u001b[1;36m\u001b[0m\n\u001b[1;33m    Sona_Is_A_Chill_Mom__Conan_O'Brien_Needs_A_Friend.m4a\u001b[0m\n\u001b[1;37m                                ^\u001b[0m\n\u001b[1;31mSyntaxError\u001b[0m\u001b[1;31m:\u001b[0m unterminated string literal (detected at line 1)\n"
     ]
    }
   ],
   "source": [
    "# Sona_Is_A_Chill_Mom__Conan_O'Brien_Needs_A_Friend.m4a"
   ]
  },
  {
   "cell_type": "code",
   "execution_count": null,
   "id": "70a6cfe0-2999-4e43-a021-8e4ca320015f",
   "metadata": {},
   "outputs": [],
   "source": []
  },
  {
   "cell_type": "code",
   "execution_count": null,
   "id": "9c4cb196-5724-484c-8a01-2188a59127ef",
   "metadata": {},
   "outputs": [],
   "source": []
  },
  {
   "cell_type": "code",
   "execution_count": null,
   "id": "c21f36e6-ad80-4cf3-9898-ed05f5c7de3e",
   "metadata": {},
   "outputs": [],
   "source": []
  },
  {
   "cell_type": "code",
   "execution_count": null,
   "id": "f8bfa8fc-42b4-4251-92d3-f95ab41fda19",
   "metadata": {},
   "outputs": [],
   "source": []
  },
  {
   "cell_type": "code",
   "execution_count": null,
   "id": "543a05ba-c113-4580-bc94-57814ae566f9",
   "metadata": {},
   "outputs": [],
   "source": []
  },
  {
   "cell_type": "code",
   "execution_count": null,
   "id": "64e956bb-9c57-43a6-9fee-aa69b3fdbc37",
   "metadata": {},
   "outputs": [],
   "source": []
  },
  {
   "cell_type": "code",
   "execution_count": null,
   "id": "cd4d3c20-041d-4121-ac71-0418e8a05996",
   "metadata": {},
   "outputs": [],
   "source": []
  },
  {
   "cell_type": "code",
   "execution_count": null,
   "id": "0b2d0302-7020-4b9b-be14-1e90e999bcaa",
   "metadata": {},
   "outputs": [],
   "source": []
  },
  {
   "cell_type": "code",
   "execution_count": 6,
   "id": "53d7379b-81fb-4a12-b23c-632bc800cbdf",
   "metadata": {},
   "outputs": [],
   "source": []
  },
  {
   "cell_type": "code",
   "execution_count": 7,
   "id": "773499c5-0a8e-499b-8fb7-c8a7e78ba6ba",
   "metadata": {},
   "outputs": [
    {
     "data": {
      "text/plain": [
       "\"raw_data/raw_audio/Sona_Is_A_Chill_Mom__Conan_O'Brien_Needs_A_Friend/Sona Is A Chill Mom  Conan O'Brien Needs A Friend.m4a\""
      ]
     },
     "execution_count": 7,
     "metadata": {},
     "output_type": "execute_result"
    }
   ],
   "source": [
    "one"
   ]
  },
  {
   "cell_type": "code",
   "execution_count": 9,
   "id": "a3f33094-2444-4980-81bd-4a40c98ca179",
   "metadata": {},
   "outputs": [
    {
     "ename": "Error",
     "evalue": "file does not start with RIFF id",
     "output_type": "error",
     "traceback": [
      "\u001b[1;31m---------------------------------------------------------------------------\u001b[0m",
      "\u001b[1;31mError\u001b[0m                                     Traceback (most recent call last)",
      "Cell \u001b[1;32mIn[9], line 1\u001b[0m\n\u001b[1;32m----> 1\u001b[0m wf \u001b[38;5;241m=\u001b[39m \u001b[43mwave\u001b[49m\u001b[38;5;241;43m.\u001b[39;49m\u001b[43mopen\u001b[49m\u001b[43m(\u001b[49m\u001b[43mone\u001b[49m\u001b[43m)\u001b[49m\n",
      "File \u001b[1;32m~\\.conda\\envs\\audios\\lib\\wave.py:509\u001b[0m, in \u001b[0;36mopen\u001b[1;34m(f, mode)\u001b[0m\n\u001b[0;32m    507\u001b[0m         mode \u001b[38;5;241m=\u001b[39m \u001b[38;5;124m'\u001b[39m\u001b[38;5;124mrb\u001b[39m\u001b[38;5;124m'\u001b[39m\n\u001b[0;32m    508\u001b[0m \u001b[38;5;28;01mif\u001b[39;00m mode \u001b[38;5;129;01min\u001b[39;00m (\u001b[38;5;124m'\u001b[39m\u001b[38;5;124mr\u001b[39m\u001b[38;5;124m'\u001b[39m, \u001b[38;5;124m'\u001b[39m\u001b[38;5;124mrb\u001b[39m\u001b[38;5;124m'\u001b[39m):\n\u001b[1;32m--> 509\u001b[0m     \u001b[38;5;28;01mreturn\u001b[39;00m \u001b[43mWave_read\u001b[49m\u001b[43m(\u001b[49m\u001b[43mf\u001b[49m\u001b[43m)\u001b[49m\n\u001b[0;32m    510\u001b[0m \u001b[38;5;28;01melif\u001b[39;00m mode \u001b[38;5;129;01min\u001b[39;00m (\u001b[38;5;124m'\u001b[39m\u001b[38;5;124mw\u001b[39m\u001b[38;5;124m'\u001b[39m, \u001b[38;5;124m'\u001b[39m\u001b[38;5;124mwb\u001b[39m\u001b[38;5;124m'\u001b[39m):\n\u001b[0;32m    511\u001b[0m     \u001b[38;5;28;01mreturn\u001b[39;00m Wave_write(f)\n",
      "File \u001b[1;32m~\\.conda\\envs\\audios\\lib\\wave.py:163\u001b[0m, in \u001b[0;36mWave_read.__init__\u001b[1;34m(self, f)\u001b[0m\n\u001b[0;32m    161\u001b[0m \u001b[38;5;66;03m# else, assume it is an open file object already\u001b[39;00m\n\u001b[0;32m    162\u001b[0m \u001b[38;5;28;01mtry\u001b[39;00m:\n\u001b[1;32m--> 163\u001b[0m     \u001b[38;5;28;43mself\u001b[39;49m\u001b[38;5;241;43m.\u001b[39;49m\u001b[43minitfp\u001b[49m\u001b[43m(\u001b[49m\u001b[43mf\u001b[49m\u001b[43m)\u001b[49m\n\u001b[0;32m    164\u001b[0m \u001b[38;5;28;01mexcept\u001b[39;00m:\n\u001b[0;32m    165\u001b[0m     \u001b[38;5;28;01mif\u001b[39;00m \u001b[38;5;28mself\u001b[39m\u001b[38;5;241m.\u001b[39m_i_opened_the_file:\n",
      "File \u001b[1;32m~\\.conda\\envs\\audios\\lib\\wave.py:130\u001b[0m, in \u001b[0;36mWave_read.initfp\u001b[1;34m(self, file)\u001b[0m\n\u001b[0;32m    128\u001b[0m \u001b[38;5;28mself\u001b[39m\u001b[38;5;241m.\u001b[39m_file \u001b[38;5;241m=\u001b[39m Chunk(file, bigendian \u001b[38;5;241m=\u001b[39m \u001b[38;5;241m0\u001b[39m)\n\u001b[0;32m    129\u001b[0m \u001b[38;5;28;01mif\u001b[39;00m \u001b[38;5;28mself\u001b[39m\u001b[38;5;241m.\u001b[39m_file\u001b[38;5;241m.\u001b[39mgetname() \u001b[38;5;241m!=\u001b[39m \u001b[38;5;124mb\u001b[39m\u001b[38;5;124m'\u001b[39m\u001b[38;5;124mRIFF\u001b[39m\u001b[38;5;124m'\u001b[39m:\n\u001b[1;32m--> 130\u001b[0m     \u001b[38;5;28;01mraise\u001b[39;00m Error(\u001b[38;5;124m'\u001b[39m\u001b[38;5;124mfile does not start with RIFF id\u001b[39m\u001b[38;5;124m'\u001b[39m)\n\u001b[0;32m    131\u001b[0m \u001b[38;5;28;01mif\u001b[39;00m \u001b[38;5;28mself\u001b[39m\u001b[38;5;241m.\u001b[39m_file\u001b[38;5;241m.\u001b[39mread(\u001b[38;5;241m4\u001b[39m) \u001b[38;5;241m!=\u001b[39m \u001b[38;5;124mb\u001b[39m\u001b[38;5;124m'\u001b[39m\u001b[38;5;124mWAVE\u001b[39m\u001b[38;5;124m'\u001b[39m:\n\u001b[0;32m    132\u001b[0m     \u001b[38;5;28;01mraise\u001b[39;00m Error(\u001b[38;5;124m'\u001b[39m\u001b[38;5;124mnot a WAVE file\u001b[39m\u001b[38;5;124m'\u001b[39m)\n",
      "\u001b[1;31mError\u001b[0m: file does not start with RIFF id"
     ]
    }
   ],
   "source": [
    "wf = wave.open(one)"
   ]
  },
  {
   "cell_type": "code",
   "execution_count": null,
   "id": "820d564a-c21a-40cf-9676-180bf8ee6380",
   "metadata": {},
   "outputs": [],
   "source": []
  },
  {
   "cell_type": "code",
   "execution_count": null,
   "id": "d022cbaf-58e7-405e-a1cb-4e0fc6ccce9d",
   "metadata": {},
   "outputs": [],
   "source": []
  },
  {
   "cell_type": "code",
   "execution_count": 8,
   "id": "d095ed62-4f75-4e93-9dbd-668939ec206c",
   "metadata": {},
   "outputs": [
    {
     "name": "stdout",
     "output_type": "stream",
     "text": [
      "raw_data/raw_audio/Sona_Is_A_Chill_Mom__Conan_O'Brien_Needs_A_Friend\n"
     ]
    }
   ],
   "source": [
    "for song in songs:\n",
    "    print(videos_dir + \"/\" + song)"
   ]
  },
  {
   "cell_type": "code",
   "execution_count": null,
   "id": "3f9a093b-926f-4b4a-85ed-7da7658fba8b",
   "metadata": {},
   "outputs": [],
   "source": []
  },
  {
   "cell_type": "code",
   "execution_count": null,
   "id": "6c13bb7a-b357-4476-91d3-84d8c57cf4f9",
   "metadata": {},
   "outputs": [],
   "source": []
  },
  {
   "cell_type": "code",
   "execution_count": null,
   "id": "73ed6580-1cb7-4deb-a7c3-96b1214ae491",
   "metadata": {},
   "outputs": [],
   "source": []
  },
  {
   "cell_type": "code",
   "execution_count": 4,
   "id": "63561b9d-57ab-437b-8573-b22c03a39f07",
   "metadata": {},
   "outputs": [
    {
     "data": {
      "text/plain": [
       "'POPO WORKS'"
      ]
     },
     "execution_count": 4,
     "metadata": {},
     "output_type": "execute_result"
    }
   ],
   "source": [
    "separate_voice(audio_file, stems = 2)"
   ]
  },
  {
   "cell_type": "code",
   "execution_count": 8,
   "id": "167c92be-5792-424f-977f-7d996655b278",
   "metadata": {},
   "outputs": [
    {
     "data": {
      "text/plain": [
       "'C:\\\\Users\\\\chompu\\\\Desktop\\\\audio_windows\\\\sound_study\\\\marin_method'"
      ]
     },
     "execution_count": 8,
     "metadata": {},
     "output_type": "execute_result"
    }
   ],
   "source": [
    "os.getcwd()"
   ]
  },
  {
   "cell_type": "code",
   "execution_count": null,
   "id": "a721f4b6-8cde-4ff6-9f38-a3a0b734e37b",
   "metadata": {},
   "outputs": [],
   "source": []
  },
  {
   "cell_type": "code",
   "execution_count": null,
   "id": "06c759b8-4656-43e4-b25a-96b4971d6540",
   "metadata": {},
   "outputs": [],
   "source": []
  },
  {
   "cell_type": "code",
   "execution_count": null,
   "id": "f6f15b46-0cb2-4b18-94b3-ea2074b426f4",
   "metadata": {},
   "outputs": [],
   "source": []
  },
  {
   "cell_type": "code",
   "execution_count": null,
   "id": "3f3c9416-0077-440a-be5b-d25dabca0f58",
   "metadata": {},
   "outputs": [],
   "source": []
  },
  {
   "cell_type": "code",
   "execution_count": null,
   "id": "6d447bdd-5e63-4ca3-9ff9-f5aa267906d6",
   "metadata": {},
   "outputs": [],
   "source": []
  },
  {
   "cell_type": "code",
   "execution_count": 6,
   "id": "93039713-1d12-4703-8d23-b5483a85fb45",
   "metadata": {},
   "outputs": [],
   "source": [
    "import os\n",
    "import ffmpeg\n",
    "import string"
   ]
  },
  {
   "cell_type": "code",
   "execution_count": null,
   "id": "035e3cdd-d8e8-4653-8095-6367f90f8e79",
   "metadata": {},
   "outputs": [],
   "source": [
    "\n",
    "VIDEOS_URL = 'videos_from_yt'\n",
    "AUDIOS_URL = 'audios_from_yt'\n",
    "\n",
    "def convert_video_to_audio(title, encoder):\n",
    "    stream = ffmpeg.input(f\"{VIDEOS_URL}/{title}\")\n",
    "    stream = ffmpeg.output(stream, f\"{AUDIOS_URL}/{title}.{encoder}\")\n",
    "    ffmpeg.run(stream)\n",
    "    os.remove(os.path.join(VIDEOS_URL,title))"
   ]
  },
  {
   "cell_type": "code",
   "execution_count": null,
   "id": "21fcb1ef-0679-46c4-af28-513a317a53b5",
   "metadata": {},
   "outputs": [],
   "source": []
  },
  {
   "cell_type": "code",
   "execution_count": null,
   "id": "bcc6a000-b7ba-46b5-90a2-1b6de8bb7e59",
   "metadata": {},
   "outputs": [],
   "source": []
  },
  {
   "cell_type": "code",
   "execution_count": null,
   "id": "51053b4a-0d20-4240-bc1f-945a6d186508",
   "metadata": {},
   "outputs": [],
   "source": [
    "def callback(input_data, frame_count, time_info, flags):\n",
    "    ...\n",
    "\n",
    "    return input_data, pyaudio.paContinue\n",
    "\n",
    "stream = audio.open(format=FORMAT,\n",
    "                    channels=CHANNELS,\n",
    "                    rate=RATE,\n",
    "                    input=True,\n",
    "                    stream_callback=callback,\n",
    "                    frames_per_buffer=CHUNK)"
   ]
  },
  {
   "cell_type": "code",
   "execution_count": null,
   "id": "cc2d2cf5-31a1-4142-ae4b-06f5e307d247",
   "metadata": {},
   "outputs": [],
   "source": []
  },
  {
   "cell_type": "code",
   "execution_count": null,
   "id": "cd61ff2d-c861-4f9c-919b-793bc6a8eaab",
   "metadata": {},
   "outputs": [],
   "source": [
    "ys.__dict__"
   ]
  },
  {
   "cell_type": "code",
   "execution_count": null,
   "id": "c2b95079-d769-469b-a5b9-16c926943769",
   "metadata": {},
   "outputs": [],
   "source": [
    "ys.download()"
   ]
  },
  {
   "cell_type": "code",
   "execution_count": 5,
   "id": "b0f9fc82-20cc-4c1f-8676-10e1795acf43",
   "metadata": {},
   "outputs": [
    {
     "name": "stdout",
     "output_type": "stream",
     "text": [
      "Requirement already satisfied: pytubefix in c:\\users\\chompu\\.conda\\envs\\audios\\lib\\site-packages (8.8.5)\n",
      "Note: you may need to restart the kernel to use updated packages.\n"
     ]
    }
   ],
   "source": [
    "pip install pytubefix"
   ]
  },
  {
   "cell_type": "code",
   "execution_count": null,
   "id": "e472ddf0-0a15-46a1-90eb-6c93db537a2e",
   "metadata": {},
   "outputs": [],
   "source": []
  },
  {
   "cell_type": "code",
   "execution_count": null,
   "id": "4cd82d09-a3d0-4746-b38c-390de982b46c",
   "metadata": {},
   "outputs": [],
   "source": []
  },
  {
   "cell_type": "code",
   "execution_count": null,
   "id": "60a2d5b2-326f-47ac-80ee-20ea9bf85a9e",
   "metadata": {},
   "outputs": [],
   "source": []
  },
  {
   "cell_type": "code",
   "execution_count": null,
   "id": "340827b1-04de-481a-829d-3dd44b3488a5",
   "metadata": {},
   "outputs": [],
   "source": []
  },
  {
   "cell_type": "code",
   "execution_count": null,
   "id": "58c0b654-e889-47ea-b68e-375903921b2e",
   "metadata": {},
   "outputs": [],
   "source": []
  },
  {
   "cell_type": "code",
   "execution_count": null,
   "id": "1941823e-b04f-4fc4-92e9-00dd20b22d49",
   "metadata": {},
   "outputs": [],
   "source": []
  },
  {
   "cell_type": "code",
   "execution_count": null,
   "id": "b2bb56bf-0e00-4b08-a335-102d0dc4b127",
   "metadata": {},
   "outputs": [],
   "source": []
  },
  {
   "cell_type": "code",
   "execution_count": null,
   "id": "9462d03b-60ea-47e2-8f28-6fba19be265e",
   "metadata": {},
   "outputs": [],
   "source": []
  },
  {
   "cell_type": "code",
   "execution_count": null,
   "id": "a909adda-db45-4677-97ed-86e8a38880e0",
   "metadata": {},
   "outputs": [],
   "source": []
  },
  {
   "cell_type": "code",
   "execution_count": null,
   "id": "ecfe993c-4d81-475e-9f3d-e47759739672",
   "metadata": {},
   "outputs": [],
   "source": []
  },
  {
   "cell_type": "code",
   "execution_count": null,
   "id": "44040aa9-c534-4cc9-abd7-68c248dc132a",
   "metadata": {},
   "outputs": [],
   "source": []
  },
  {
   "cell_type": "code",
   "execution_count": null,
   "id": "5213a460-743d-4284-909f-1234fe9717cc",
   "metadata": {},
   "outputs": [],
   "source": []
  },
  {
   "cell_type": "code",
   "execution_count": null,
   "id": "8fb9475b-7079-4d0b-93ef-89dd4667e809",
   "metadata": {},
   "outputs": [],
   "source": []
  },
  {
   "cell_type": "code",
   "execution_count": 1,
   "id": "2b40527b-ac9b-44da-a007-78838c7b5e8f",
   "metadata": {},
   "outputs": [],
   "source": [
    "from selenium import webdriver\n",
    "from selenium.webdriver.chrome.service import Service\n",
    "from selenium.webdriver.common.by import By\n",
    "import time\n",
    "import pandas as pd\n",
    "from selenium.webdriver.support.wait import WebDriverWait\n",
    "from selenium.webdriver.support import expected_conditions as EC"
   ]
  },
  {
   "cell_type": "code",
   "execution_count": 2,
   "id": "a1c6d8ba-f7b3-4f1f-9fe0-158e20467837",
   "metadata": {},
   "outputs": [],
   "source": [
    "from webdriver_manager.chrome import ChromeDriverManager"
   ]
  },
  {
   "cell_type": "code",
   "execution_count": 3,
   "id": "74507cc8-0d42-4c2e-85fd-12c174883fc5",
   "metadata": {},
   "outputs": [],
   "source": [
    "options = webdriver.ChromeOptions()\n",
    "options.add_experimental_option(\"detach\", True)\n",
    "options.add_argument(\"--disable-extensions\")\n",
    "options.add_argument(\"--disable-notifications\")\n",
    "options.add_argument(\"--disable-Advertisement\")\n",
    "options.add_argument(\"--disable-popup-blocking\")\n",
    "options.add_argument(\"start-maximized\")\n",
    "options.add_argument('headless')"
   ]
  },
  {
   "cell_type": "code",
   "execution_count": 4,
   "id": "4ce5b2e5-6549-4310-ba86-67f7999789e7",
   "metadata": {},
   "outputs": [],
   "source": [
    "service = Service(executable_path='chromedriver/chromedriver.exe')\n",
    "options = webdriver.ChromeOptions()\n",
    "driver = webdriver.Chrome(service=service, options=options)\n",
    "# ... Automate something here\n"
   ]
  },
  {
   "cell_type": "code",
   "execution_count": 12,
   "id": "a9653cb8-e5c4-4643-81d9-b8ab4cbdf100",
   "metadata": {},
   "outputs": [
    {
     "ename": "InvalidSessionIdException",
     "evalue": "Message: invalid session id: session deleted as the browser has closed the connection\nfrom disconnected: not connected to DevTools\n  (Session info: chrome=133.0.6943.53)\nStacktrace:\n\tGetHandleVerifier [0x00007FF6BCDF2EC5+28789]\n\t(No symbol) [0x00007FF6BCD5F870]\n\t(No symbol) [0x00007FF6BCBF8F9A]\n\t(No symbol) [0x00007FF6BCBE4DA5]\n\t(No symbol) [0x00007FF6BCC0971A]\n\t(No symbol) [0x00007FF6BCC7EFAF]\n\t(No symbol) [0x00007FF6BCC9EFB2]\n\t(No symbol) [0x00007FF6BCC76FF3]\n\t(No symbol) [0x00007FF6BCC3FF0E]\n\t(No symbol) [0x00007FF6BCC41193]\n\tGetHandleVerifier [0x00007FF6BD13D5FD+3479469]\n\tGetHandleVerifier [0x00007FF6BD1571A3+3584851]\n\tGetHandleVerifier [0x00007FF6BD14C44D+3540477]\n\tGetHandleVerifier [0x00007FF6BCEB8B6A+838938]\n\t(No symbol) [0x00007FF6BCD6A4EF]\n\t(No symbol) [0x00007FF6BCD66954]\n\t(No symbol) [0x00007FF6BCD66AF6]\n\t(No symbol) [0x00007FF6BCD56499]\n\tBaseThreadInitThunk [0x00007FFFEBF17374+20]\n\tRtlUserThreadStart [0x00007FFFEC99CC91+33]\n",
     "output_type": "error",
     "traceback": [
      "\u001b[1;31m---------------------------------------------------------------------------\u001b[0m",
      "\u001b[1;31mInvalidSessionIdException\u001b[0m                 Traceback (most recent call last)",
      "Cell \u001b[1;32mIn[12], line 1\u001b[0m\n\u001b[1;32m----> 1\u001b[0m \u001b[43mdriver\u001b[49m\u001b[38;5;241;43m.\u001b[39;49m\u001b[43mget\u001b[49m\u001b[43m(\u001b[49m\u001b[38;5;124;43m'\u001b[39;49m\u001b[38;5;124;43mhttps://www.youtube.com/wendoverproductions/videos\u001b[39;49m\u001b[38;5;124;43m'\u001b[39;49m\u001b[43m)\u001b[49m\n\u001b[0;32m      2\u001b[0m time\u001b[38;5;241m.\u001b[39msleep(\u001b[38;5;241m3\u001b[39m)\n\u001b[0;32m      4\u001b[0m item \u001b[38;5;241m=\u001b[39m []\n",
      "File \u001b[1;32m~\\.conda\\envs\\audios\\lib\\site-packages\\selenium\\webdriver\\remote\\webdriver.py:454\u001b[0m, in \u001b[0;36mWebDriver.get\u001b[1;34m(self, url)\u001b[0m\n\u001b[0;32m    436\u001b[0m \u001b[38;5;28;01mdef\u001b[39;00m \u001b[38;5;21mget\u001b[39m(\u001b[38;5;28mself\u001b[39m, url: \u001b[38;5;28mstr\u001b[39m) \u001b[38;5;241m-\u001b[39m\u001b[38;5;241m>\u001b[39m \u001b[38;5;28;01mNone\u001b[39;00m:\n\u001b[0;32m    437\u001b[0m \u001b[38;5;250m    \u001b[39m\u001b[38;5;124;03m\"\"\"Navigate the browser to the specified URL in the current window or\u001b[39;00m\n\u001b[0;32m    438\u001b[0m \u001b[38;5;124;03m    tab.\u001b[39;00m\n\u001b[0;32m    439\u001b[0m \n\u001b[1;32m   (...)\u001b[0m\n\u001b[0;32m    452\u001b[0m \u001b[38;5;124;03m    >>> driver.get(\"https://example.com\")\u001b[39;00m\n\u001b[0;32m    453\u001b[0m \u001b[38;5;124;03m    \"\"\"\u001b[39;00m\n\u001b[1;32m--> 454\u001b[0m     \u001b[38;5;28;43mself\u001b[39;49m\u001b[38;5;241;43m.\u001b[39;49m\u001b[43mexecute\u001b[49m\u001b[43m(\u001b[49m\u001b[43mCommand\u001b[49m\u001b[38;5;241;43m.\u001b[39;49m\u001b[43mGET\u001b[49m\u001b[43m,\u001b[49m\u001b[43m \u001b[49m\u001b[43m{\u001b[49m\u001b[38;5;124;43m\"\u001b[39;49m\u001b[38;5;124;43murl\u001b[39;49m\u001b[38;5;124;43m\"\u001b[39;49m\u001b[43m:\u001b[49m\u001b[43m \u001b[49m\u001b[43murl\u001b[49m\u001b[43m}\u001b[49m\u001b[43m)\u001b[49m\n",
      "File \u001b[1;32m~\\.conda\\envs\\audios\\lib\\site-packages\\selenium\\webdriver\\remote\\webdriver.py:429\u001b[0m, in \u001b[0;36mWebDriver.execute\u001b[1;34m(self, driver_command, params)\u001b[0m\n\u001b[0;32m    427\u001b[0m response \u001b[38;5;241m=\u001b[39m \u001b[38;5;28mself\u001b[39m\u001b[38;5;241m.\u001b[39mcommand_executor\u001b[38;5;241m.\u001b[39mexecute(driver_command, params)\n\u001b[0;32m    428\u001b[0m \u001b[38;5;28;01mif\u001b[39;00m response:\n\u001b[1;32m--> 429\u001b[0m     \u001b[38;5;28;43mself\u001b[39;49m\u001b[38;5;241;43m.\u001b[39;49m\u001b[43merror_handler\u001b[49m\u001b[38;5;241;43m.\u001b[39;49m\u001b[43mcheck_response\u001b[49m\u001b[43m(\u001b[49m\u001b[43mresponse\u001b[49m\u001b[43m)\u001b[49m\n\u001b[0;32m    430\u001b[0m     response[\u001b[38;5;124m\"\u001b[39m\u001b[38;5;124mvalue\u001b[39m\u001b[38;5;124m\"\u001b[39m] \u001b[38;5;241m=\u001b[39m \u001b[38;5;28mself\u001b[39m\u001b[38;5;241m.\u001b[39m_unwrap_value(response\u001b[38;5;241m.\u001b[39mget(\u001b[38;5;124m\"\u001b[39m\u001b[38;5;124mvalue\u001b[39m\u001b[38;5;124m\"\u001b[39m, \u001b[38;5;28;01mNone\u001b[39;00m))\n\u001b[0;32m    431\u001b[0m     \u001b[38;5;28;01mreturn\u001b[39;00m response\n",
      "File \u001b[1;32m~\\.conda\\envs\\audios\\lib\\site-packages\\selenium\\webdriver\\remote\\errorhandler.py:232\u001b[0m, in \u001b[0;36mErrorHandler.check_response\u001b[1;34m(self, response)\u001b[0m\n\u001b[0;32m    230\u001b[0m         alert_text \u001b[38;5;241m=\u001b[39m value[\u001b[38;5;124m\"\u001b[39m\u001b[38;5;124malert\u001b[39m\u001b[38;5;124m\"\u001b[39m]\u001b[38;5;241m.\u001b[39mget(\u001b[38;5;124m\"\u001b[39m\u001b[38;5;124mtext\u001b[39m\u001b[38;5;124m\"\u001b[39m)\n\u001b[0;32m    231\u001b[0m     \u001b[38;5;28;01mraise\u001b[39;00m exception_class(message, screen, stacktrace, alert_text)  \u001b[38;5;66;03m# type: ignore[call-arg]  # mypy is not smart enough here\u001b[39;00m\n\u001b[1;32m--> 232\u001b[0m \u001b[38;5;28;01mraise\u001b[39;00m exception_class(message, screen, stacktrace)\n",
      "\u001b[1;31mInvalidSessionIdException\u001b[0m: Message: invalid session id: session deleted as the browser has closed the connection\nfrom disconnected: not connected to DevTools\n  (Session info: chrome=133.0.6943.53)\nStacktrace:\n\tGetHandleVerifier [0x00007FF6BCDF2EC5+28789]\n\t(No symbol) [0x00007FF6BCD5F870]\n\t(No symbol) [0x00007FF6BCBF8F9A]\n\t(No symbol) [0x00007FF6BCBE4DA5]\n\t(No symbol) [0x00007FF6BCC0971A]\n\t(No symbol) [0x00007FF6BCC7EFAF]\n\t(No symbol) [0x00007FF6BCC9EFB2]\n\t(No symbol) [0x00007FF6BCC76FF3]\n\t(No symbol) [0x00007FF6BCC3FF0E]\n\t(No symbol) [0x00007FF6BCC41193]\n\tGetHandleVerifier [0x00007FF6BD13D5FD+3479469]\n\tGetHandleVerifier [0x00007FF6BD1571A3+3584851]\n\tGetHandleVerifier [0x00007FF6BD14C44D+3540477]\n\tGetHandleVerifier [0x00007FF6BCEB8B6A+838938]\n\t(No symbol) [0x00007FF6BCD6A4EF]\n\t(No symbol) [0x00007FF6BCD66954]\n\t(No symbol) [0x00007FF6BCD66AF6]\n\t(No symbol) [0x00007FF6BCD56499]\n\tBaseThreadInitThunk [0x00007FFFEBF17374+20]\n\tRtlUserThreadStart [0x00007FFFEC99CC91+33]\n"
     ]
    }
   ],
   "source": [
    "driver.get('https://www.youtube.com/wendoverproductions/videos')\n",
    "time.sleep(3)\n",
    "\n",
    "item = []\n",
    "SCROLL_PAUSE_TIME = 1\n",
    "last_height = driver.execute_script(\"return document.documentElement.scrollHeight\")"
   ]
  },
  {
   "cell_type": "code",
   "execution_count": 8,
   "id": "b3ba278b-a203-4a8a-ae98-5e72323d3355",
   "metadata": {},
   "outputs": [],
   "source": [
    "item_count = 180"
   ]
  },
  {
   "cell_type": "code",
   "execution_count": 9,
   "id": "317f9c98-4187-4105-b2fa-c6ad80d16157",
   "metadata": {},
   "outputs": [],
   "source": [
    "while item_count > len(item):\n",
    "    driver.execute_script(\"window.scrollTo(0,document.documentElement.scrollHeight);\")\n",
    "    time.sleep(SCROLL_PAUSE_TIME)\n",
    "    new_height = driver.execute_script(\"return document.documentElement.scrollHeight\")\n",
    "\n",
    "    if new_height == last_height:\n",
    "        break\n",
    "    last_height = new_height"
   ]
  },
  {
   "cell_type": "code",
   "execution_count": 10,
   "id": "3da3f5dc-7b3a-460d-ae4e-bc11007afebc",
   "metadata": {},
   "outputs": [
    {
     "name": "stdout",
     "output_type": "stream",
     "text": [
      "[{'video_url': 'https://www.youtube.com/watch?v=CxfFKuSfQ8c', 'title': 'How F1 Exploded', 'date_time': '1 day ago', 'views': '422K views'}, {'video_url': 'https://www.youtube.com/watch?v=HuMxQzX0uso', 'title': 'The Logistics of Natural Gas', 'date_time': '9 days ago', 'views': '862K views'}, {'video_url': 'https://www.youtube.com/watch?v=74E-eAxQ9P4', 'title': \"Volkswagen's China Problem\", 'date_time': '2 weeks ago', 'views': '1.2M views'}, {'video_url': 'https://www.youtube.com/watch?v=FyemWfUZ2lo', 'title': 'The 20 Most Important Flights of 2024', 'date_time': '1 month ago', 'views': '693K views'}, {'video_url': 'https://www.youtube.com/watch?v=B2j-LgcA7Gk', 'title': 'The Battle Over NYC Congestion Pricing', 'date_time': '1 month ago', 'views': '1.2M views'}, {'video_url': 'https://www.youtube.com/watch?v=RckX1yiVPIE', 'title': 'How Arenas Transform Overnight', 'date_time': '2 months ago', 'views': '1.8M views'}, {'video_url': 'https://www.youtube.com/watch?v=cQI9z7picQI', 'title': \"The World's Fastest Growing Economy\", 'date_time': '2 months ago', 'views': '807K views'}, {'video_url': 'https://www.youtube.com/watch?v=qARQV3WDv4o', 'title': \"The Gov Agency That Manages America's Worst Land\", 'date_time': '3 months ago', 'views': '1.3M views'}, {'video_url': 'https://www.youtube.com/watch?v=Uqs-f862YaU', 'title': 'How Inland Waterways Work', 'date_time': '3 months ago', 'views': '845K views'}, {'video_url': 'https://www.youtube.com/watch?v=JrO_tvMjqjo', 'title': \"Hawaii's Logistics Problem\", 'date_time': '4 months ago', 'views': '1.4M views'}, {'video_url': 'https://www.youtube.com/watch?v=_xt05Z-fF9Q', 'title': 'The Huge Controversy Over Moving This Runway 80 Feet', 'date_time': '4 months ago', 'views': '1.3M views'}, {'video_url': 'https://www.youtube.com/watch?v=Aj8lwyWKpa4', 'title': 'The Logistics of a Presidential Campaign', 'date_time': '5 months ago', 'views': '978K views'}, {'video_url': 'https://www.youtube.com/watch?v=O1zqDZacoVc', 'title': 'How an Amusement Park Works', 'date_time': '5 months ago', 'views': '617K views'}, {'video_url': 'https://www.youtube.com/watch?v=kFSR6OuWVQ4', 'title': 'The Terrifying Efficiency of Drone Warfare', 'date_time': '6 months ago', 'views': '1.4M views'}, {'video_url': 'https://www.youtube.com/watch?v=8wjFcTcWa4U', 'title': 'The Slow, Quiet Death of Hong Kong', 'date_time': '6 months ago', 'views': '1.8M views'}, {'video_url': 'https://www.youtube.com/watch?v=4-Pu3CXatsA', 'title': 'Why Budget Airlines are Suddenly Failing', 'date_time': '6 months ago', 'views': '3.2M views'}, {'video_url': 'https://www.youtube.com/watch?v=1pYjtCaqiys', 'title': 'How Big Tech Ruined Farming', 'date_time': '7 months ago', 'views': '1.8M views'}, {'video_url': 'https://www.youtube.com/watch?v=bQE_zNs5HOU', 'title': 'Why Wyoming is so Weirdly Wealthy', 'date_time': '7 months ago', 'views': '1.5M views'}, {'video_url': 'https://www.youtube.com/watch?v=E5aGyiTCxDA', 'title': 'The Logistics of German Reunification', 'date_time': '8 months ago', 'views': '1.3M views'}, {'video_url': 'https://www.youtube.com/watch?v=OK804tfnPEg', 'title': 'The Six-Country Fight Over These Tiny, Terrible Islands', 'date_time': '8 months ago', 'views': '1.2M views'}, {'video_url': 'https://www.youtube.com/watch?v=XK8hpxR_r2Y', 'title': 'How Private Equity Consumed America', 'date_time': '9 months ago', 'views': '1.9M views'}, {'video_url': 'https://www.youtube.com/watch?v=fndEkeob5tY', 'title': 'How the Korean DMZ Works', 'date_time': '9 months ago', 'views': '1.7M views'}, {'video_url': 'https://www.youtube.com/watch?v=M_U_rzlVVdA', 'title': 'Why Utah is So Weird', 'date_time': '10 months ago', 'views': '1.9M views'}, {'video_url': 'https://www.youtube.com/watch?v=ascPhiXcpss', 'title': \"Why China's Economy is Finally Slowing Down\", 'date_time': '10 months ago', 'views': '1.8M views'}, {'video_url': 'https://www.youtube.com/watch?v=V0DmliiUFHk', 'title': 'The Increasing Reality of War in Space', 'date_time': '11 months ago', 'views': '1.6M views'}, {'video_url': 'https://www.youtube.com/watch?v=OQm1l6OWahA', 'title': 'How Qatar is Trying to Become the Switzerland of the Middle East', 'date_time': '11 months ago', 'views': '734K views'}, {'video_url': 'https://www.youtube.com/watch?v=URoVKPVDKPU', 'title': 'How Boeing Lost Its Way', 'date_time': '11 months ago', 'views': '2.3M views'}, {'video_url': 'https://www.youtube.com/watch?v=iJuGkwA7S1c', 'title': 'The Logistics of Firefighting', 'date_time': '1 year ago', 'views': '1.3M views'}, {'video_url': 'https://www.youtube.com/watch?v=dmpyV4Yf8b0', 'title': 'The Surprising Success of Private Passenger Rail', 'date_time': '1 year ago', 'views': '1.5M views'}, {'video_url': 'https://www.youtube.com/watch?v=S_vc04fveGc', 'title': \"Everything That's Changed With Nine of Our Most Popular Videos\", 'date_time': '1 year ago', 'views': '746K views'}, {'video_url': 'https://www.youtube.com/watch?v=nDXsVhFG7TE', 'title': 'The Most Dangerous Subway in America', 'date_time': '1 year ago', 'views': '2.4M views'}, {'video_url': 'https://www.youtube.com/watch?v=8cyuOcb5O_M', 'title': 'How Modern Treasure Hunting Works', 'date_time': '1 year ago', 'views': '819K views'}, {'video_url': 'https://www.youtube.com/watch?v=aQXD-Wr6h64', 'title': 'Why the US Military Costs so Much', 'date_time': '1 year ago', 'views': '2.4M views'}, {'video_url': 'https://www.youtube.com/watch?v=Iiny1GrfhYM', 'title': \"South Africa's Slow, Inevitable March Towards Collapse\", 'date_time': '1 year ago', 'views': '5.2M views'}, {'video_url': 'https://www.youtube.com/watch?v=44l6f7iXGAk', 'title': 'Why West Virginia is so Poor', 'date_time': '1 year ago', 'views': '2.6M views'}, {'video_url': 'https://www.youtube.com/watch?v=AL57dSIXqBM', 'title': 'The Troubling Danger of Dams', 'date_time': '1 year ago', 'views': '1.6M views'}, {'video_url': 'https://www.youtube.com/watch?v=vQpUV--2Jao', 'title': 'How Dollar Stores Quietly Consumed America', 'date_time': '1 year ago', 'views': '3.8M views'}, {'video_url': 'https://www.youtube.com/watch?v=C_B09FZwSbA', 'title': 'How to Control a Crowd', 'date_time': '1 year ago', 'views': '4M views'}, {'video_url': 'https://www.youtube.com/watch?v=Kmlfy4svwuM', 'title': 'How to Build a Road', 'date_time': '1 year ago', 'views': '3.4M views'}, {'video_url': 'https://www.youtube.com/watch?v=mYGTNHfgZ8E', 'title': 'Saudi Arabia’s Plan to Conquer Global Golf', 'date_time': '1 year ago', 'views': '691K views'}, {'video_url': 'https://www.youtube.com/watch?v=73ygHs4Kwcs', 'title': 'The Broken Economics of the Oceans', 'date_time': '1 year ago', 'views': '2.1M views'}, {'video_url': 'https://www.youtube.com/watch?v=g6rFff2MAxM', 'title': 'The Growing Revolt Against the US Dollar', 'date_time': '1 year ago', 'views': '1.7M views'}, {'video_url': 'https://www.youtube.com/watch?v=Alqt6RCEWdM', 'title': 'How We Built a $150 Million Streaming Platform with $100,000', 'date_time': '1 year ago', 'views': '1M views'}, {'video_url': 'https://www.youtube.com/watch?v=37Hmd-VkMIM', 'title': 'Too Many People are Going Outside', 'date_time': '1 year ago', 'views': '1.8M views'}, {'video_url': 'https://www.youtube.com/watch?v=WtkI-QAgM6w', 'title': 'How the World’s Most Dangerous Country Solved Murder', 'date_time': '1 year ago', 'views': '4M views'}, {'video_url': 'https://www.youtube.com/watch?v=GXT46osICdY', 'title': 'How Mexico is Becoming the New China', 'date_time': '1 year ago', 'views': '2.1M views'}, {'video_url': 'https://www.youtube.com/watch?v=S46iJIk3t70', 'title': 'How Corporate Consolidation is Killing Ski Towns', 'date_time': '1 year ago', 'views': '2.8M views'}, {'video_url': 'https://www.youtube.com/watch?v=1ngms6iRa14', 'title': 'Why California Has So Many Problems', 'date_time': '1 year ago', 'views': '2.9M views'}, {'video_url': 'https://www.youtube.com/watch?v=89FoKRtpAy4', 'title': 'The System that Fuels Media Negativity', 'date_time': '1 year ago', 'views': '753K views'}, {'video_url': 'https://www.youtube.com/watch?v=TcSpBAZvMhI', 'title': 'A Week in the Life of a US President', 'date_time': '1 year ago', 'views': '2.7M views'}, {'video_url': 'https://www.youtube.com/watch?v=xpUIZ32n9nw', 'title': 'How Tesla Fumbled', 'date_time': '1 year ago', 'views': '1.8M views'}, {'video_url': 'https://www.youtube.com/watch?v=1-m_Jjse-cs', 'title': 'The Airline Industry’s Problem with Absolutely Ancient IT', 'date_time': '1 year ago', 'views': '3.3M views'}, {'video_url': 'https://www.youtube.com/watch?v=xfN6lgxedEI', 'title': 'The Impossible Ethical Bargain Behind African Safaris', 'date_time': '2 years ago', 'views': '1.4M views'}, {'video_url': 'https://www.youtube.com/watch?v=qQTjLWIHN74', 'title': 'The One Tiny Law That Keeps Amtrak Terrible', 'date_time': '2 years ago', 'views': '3M views'}, {'video_url': 'https://www.youtube.com/watch?v=c3dDagZMALQ', 'title': '22 Problems Solved in 2022', 'date_time': '2 years ago', 'views': '1.4M views'}, {'video_url': 'https://www.youtube.com/watch?v=Pm5bTZRhncY', 'title': 'How the Sports Betting Industry Quietly Consumed America', 'date_time': '2 years ago', 'views': '1.7M views'}, {'video_url': 'https://www.youtube.com/watch?v=AIqxfBhlwx0', 'title': 'How Florida Got So Weird', 'date_time': '2 years ago', 'views': '3.8M views'}, {'video_url': 'https://www.youtube.com/watch?v=oL0umpPPe-8', 'title': 'Samsung’s Dangerous Dominance over South Korea', 'date_time': '2 years ago', 'views': '6M views'}, {'video_url': 'https://www.youtube.com/watch?v=GBp_NgrrtPM', 'title': 'China’s Electricity Problem', 'date_time': '2 years ago', 'views': '3.3M views'}, {'video_url': 'https://www.youtube.com/watch?v=YBNcYxHJPLE', 'title': 'How the World’s Wealthiest People Travel', 'date_time': '2 years ago', 'views': '5.6M views'}, {'video_url': 'https://www.youtube.com/watch?v=iIpPuJ_r8Xg', 'title': 'The US Military’s Massive Global Transportation System', 'date_time': '2 years ago', 'views': '2.9M views'}, {'video_url': 'https://www.youtube.com/watch?v=MY8AB1wYOtg', 'title': 'The Absurd Logistics of Concert Tours', 'date_time': '2 years ago', 'views': '2.7M views'}, {'video_url': 'https://www.youtube.com/watch?v=8xzINLykprA', 'title': 'Money’s Mostly Digital, So Why Is Moving It So Hard?', 'date_time': '2 years ago', 'views': '3.3M views'}, {'video_url': 'https://www.youtube.com/watch?v=f66GfsKPTUg', 'title': 'How This Central African City Became the World’s Most Expensive', 'date_time': '2 years ago', 'views': '6.1M views'}, {'video_url': 'https://www.youtube.com/watch?v=IDLkOWW0_xg', 'title': 'The Simple Genius of NYC’s Water Supply System', 'date_time': '2 years ago', 'views': '3.3M views'}, {'video_url': 'https://www.youtube.com/watch?v=U9jirFqex6g', 'title': 'Europe’s Experiment: Treating Trains Like Planes', 'date_time': '2 years ago', 'views': '3.4M views'}, {'video_url': 'https://www.youtube.com/watch?v=eoWcQUjNM8o', 'title': 'How the YouTube Creator Economy Works', 'date_time': '2 years ago', 'views': '1.3M views'}, {'video_url': 'https://www.youtube.com/watch?v=V0Xx0E8cs7U', 'title': 'The Incredible Logistics Behind Weather Forecasting', 'date_time': '2 years ago', 'views': '1.7M views'}, {'video_url': 'https://www.youtube.com/watch?v=v0aGGOK4kAM', 'title': 'Australia Had a Mass-Shooting Problem. Here’s How it Stopped', 'date_time': '2 years ago', 'views': '1.2M views'}, {'video_url': 'https://www.youtube.com/watch?v=AW3gaelBypY', 'title': 'The Carbon Offset Problem', 'date_time': '2 years ago', 'views': '1.8M views'}, {'video_url': 'https://www.youtube.com/watch?v=xhYl7Jjefo8', 'title': 'Jet Lag: The Game - A New Channel by Wendover Productions', 'date_time': '2 years ago', 'views': '616K views'}, {'video_url': 'https://www.youtube.com/watch?v=oESoI6XxZTg', 'title': 'How to Design a Theme Park (To Take Tons of Your Money)', 'date_time': '2 years ago', 'views': '3.2M views'}, {'video_url': 'https://www.youtube.com/watch?v=AQbmpecxS2w', 'title': 'Why Gas Got So Expensive (It’s Not the War)', 'date_time': '2 years ago', 'views': '3.7M views'}, {'video_url': 'https://www.youtube.com/watch?v=U_7CGl6VWaQ', 'title': 'How Cyberwarfare Actually Works', 'date_time': '2 years ago', 'views': '3.1M views'}, {'video_url': 'https://www.youtube.com/watch?v=R9pxFgJwxFE', 'title': 'The Incredible Logistics Behind Corn Farming', 'date_time': '2 years ago', 'views': '2.5M views'}, {'video_url': 'https://www.youtube.com/watch?v=SrTrpwzVt4g', 'title': 'The Sanction-Fueled Destruction of the Russian Aviation Industry', 'date_time': '2 years ago', 'views': '5M views'}, {'video_url': 'https://www.youtube.com/watch?v=b4wRdoWpw0w', 'title': \"The Failed Logistics of Russia's Invasion of Ukraine\", 'date_time': '2 years ago', 'views': '10M views'}, {'video_url': 'https://www.youtube.com/watch?v=UX4KklvCDmg', 'title': 'Why Everywhere in the US is Starting to Look the Same', 'date_time': '2 years ago', 'views': '3.8M views'}, {'video_url': 'https://www.youtube.com/watch?v=J-M98KLgaUU', 'title': 'Drone Delivery Was Supposed to be the Future. What Went Wrong?', 'date_time': '3 years ago', 'views': '2.7M views'}, {'video_url': 'https://www.youtube.com/watch?v=0faCad2kKeg', 'title': 'How Cell Service Actually Works', 'date_time': '3 years ago', 'views': '3.1M views'}, {'video_url': 'https://www.youtube.com/watch?v=9dnN82DsQ2k', 'title': \"Electric Vehicles' Battery Problem\", 'date_time': '3 years ago', 'views': '3.2M views'}, {'video_url': 'https://www.youtube.com/watch?v=Y413Czri6qw', 'title': 'The News You Missed in 2021, From Every Country in the World (Part 2)', 'date_time': '3 years ago', 'views': '773K views'}, {'video_url': 'https://www.youtube.com/watch?v=W3qZIPiWKc4', 'title': 'The News You Missed in 2021, From Every Country in the World (Part 1)', 'date_time': '3 years ago', 'views': '1.3M views'}, {'video_url': 'https://www.youtube.com/watch?v=ggUduBmvQ_4', 'title': 'How Airlines Quietly Became Banks', 'date_time': '3 years ago', 'views': '6.6M views'}, {'video_url': 'https://www.youtube.com/watch?v=xhxo2oXRiio', 'title': 'How Electricity Gets to You', 'date_time': '3 years ago', 'views': '2.7M views'}, {'video_url': 'https://www.youtube.com/watch?v=8d5d_HXGeMA', 'title': \"How Ocean Shipping Works (And Why It's Broken)\", 'date_time': '3 years ago', 'views': '4.3M views'}, {'video_url': 'https://www.youtube.com/watch?v=8egszLpKMWU', 'title': 'Is Africa the Next China?', 'date_time': '3 years ago', 'views': '1M views'}, {'video_url': 'https://www.youtube.com/watch?v=WNrobOYWZQE', 'title': 'When Will Space Tourism be Affordable?', 'date_time': '3 years ago', 'views': '749K views'}, {'video_url': 'https://www.youtube.com/watch?v=ZZ3F3zWiEmc', 'title': 'The Art Market is a Scam (And Rich People Run It)', 'date_time': '3 years ago', 'views': '2.8M views'}, {'video_url': 'https://www.youtube.com/watch?v=V16GdzRvhRU', 'title': \"Saudi Arabia's Oil Problem\", 'date_time': '3 years ago', 'views': '3.5M views'}, {'video_url': 'https://www.youtube.com/watch?v=o4tuhWvKduU', 'title': 'The Logistics of Evacuating Afghanistan', 'date_time': '3 years ago', 'views': '1.6M views'}, {'video_url': 'https://www.youtube.com/watch?v=1-uNMj57Y4c', 'title': \"Airlines' Business Travel Problem\", 'date_time': '3 years ago', 'views': '1.1M views'}, {'video_url': 'https://www.youtube.com/watch?v=SR7BA3xEmDo', 'title': 'The Simple Genius of the Interstate Highway System', 'date_time': '3 years ago', 'views': '3.1M views'}, {'video_url': 'https://www.youtube.com/watch?v=iO5mfbpq16A', 'title': 'Why the Southern Hemisphere is Poorer', 'date_time': '3 years ago', 'views': '1.4M views'}, {'video_url': 'https://www.youtube.com/watch?v=B3FKtBNEBRc', 'title': 'The Incredible Logistics of the Tokyo Olympics', 'date_time': '3 years ago', 'views': '1M views'}, {'video_url': 'https://www.youtube.com/watch?v=VJtFgte1GKc', 'title': 'Little Bay: Why This Island Was Abandoned on December 31st, 2019', 'date_time': '3 years ago', 'views': '567K views'}, {'video_url': 'https://www.youtube.com/watch?v=J5PLyYVIEpg', 'title': 'How the Navajo Nation Works (A Country Within a Country?)', 'date_time': '3 years ago', 'views': '1.7M views'}, {'video_url': 'https://www.youtube.com/watch?v=LHhJuAOK3CI', 'title': 'Extremities: A New Channel by Wendover Productions', 'date_time': '3 years ago', 'views': '228K views'}, {'video_url': 'https://www.youtube.com/watch?v=aH4b3sAs-l8', 'title': 'Why Electric Planes are Inevitably Coming', 'date_time': '3 years ago', 'views': '1.7M views'}, {'video_url': 'https://www.youtube.com/watch?v=b1JlYZQG3lI', 'title': \"Why There are Now So Many Shortages (It's Not COVID)\", 'date_time': '3 years ago', 'views': '7.8M views'}, {'video_url': 'https://www.youtube.com/watch?v=BNpk_OGEGlA', 'title': 'The Incredible Logistics of Grocery Stores', 'date_time': '3 years ago', 'views': '3.3M views'}, {'video_url': 'https://www.youtube.com/watch?v=4p0fRlCHYyg', 'title': 'Supersonic Planes are Coming Back (And This Time, They Might Work)', 'date_time': '3 years ago', 'views': '3M views'}, {'video_url': 'https://www.youtube.com/watch?v=N4dOCfWlgBw', 'title': 'The Insane Logistics of Shutting Down the Cruise Industry', 'date_time': '3 years ago', 'views': '2.3M views'}, {'video_url': 'https://www.youtube.com/watch?v=3CuPqeIJr3U', 'title': \"China's Vaccine Diplomacy\", 'date_time': '3 years ago', 'views': '931K views'}, {'video_url': 'https://www.youtube.com/watch?v=DlTq8DbRs4k', 'title': \"The UK's Failed Experiment in Rail Privatization\", 'date_time': '3 years ago', 'views': '1.9M views'}, {'video_url': 'https://www.youtube.com/watch?v=VjiH3mpxyrQ', 'title': 'How to Start an Airline', 'date_time': '3 years ago', 'views': '2.3M views'}, {'video_url': 'https://www.youtube.com/watch?v=pLcqJ2DclEg', 'title': 'The Electric Vehicle Charging Problem', 'date_time': '3 years ago', 'views': '5M views'}, {'video_url': 'https://www.youtube.com/watch?v=3gdCH1XUIlE', 'title': \"How Air Ambulances (Don't) Work\", 'date_time': '4 years ago', 'views': '1.4M views'}, {'video_url': 'https://www.youtube.com/watch?v=2qanMpnYsjk', 'title': \"How Amazon's Super-Complex Shipping System Works\", 'date_time': '4 years ago', 'views': '3.7M views'}, {'video_url': 'https://www.youtube.com/watch?v=7R7jNWHp0D0', 'title': 'The News You Missed in 2020, From Every Country in the World (Part 2)', 'date_time': '4 years ago', 'views': '1.4M views'}, {'video_url': 'https://www.youtube.com/watch?v=GIFV_Z7Y9_w', 'title': 'The News You Missed in 2020, From Every Country in the World (Part 1)', 'date_time': '4 years ago', 'views': '2.3M views'}, {'video_url': 'https://www.youtube.com/watch?v=KXRtNwUju5g', 'title': \"How China Broke the World's Recycling\", 'date_time': '4 years ago', 'views': '4.4M views'}, {'video_url': 'https://www.youtube.com/watch?v=fTyUE162lrw', 'title': 'Why Long-Haul Low-Cost Airlines Always Go Bankrupt', 'date_time': '4 years ago', 'views': '1.6M views'}, {'video_url': 'https://www.youtube.com/watch?v=ZAEydOjNWyQ', 'title': 'How Living at the South Pole Works', 'date_time': '4 years ago', 'views': '2.9M views'}, {'video_url': 'https://www.youtube.com/watch?v=_BCY0SPOFpE', 'title': \"Egypt's Dam Problem: The Geopolitics of the Nile\", 'date_time': '4 years ago', 'views': '1.9M views'}, {'video_url': 'https://www.youtube.com/watch?v=v_rXhuaI0W8', 'title': 'The 8 Flights That Show How COVID-19 Reinvented Aviation', 'date_time': '4 years ago', 'views': '1.4M views'}, {'video_url': 'https://www.youtube.com/watch?v=Ongqf93rAcM', 'title': \"How to Beat the Casino, and How They'll Stop You\", 'date_time': '4 years ago', 'views': '3.6M views'}, {'video_url': 'https://www.youtube.com/watch?v=byW1GExQB84', 'title': 'Distributing the COVID Vaccine: The Greatest Logistics Challenge Ever', 'date_time': '4 years ago', 'views': '919K views'}, {'video_url': 'https://www.youtube.com/watch?v=DTIDCA7mjZs', 'title': 'How to Illegally Cross the Mexico-US Border', 'date_time': '4 years ago', 'views': '1.9M views'}, {'video_url': 'https://www.youtube.com/watch?v=H_akzwzghWQ', 'title': 'How COVID-19 Broke the Airline Pricing Model', 'date_time': '4 years ago', 'views': '2.3M views'}, {'video_url': 'https://www.youtube.com/watch?v=7C1fPocIFgU', 'title': 'The Broken Economics of Organ Transplants', 'date_time': '4 years ago', 'views': '656K views'}, {'video_url': 'https://www.youtube.com/watch?v=3J06af5xHD0', 'title': 'The Final Years of Majuro [Documentary]', 'date_time': '4 years ago', 'views': '2.1M views'}, {'video_url': 'https://www.youtube.com/watch?v=YgiMqePRp0Y', 'title': 'The Logistics of Covid-19 Testing', 'date_time': '4 years ago', 'views': '542K views'}, {'video_url': 'https://www.youtube.com/watch?v=Rtmhv5qEBg0', 'title': \"Airlines' Protocol for After a Plane Crash\", 'date_time': '4 years ago', 'views': '2M views'}, {'video_url': 'https://www.youtube.com/watch?v=6GMoUmvw8kU', 'title': 'Why Taiwan and China are Battling over Tiny Island Countries', 'date_time': '4 years ago', 'views': '865K views'}, {'video_url': 'https://www.youtube.com/watch?v=QlPrAKtegFQ', 'title': 'How Long-Haul Trucking Works', 'date_time': '4 years ago', 'views': '2.6M views'}, {'video_url': 'https://www.youtube.com/watch?v=uAG4zCsiA_w', 'title': 'Why Helicopter Airlines Failed', 'date_time': '4 years ago', 'views': '1.7M views'}, {'video_url': 'https://www.youtube.com/watch?v=NtX-Ibi21tU', 'title': 'The Five Rules of Risk', 'date_time': '4 years ago', 'views': '1.1M views'}, {'video_url': 'https://www.youtube.com/watch?v=r2oPk20OHBE', 'title': \"Air Cargo's Coronavirus Problem\", 'date_time': '4 years ago', 'views': '1.1M views'}, {'video_url': 'https://www.youtube.com/watch?v=ABIkWS_YavM', 'title': 'How Offshore Oil Rigs Work', 'date_time': '4 years ago', 'views': '2.9M views'}, {'video_url': 'https://www.youtube.com/watch?v=-pNBAxx4IRo', 'title': \"How the US' Hospital Ships Work\", 'date_time': '4 years ago', 'views': '1.6M views'}, {'video_url': 'https://www.youtube.com/watch?v=VX2e2iEg_pM', 'title': 'COVID-19: How Aviation is Fighting for Survival', 'date_time': '4 years ago', 'views': '1.3M views'}, {'video_url': 'https://www.youtube.com/watch?v=Ppjv0H-Yt5Q', 'title': 'The Logistics of the US Census', 'date_time': '4 years ago', 'views': '929K views'}, {'video_url': 'https://www.youtube.com/watch?v=QvUpSFGRqEo', 'title': 'How Boeing Will Get the 737 MAX Flying Again', 'date_time': '4 years ago', 'views': '1.2M views'}, {'video_url': 'https://www.youtube.com/watch?v=3Sh7hghljuQ', 'title': 'How China Built a Hospital in 10 Days', 'date_time': '4 years ago', 'views': '2.8M views'}, {'video_url': 'https://www.youtube.com/watch?v=vpcUVOjUrKk', 'title': 'The Business of Ski Resorts', 'date_time': '5 years ago', 'views': '2.6M views'}, {'video_url': 'https://www.youtube.com/watch?v=FCEwPio2bkg', 'title': \"American Sports' Battle for China\", 'date_time': '5 years ago', 'views': '504K views'}, {'video_url': 'https://www.youtube.com/watch?v=5-QejUTDCWw', 'title': \"The World's Most Useful Airport [Documentary]\", 'date_time': '5 years ago', 'views': '9.7M views'}, {'video_url': 'https://www.youtube.com/watch?v=RyG7nzteG64', 'title': 'The Logistics of the US Election', 'date_time': '5 years ago', 'views': '854K views'}, {'video_url': 'https://www.youtube.com/watch?v=dSw7fWCrDk0', 'title': 'Amtrak’s Grand Plan for Profitability', 'date_time': '5 years ago', 'views': '1.5M views'}, {'video_url': 'https://www.youtube.com/watch?v=5SDUm1bx7Zc', 'title': \"Australia's China Problem\", 'date_time': '5 years ago', 'views': '6.9M views'}, {'video_url': 'https://www.youtube.com/watch?v=U1a73gdNs0M', 'title': 'The US Government Program That Pays For Your Flights', 'date_time': '5 years ago', 'views': '929K views'}, {'video_url': 'https://www.youtube.com/watch?v=tLS9IK693KI', 'title': 'The Logistics of Disaster Response', 'date_time': '5 years ago', 'views': '997K views'}, {'video_url': 'https://www.youtube.com/watch?v=cnfoTAxhpzQ', 'title': 'Why So Many Airlines are Going Bankrupt', 'date_time': '5 years ago', 'views': '2.9M views'}, {'video_url': 'https://www.youtube.com/watch?v=erS2YMYcZO8', 'title': 'The Logistics of Filming Avengers', 'date_time': '5 years ago', 'views': '1.5M views'}, {'video_url': 'https://www.youtube.com/watch?v=XjbYloKJX7c', 'title': \"Boeing's China Problem\", 'date_time': '5 years ago', 'views': '3.5M views'}, {'video_url': 'https://www.youtube.com/watch?v=A0qt0hdCQtg', 'title': \"The US' Overseas Military Base Strategy\", 'date_time': '5 years ago', 'views': '3.8M views'}, {'video_url': 'https://www.youtube.com/watch?v=I9ttpHvK6yw', 'title': 'How to Stop an Epidemic', 'date_time': '5 years ago', 'views': '2.3M views'}, {'video_url': 'https://www.youtube.com/watch?v=pJ_LUFBSoqM', 'title': \"The NFL's Logistics Problem\", 'date_time': '5 years ago', 'views': '2.5M views'}, {'video_url': 'https://www.youtube.com/watch?v=jYPrH4xANpU', 'title': 'The Economics of Private Jets', 'date_time': '5 years ago', 'views': '4.4M views'}, {'video_url': 'https://www.youtube.com/watch?v=KgsxapE27NU', 'title': \"The World's Shortcut: How the Panama Canal Works\", 'date_time': '5 years ago', 'views': '4.6M views'}, {'video_url': 'https://www.youtube.com/watch?v=C1f2GwWLB3k', 'title': 'How Air Traffic Control Works', 'date_time': '5 years ago', 'views': '4.8M views'}, {'video_url': 'https://www.youtube.com/watch?v=u2-ehDQM6TM', 'title': 'Extremities: A New Scripted Podcast from Wendover', 'date_time': '5 years ago', 'views': '194K views'}, {'video_url': 'https://www.youtube.com/watch?v=17oZPYcpPnQ', 'title': \"Iceland's Tourism Revolution\", 'date_time': '5 years ago', 'views': '1.3M views'}, {'video_url': 'https://www.youtube.com/watch?v=SUsqnD9-42g', 'title': 'Mini Countries Abroad: How Embassies Work', 'date_time': '5 years ago', 'views': '6.2M views'}, {'video_url': 'https://www.youtube.com/watch?v=BfNEOfEGe3I', 'title': 'The Economics That Made Boeing Build the 737 Max', 'date_time': '5 years ago', 'views': '2.4M views'}, {'video_url': 'https://www.youtube.com/watch?v=EkRRo5DN9lI', 'title': 'The Logistics of the International Space Station', 'date_time': '5 years ago', 'views': '3.3M views'}, {'video_url': 'https://www.youtube.com/watch?v=E3jfvncofiA', 'title': 'How Airlines Decide Where to Fly', 'date_time': '5 years ago', 'views': '2.8M views'}, {'video_url': 'https://www.youtube.com/watch?v=xX0ozxrZlEQ', 'title': 'How Rwanda is Becoming the Singapore of Africa', 'date_time': '5 years ago', 'views': '6.8M views'}, {'video_url': 'https://www.youtube.com/watch?v=9poImReDFeY', 'title': 'How Freight Trains Connect the World', 'date_time': '5 years ago', 'views': '2.4M views'}, {'video_url': 'https://www.youtube.com/watch?v=69EVxLLhciQ', 'title': 'How Hong Kong Changed Countries', 'date_time': '5 years ago', 'views': '2.6M views'}, {'video_url': 'https://www.youtube.com/watch?v=gdy0gBVWAzE', 'title': 'Living Underwater: How Submarines Work', 'date_time': '6 years ago', 'views': '10M views'}, {'video_url': 'https://www.youtube.com/watch?v=bnoUBfLxZz0', 'title': 'The Super-Fast Logistics of Delivering Blood By Drone', 'date_time': '6 years ago', 'views': '1M views'}, {'video_url': 'https://www.youtube.com/watch?v=msjuRoZ0Vu8', 'title': 'The New Economy of the Warming Arctic', 'date_time': '6 years ago', 'views': '852K views'}, {'video_url': 'https://www.youtube.com/watch?v=c0pS3Zx7Fc8', 'title': 'Cities at Sea: How Aircraft Carriers Work', 'date_time': '6 years ago', 'views': '13M views'}, {'video_url': 'https://www.youtube.com/watch?v=TNUomfuWuA8', 'title': 'The Rise of 20-Hour Long Flights', 'date_time': '6 years ago', 'views': '4M views'}, {'video_url': 'https://www.youtube.com/watch?v=0JDoll8OEFE', 'title': 'Why China Is so Good at Building Railways', 'date_time': '6 years ago', 'views': '8.5M views'}, {'video_url': 'https://www.youtube.com/watch?v=7cjIWMUgPtY', 'title': 'The Magic Economics of Gambling', 'date_time': '6 years ago', 'views': '3.2M views'}, {'video_url': 'https://www.youtube.com/watch?v=cognzTud3Wg', 'title': 'Why the World is Running Out of Pilots', 'date_time': '6 years ago', 'views': '4.2M views'}, {'video_url': 'https://www.youtube.com/watch?v=EodxubsO8EI', 'title': 'How Fighting Wildfires Works', 'date_time': '6 years ago', 'views': '1.7M views'}, {'video_url': 'https://www.youtube.com/watch?v=30XpSozOZII', 'title': 'How to Build a $100 Million Satellite', 'date_time': '6 years ago', 'views': '1.3M views'}, {'video_url': 'https://www.youtube.com/watch?v=zQV_DKQkT8o', 'title': \"How Africa is Becoming China's China\", 'date_time': '6 years ago', 'views': '9M views'}, {'video_url': 'https://www.youtube.com/watch?v=wdU1WTBJMl0', 'title': 'How Airports Make Money', 'date_time': '6 years ago', 'views': '5M views'}, {'video_url': 'https://www.youtube.com/watch?v=6OLVFa8YRfM', 'title': 'The Insane Logistics of Formula 1', 'date_time': '6 years ago', 'views': '6.8M views'}, {'video_url': 'https://www.youtube.com/watch?v=jdNDYBt9e_U', 'title': 'The Most Valuable Airspace in the World', 'date_time': '6 years ago', 'views': '5.7M views'}, {'video_url': 'https://www.youtube.com/watch?v=5r90DYjZ76g', 'title': \"Guam: Why America's Most Isolated Territory Exists\", 'date_time': '6 years ago', 'views': '6.6M views'}, {'video_url': 'https://www.youtube.com/watch?v=1Y1kJpHBn50', 'title': 'How to Design Impenetrable Airport Security', 'date_time': '6 years ago', 'views': '5.3M views'}, {'video_url': 'https://www.youtube.com/watch?v=hiRBQxHrxNw', 'title': 'Space: The Next Trillion Dollar Industry', 'date_time': '6 years ago', 'views': '3.5M views'}, {'video_url': 'https://www.youtube.com/watch?v=-s3j-ptJD10', 'title': 'The Logistics of Living in Antarctica', 'date_time': '6 years ago', 'views': '5.6M views'}, {'video_url': 'https://www.youtube.com/watch?v=y3qfeoqErtY', 'title': 'How Overnight Shipping Works', 'date_time': '6 years ago', 'views': '7.4M views'}, {'video_url': 'https://www.youtube.com/watch?v=IvAvHjYoLUU', 'title': 'Why Cities Exist', 'date_time': '7 years ago', 'views': '3.2M views'}, {'video_url': 'https://www.youtube.com/watch?v=72hlr-E7KA0', 'title': 'How Airlines Price Flights', 'date_time': '7 years ago', 'views': '3.4M views'}, {'video_url': 'https://www.youtube.com/watch?v=voozHXadYYE', 'title': 'The Gene Patent Question', 'date_time': '7 years ago', 'views': '597K views'}, {'video_url': 'https://www.youtube.com/watch?v=uU3kLBo_ruo', 'title': 'The Nuclear Waste Problem', 'date_time': '7 years ago', 'views': '3.8M views'}, {'video_url': 'https://www.youtube.com/watch?v=V1YMPk3XhCc', 'title': 'The Little Plane War', 'date_time': '7 years ago', 'views': '4.2M views'}, {'video_url': 'https://www.youtube.com/watch?v=h97fXhDN5qE', 'title': \"Elon Musk's Basic Economics\", 'date_time': '7 years ago', 'views': '6M views'}, {'video_url': 'https://www.youtube.com/watch?v=GiBF6v5UAAE', 'title': \"China's Geography Problem\", 'date_time': '7 years ago', 'views': '12M views'}, {'video_url': 'https://www.youtube.com/watch?v=-cjfTG8DbwA', 'title': 'Why Public Transportation Sucks in the US', 'date_time': '7 years ago', 'views': '3.4M views'}, {'video_url': 'https://www.youtube.com/watch?v=ql0Op1VcELw', 'title': \"What's Actually the Plane of the Future\", 'date_time': '7 years ago', 'views': '5M views'}, {'video_url': 'https://www.youtube.com/watch?v=RaGG50laHgI', 'title': 'TWL is back! (But not here...)', 'date_time': '7 years ago', 'views': '307K views'}, {'video_url': 'https://www.youtube.com/watch?v=yT9bit2-1pg', 'title': 'How to Stop a Riot', 'date_time': '7 years ago', 'views': '5.2M views'}, {'video_url': 'https://www.youtube.com/watch?v=e-WO-c9xHms', 'title': 'How Geography Gave the US Power', 'date_time': '7 years ago', 'views': '3.6M views'}, {'video_url': 'https://www.youtube.com/watch?v=E7Jfrzkmzyc', 'title': 'Why Chinese Manufacturing Wins', 'date_time': '7 years ago', 'views': '6.2M views'}, {'video_url': 'https://www.youtube.com/watch?v=dGXahSnA_oA', 'title': 'How Airlines Schedule Flights', 'date_time': '7 years ago', 'views': '4.2M views'}, {'video_url': 'https://www.youtube.com/watch?v=N4PW66_g6XA', 'title': 'How to Fix Traffic Forever', 'date_time': '7 years ago', 'views': '4M views'}, {'video_url': 'https://www.youtube.com/watch?v=j48Z3W35FI0', 'title': 'How the US Government Will Survive Doomsday', 'date_time': '7 years ago', 'views': '4.8M views'}, {'video_url': 'https://www.youtube.com/watch?v=MP1OAm7Pzps', 'title': 'Why the Northernmost Town in America Exists', 'date_time': '7 years ago', 'views': '9.4M views'}, {'video_url': 'https://www.youtube.com/watch?v=lkCeKc1GTMs', 'title': 'Which Country Are International Airports In?', 'date_time': '7 years ago', 'views': '3.8M views'}, {'video_url': 'https://www.youtube.com/watch?v=Nu2WOxXxsHw', 'title': 'How the Post Office Made America', 'date_time': '7 years ago', 'views': '1.2M views'}, {'video_url': 'https://www.youtube.com/watch?v=HSxSgbNQi-g', 'title': 'Small Planes Over Big Oceans (ETOPS Explained)', 'date_time': '7 years ago', 'views': '3.2M views'}, {'video_url': 'https://www.youtube.com/watch?v=ZcDwtO4RWmo', 'title': \"Canada's New Shipping Shortcut\", 'date_time': '7 years ago', 'views': '3.7M views'}, {'video_url': 'https://www.youtube.com/watch?v=EqWksuyry5w', 'title': 'Why Airlines Sell More Seats Than They Have', 'date_time': '7 years ago', 'views': '2.2M views'}, {'video_url': 'https://www.youtube.com/watch?v=fwjwePe-HmA', 'title': 'Why Trains are so Expensive', 'date_time': '7 years ago', 'views': '3.1M views'}, {'video_url': 'https://www.youtube.com/watch?v=v3C_5bsdQWg', 'title': \"Russia's Geography Problem\", 'date_time': '7 years ago', 'views': '8.7M views'}, {'video_url': 'https://www.youtube.com/watch?v=BzB5xtGGsTc', 'title': 'The Economics of Airline Class', 'date_time': '7 years ago', 'views': '11M views'}, {'video_url': 'https://www.youtube.com/watch?v=n1QEj09Pe6k', 'title': \"Why Planes Don't Fly Faster\", 'date_time': '7 years ago', 'views': '7.3M views'}, {'video_url': 'https://www.youtube.com/watch?v=YJRqB1xtIxg', 'title': \"The US President's $2,614 Per Minute Transport System\", 'date_time': '7 years ago', 'views': '12M views'}, {'video_url': 'https://www.youtube.com/watch?v=ancuYECRGN8', 'title': 'Every State in the US', 'date_time': '8 years ago', 'views': '6.6M views'}, {'video_url': 'https://www.youtube.com/watch?v=bL2WPDtLYNU', 'title': 'How to Make First Contact', 'date_time': '8 years ago', 'views': '3.2M views'}, {'video_url': 'https://www.youtube.com/watch?v=3PWWtqfwacQ', 'title': 'Why Cities Are Where They Are', 'date_time': '8 years ago', 'views': '5.3M views'}, {'video_url': 'https://www.youtube.com/watch?v=_lj127TKu4Q', 'title': 'Is the European Union a Country?', 'date_time': '8 years ago', 'views': '2.1M views'}, {'video_url': 'https://www.youtube.com/watch?v=d1CVVoAihBc', 'title': 'Every Country in the World (Part 2)', 'date_time': '8 years ago', 'views': '3.2M views'}, {'video_url': 'https://www.youtube.com/watch?v=P-b4SUOfn_4', 'title': 'Every Country in the World (Part 1)', 'date_time': '8 years ago', 'views': '8.8M views'}, {'video_url': 'https://www.youtube.com/watch?v=thqbjA2DC-E', 'title': 'The Five Freedoms of Aviation', 'date_time': '8 years ago', 'views': '3.5M views'}, {'video_url': 'https://www.youtube.com/watch?v=_rk2hPrEnk8', 'title': \"Why Chicken Sandwiches Don't Cost $1500\", 'date_time': '8 years ago', 'views': '3.1M views'}, {'video_url': 'https://www.youtube.com/watch?v=aQSxPzafO_k', 'title': 'Urban Geography: Why We Live Where We Do', 'date_time': '8 years ago', 'views': '3.4M views'}, {'video_url': 'https://www.youtube.com/watch?v=NlIdzF1_b5M', 'title': 'Big Plane vs Little Plane (The Economics of Long-Haul Flights)', 'date_time': '8 years ago', 'views': '4.2M views'}, {'video_url': 'https://www.youtube.com/watch?v=HpfvOc8HJdg', 'title': 'TWL #10.5: Argleton (+ Patreon)', 'date_time': '8 years ago', 'views': '204K views'}, {'video_url': 'https://www.youtube.com/watch?v=7ouiTMXuDAQ', 'title': 'How Much Would it Cost to Live on the Moon?', 'date_time': '8 years ago', 'views': '1M views'}, {'video_url': 'https://www.youtube.com/watch?v=-aQ2E0mlRQI', 'title': 'The Plane Highway in the Sky', 'date_time': '8 years ago', 'views': '4.8M views'}, {'video_url': 'https://www.youtube.com/watch?v=mbEfzuCLoAQ', 'title': 'Why Trains Suck in America', 'date_time': '8 years ago', 'views': '5.9M views'}, {'video_url': 'https://www.youtube.com/watch?v=N7CvEt51fz4', 'title': 'How Maritime Law Works', 'date_time': '8 years ago', 'views': '3.7M views'}, {'video_url': 'https://www.youtube.com/watch?v=7PsmkAxVHdM', 'title': 'Why College is so Expensive', 'date_time': '8 years ago', 'views': '1.2M views'}, {'video_url': 'https://www.youtube.com/watch?v=JoYNhX15w4k', 'title': 'TWL #10: The Day Sweden Switched Driving Directions', 'date_time': '8 years ago', 'views': '1.2M views'}, {'video_url': 'https://www.youtube.com/watch?v=1c-jBfZPVv4', 'title': 'TWL #9: The Secret Anti-Counterfeit Symbol', 'date_time': '8 years ago', 'views': '1.4M views'}, {'video_url': 'https://www.youtube.com/watch?v=069y1MpOkQY', 'title': 'How Budget Airlines Work', 'date_time': '8 years ago', 'views': '9.7M views'}, {'video_url': 'https://www.youtube.com/watch?v=n7RHv_MIIT0', 'title': 'TWL #8: Immortality Through Quantum Suicide', 'date_time': '8 years ago', 'views': '1.9M views'}, {'video_url': 'https://www.youtube.com/watch?v=6Oe8T3AvydU', 'title': 'Why Flying is So Expensive', 'date_time': '8 years ago', 'views': '4.9M views'}, {'video_url': 'https://www.youtube.com/watch?v=LnEyjwdoj7g', 'title': 'TWL #7: This Number is Illegal', 'date_time': '8 years ago', 'views': '3.7M views'}, {'video_url': 'https://www.youtube.com/watch?v=5XdYbmova_s', 'title': 'TWL #6: Big Mac Economics', 'date_time': '8 years ago', 'views': '1.6M views'}, {'video_url': 'https://www.youtube.com/watch?v=F53TA37Mqck', 'title': 'TWL #5: Timekeeping on Mars', 'date_time': '8 years ago', 'views': '821K views'}, {'video_url': 'https://www.youtube.com/watch?v=O6o5C-i02c8', 'title': 'TWL #4: Which Way Should Toilet Paper Face?', 'date_time': '8 years ago', 'views': '754K views'}, {'video_url': 'https://www.youtube.com/watch?v=JllpzZgAAl8', 'title': 'TWL #3: Paper Towns- Fake Places Made to Catch Copyright Thieves', 'date_time': '8 years ago', 'views': '1.1M views'}, {'video_url': 'https://www.youtube.com/watch?v=v_iaurPRhCs', 'title': 'TWL #2: Bir Tawil- The Land Without a Country', 'date_time': '8 years ago', 'views': '864K views'}, {'video_url': 'https://www.youtube.com/watch?v=_ugvJi2pIck', 'title': 'TWL #1: Presidents Are 4x More Likely to be Lefties', 'date_time': '8 years ago', 'views': '563K views'}, {'video_url': 'https://www.youtube.com/watch?v=RRWggYusSds', 'title': \"Why Time is One of Humanity's Greatest Inventions\", 'date_time': '8 years ago', 'views': '1.4M views'}, {'video_url': 'https://www.youtube.com/watch?v=h6AWAoc_Lr0', 'title': 'Space Law-What Laws are There in Space?', 'date_time': '9 years ago', 'views': '1.5M views'}, {'video_url': 'https://www.youtube.com/watch?v=2H9KEcb74aA', 'title': \"A Map Geek's Tour of the World #2\", 'date_time': '9 years ago', 'views': '256K views'}, {'video_url': 'https://www.youtube.com/watch?v=ThNeIT7aceI', 'title': 'How the Layouts of Grocery Stores are Secretly Designed to Make You Spend More Money', 'date_time': '9 years ago', 'views': '995K views'}, {'video_url': 'https://www.youtube.com/watch?v=bg2VZIPfX0U', 'title': 'How to Create a Country', 'date_time': '9 years ago', 'views': '3.9M views'}, {'video_url': 'https://www.youtube.com/watch?v=pVB4TEeMcgA', 'title': \"A Map Geek's Tour of the World\", 'date_time': '9 years ago', 'views': '417K views'}, {'video_url': 'https://www.youtube.com/watch?v=avh7ez858xM', 'title': 'The Messy Ethics of Self Driving Cars', 'date_time': '9 years ago', 'views': '466K views'}, {'video_url': 'https://www.youtube.com/watch?v=Y3jlFtBg0Y8', 'title': 'The Surprising Easternmost Point in the US', 'date_time': '9 years ago', 'views': '225K views'}, {'video_url': 'https://www.youtube.com/watch?v=F-ZskaqBshs', 'title': \"Containerization: The Most Influential Invention That You've Never Heard Of\", 'date_time': '9 years ago', 'views': '704K views'}, {'video_url': 'https://www.youtube.com/watch?v=Nn-ym8y1_kw', 'title': 'The World is Shrinking', 'date_time': '9 years ago', 'views': '194K views'}, {'video_url': 'https://www.youtube.com/watch?v=8LqqVfPduTs', 'title': 'How Marketers Manipulate Us: Psychological Manipulation in Advertising', 'date_time': '9 years ago', 'views': '483K views'}]\n",
      "246\n"
     ]
    }
   ],
   "source": [
    "data = []\n",
    "try:\n",
    "    for e in WebDriverWait(driver, 20).until(EC.presence_of_all_elements_located((By.CSS_SELECTOR, 'div#details'))):\n",
    "        title = e.find_element(By.CSS_SELECTOR,'a#video-title-link').get_attribute('title')\n",
    "        vurl = e.find_element(By.CSS_SELECTOR,'a#video-title-link').get_attribute('href')\n",
    "        views= e.find_element(By.XPATH,'.//*[@id=\"metadata\"]//span[@class=\"inline-metadata-item style-scope ytd-video-meta-block\"][1]').text\n",
    "        date_time = e.find_element(By.XPATH,'.//*[@id=\"metadata\"]//span[@class=\"inline-metadata-item style-scope ytd-video-meta-block\"][2]').text\n",
    "        data.append({\n",
    "            'video_url':vurl,\n",
    "            'title':title,\n",
    "            'date_time':date_time,\n",
    "            'views':views\n",
    "            })\n",
    "except:\n",
    "    pass\n",
    "    \n",
    "item = data\n",
    "print(item)\n",
    "print(len(item))"
   ]
  },
  {
   "cell_type": "code",
   "execution_count": null,
   "id": "649535da-11ce-4cb8-bf87-c9845dd7fd57",
   "metadata": {},
   "outputs": [],
   "source": []
  }
 ],
 "metadata": {
  "kernelspec": {
   "display_name": "audios",
   "language": "python",
   "name": "audios"
  },
  "language_info": {
   "codemirror_mode": {
    "name": "ipython",
    "version": 3
   },
   "file_extension": ".py",
   "mimetype": "text/x-python",
   "name": "python",
   "nbconvert_exporter": "python",
   "pygments_lexer": "ipython3",
   "version": "3.10.14"
  }
 },
 "nbformat": 4,
 "nbformat_minor": 5
}
