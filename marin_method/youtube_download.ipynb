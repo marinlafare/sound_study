{
 "cells": [
  {
   "cell_type": "code",
   "execution_count": 4,
   "id": "324a68da-4f71-40ab-b726-543464380d87",
   "metadata": {},
   "outputs": [
    {
     "name": "stdout",
     "output_type": "stream",
     "text": [
      "I Got a Chess Lesson From Magnus Carlsen\n"
     ]
    }
   ],
   "source": [
    "from pytubefix import YouTube\n",
    "from pytubefix.cli import on_progress\n",
    "\n",
    "url = \"https://www.youtube.com/watch?v=IwN41dS2H30\"\n",
    "\n",
    "# yt = YouTube(url,  'WEB',on_progress_callback=on_progress)\n",
    "yt = YouTube(url, use_oauth=True, allow_oauth_cache=True, on_progress_callback=on_progress)\n",
    "print(yt.title)\n",
    "# ys = yt.streams.get_audio_only()"
   ]
  },
  {
   "cell_type": "code",
   "execution_count": 8,
   "id": "cd61ff2d-c861-4f9c-919b-793bc6a8eaab",
   "metadata": {},
   "outputs": [
    {
     "data": {
      "text/plain": [
       "{'_monostate': <pytubefix.monostate.Monostate at 0x17bd630eb00>,\n",
       " 'url': 'https://rr5---sn-0opoxu-hxmse.googlevideo.com/videoplayback?expire=1739097783&ei=VzKoZ6HdCNykir4PhsmSsQM&ip=2806%3A106e%3A13%3A1c3b%3Aaca5%3Aee68%3Ac9f3%3Ae2be&id=o-AMycbxW2yNCxrtI_E0-AaeSYtpAcQSFm9eAtQcoMCig7&itag=140&source=youtube&requiressl=yes&xpc=EgVo2aDSNQ%3D%3D&met=1739076183%2C&mh=qI&mm=31%2C29&mn=sn-0opoxu-hxmse%2Csn-9gv7zn76&ms=au%2Crdu&mv=m&mvi=5&pl=54&rms=au%2Cau&initcwndbps=1505000&siu=1&bui=AUWDL3yF-hABp7qtx4myZ-PW-2Wbs2W7qhOwu_FY7EsLHNoS5JWD1a4i1uUJu-8GhSsUWgenDg&spc=RjZbSajF_iZwx_9kSWDbPJByCNEJP1WtoCFidjzYMysUeKXoTBfD37MxoVuJinVb8_3NM2yM_sNL&vprv=1&svpuc=1&xtags=drc%3D1&mime=audio%2Fmp4&ns=3zuY4XbNV8B-cnJgY4csGAcQ&rqh=1&gir=yes&clen=14767832&dur=912.451&lmt=1739066460022307&mt=1739075831&fvip=3&keepalive=yes&lmw=1&fexp=51326932&c=TVHTML5&sefc=1&txp=5532534&n=7Ur_IjJAEIF-Jw&sparams=expire%2Cei%2Cip%2Cid%2Citag%2Csource%2Crequiressl%2Cxpc%2Csiu%2Cbui%2Cspc%2Cvprv%2Csvpuc%2Cxtags%2Cmime%2Cns%2Crqh%2Cgir%2Cclen%2Cdur%2Clmt&sig=AJfQdSswRgIhAMmM6DxZRgCKS3GuT2wr9Y0TPzF08vlm9qyy039ndDYCAiEAlnwNRu63VUY-ULThIzDrG4vglUIx_27Wf6tKucsyUCY%3D&lsparams=met%2Cmh%2Cmm%2Cmn%2Cms%2Cmv%2Cmvi%2Cpl%2Crms%2Cinitcwndbps&lsig=AGluJ3MwRQIgNleZHBCVuYPofucvRcw3D8tYCRkg69tMKy_9KTR0_OQCIQD9bws3ppRWhYenWg6F3AFe05Lfa1jysapqOihD5A3r2w%3D%3D',\n",
       " 'itag': 140,\n",
       " 'mime_type': 'audio/mp4',\n",
       " 'codecs': ['mp4a.40.2'],\n",
       " 'type': 'audio',\n",
       " 'subtype': 'mp4',\n",
       " 'video_codec': None,\n",
       " 'audio_codec': 'mp4a.40.2',\n",
       " 'is_otf': False,\n",
       " 'bitrate': 131155,\n",
       " '_filesize': 14767832,\n",
       " '_filesize_kb': 14421.711,\n",
       " '_filesize_mb': 14.084,\n",
       " '_filesize_gb': 0.014,\n",
       " 'is_dash': True,\n",
       " 'abr': '128kbps',\n",
       " 'resolution': None,\n",
       " '_width': None,\n",
       " '_height': None,\n",
       " 'is_3d': False,\n",
       " 'is_hdr': False,\n",
       " 'is_live': False,\n",
       " 'includes_multiple_audio_tracks': False,\n",
       " 'is_default_audio_track': True,\n",
       " 'audio_track_name': None}"
      ]
     },
     "execution_count": 8,
     "metadata": {},
     "output_type": "execute_result"
    }
   ],
   "source": [
    "ys.__dict__"
   ]
  },
  {
   "cell_type": "code",
   "execution_count": null,
   "id": "c2b95079-d769-469b-a5b9-16c926943769",
   "metadata": {},
   "outputs": [],
   "source": [
    "ys.download()"
   ]
  },
  {
   "cell_type": "code",
   "execution_count": 5,
   "id": "b0f9fc82-20cc-4c1f-8676-10e1795acf43",
   "metadata": {},
   "outputs": [
    {
     "name": "stdout",
     "output_type": "stream",
     "text": [
      "Requirement already satisfied: pytubefix in c:\\users\\chompu\\.conda\\envs\\audios\\lib\\site-packages (8.8.5)\n",
      "Note: you may need to restart the kernel to use updated packages.\n"
     ]
    }
   ],
   "source": [
    "pip install pytubefix"
   ]
  },
  {
   "cell_type": "code",
   "execution_count": null,
   "id": "e472ddf0-0a15-46a1-90eb-6c93db537a2e",
   "metadata": {},
   "outputs": [],
   "source": []
  },
  {
   "cell_type": "code",
   "execution_count": null,
   "id": "4cd82d09-a3d0-4746-b38c-390de982b46c",
   "metadata": {},
   "outputs": [],
   "source": []
  },
  {
   "cell_type": "code",
   "execution_count": null,
   "id": "60a2d5b2-326f-47ac-80ee-20ea9bf85a9e",
   "metadata": {},
   "outputs": [],
   "source": []
  },
  {
   "cell_type": "code",
   "execution_count": null,
   "id": "340827b1-04de-481a-829d-3dd44b3488a5",
   "metadata": {},
   "outputs": [],
   "source": []
  },
  {
   "cell_type": "code",
   "execution_count": null,
   "id": "58c0b654-e889-47ea-b68e-375903921b2e",
   "metadata": {},
   "outputs": [],
   "source": []
  },
  {
   "cell_type": "code",
   "execution_count": null,
   "id": "1941823e-b04f-4fc4-92e9-00dd20b22d49",
   "metadata": {},
   "outputs": [],
   "source": []
  },
  {
   "cell_type": "code",
   "execution_count": null,
   "id": "b2bb56bf-0e00-4b08-a335-102d0dc4b127",
   "metadata": {},
   "outputs": [],
   "source": []
  },
  {
   "cell_type": "code",
   "execution_count": null,
   "id": "9462d03b-60ea-47e2-8f28-6fba19be265e",
   "metadata": {},
   "outputs": [],
   "source": []
  },
  {
   "cell_type": "code",
   "execution_count": null,
   "id": "a909adda-db45-4677-97ed-86e8a38880e0",
   "metadata": {},
   "outputs": [],
   "source": []
  },
  {
   "cell_type": "code",
   "execution_count": null,
   "id": "ecfe993c-4d81-475e-9f3d-e47759739672",
   "metadata": {},
   "outputs": [],
   "source": []
  },
  {
   "cell_type": "code",
   "execution_count": null,
   "id": "44040aa9-c534-4cc9-abd7-68c248dc132a",
   "metadata": {},
   "outputs": [],
   "source": []
  },
  {
   "cell_type": "code",
   "execution_count": null,
   "id": "5213a460-743d-4284-909f-1234fe9717cc",
   "metadata": {},
   "outputs": [],
   "source": []
  },
  {
   "cell_type": "code",
   "execution_count": null,
   "id": "8fb9475b-7079-4d0b-93ef-89dd4667e809",
   "metadata": {},
   "outputs": [],
   "source": []
  },
  {
   "cell_type": "code",
   "execution_count": 1,
   "id": "2b40527b-ac9b-44da-a007-78838c7b5e8f",
   "metadata": {},
   "outputs": [],
   "source": [
    "from selenium import webdriver\n",
    "from selenium.webdriver.chrome.service import Service\n",
    "from selenium.webdriver.common.by import By\n",
    "import time\n",
    "import pandas as pd\n",
    "from selenium.webdriver.support.wait import WebDriverWait\n",
    "from selenium.webdriver.support import expected_conditions as EC"
   ]
  },
  {
   "cell_type": "code",
   "execution_count": 2,
   "id": "a1c6d8ba-f7b3-4f1f-9fe0-158e20467837",
   "metadata": {},
   "outputs": [],
   "source": [
    "from webdriver_manager.chrome import ChromeDriverManager"
   ]
  },
  {
   "cell_type": "code",
   "execution_count": 3,
   "id": "74507cc8-0d42-4c2e-85fd-12c174883fc5",
   "metadata": {},
   "outputs": [],
   "source": [
    "options = webdriver.ChromeOptions()\n",
    "options.add_experimental_option(\"detach\", True)\n",
    "options.add_argument(\"--disable-extensions\")\n",
    "options.add_argument(\"--disable-notifications\")\n",
    "options.add_argument(\"--disable-Advertisement\")\n",
    "options.add_argument(\"--disable-popup-blocking\")\n",
    "options.add_argument(\"start-maximized\")\n",
    "options.add_argument('headless')"
   ]
  },
  {
   "cell_type": "code",
   "execution_count": 4,
   "id": "4ce5b2e5-6549-4310-ba86-67f7999789e7",
   "metadata": {},
   "outputs": [],
   "source": [
    "service = Service(executable_path='chromedriver/chromedriver.exe')\n",
    "options = webdriver.ChromeOptions()\n",
    "driver = webdriver.Chrome(service=service, options=options)\n",
    "# ... Automate something here\n"
   ]
  },
  {
   "cell_type": "code",
   "execution_count": 12,
   "id": "a9653cb8-e5c4-4643-81d9-b8ab4cbdf100",
   "metadata": {},
   "outputs": [
    {
     "ename": "InvalidSessionIdException",
     "evalue": "Message: invalid session id: session deleted as the browser has closed the connection\nfrom disconnected: not connected to DevTools\n  (Session info: chrome=133.0.6943.53)\nStacktrace:\n\tGetHandleVerifier [0x00007FF6BCDF2EC5+28789]\n\t(No symbol) [0x00007FF6BCD5F870]\n\t(No symbol) [0x00007FF6BCBF8F9A]\n\t(No symbol) [0x00007FF6BCBE4DA5]\n\t(No symbol) [0x00007FF6BCC0971A]\n\t(No symbol) [0x00007FF6BCC7EFAF]\n\t(No symbol) [0x00007FF6BCC9EFB2]\n\t(No symbol) [0x00007FF6BCC76FF3]\n\t(No symbol) [0x00007FF6BCC3FF0E]\n\t(No symbol) [0x00007FF6BCC41193]\n\tGetHandleVerifier [0x00007FF6BD13D5FD+3479469]\n\tGetHandleVerifier [0x00007FF6BD1571A3+3584851]\n\tGetHandleVerifier [0x00007FF6BD14C44D+3540477]\n\tGetHandleVerifier [0x00007FF6BCEB8B6A+838938]\n\t(No symbol) [0x00007FF6BCD6A4EF]\n\t(No symbol) [0x00007FF6BCD66954]\n\t(No symbol) [0x00007FF6BCD66AF6]\n\t(No symbol) [0x00007FF6BCD56499]\n\tBaseThreadInitThunk [0x00007FFFEBF17374+20]\n\tRtlUserThreadStart [0x00007FFFEC99CC91+33]\n",
     "output_type": "error",
     "traceback": [
      "\u001b[1;31m---------------------------------------------------------------------------\u001b[0m",
      "\u001b[1;31mInvalidSessionIdException\u001b[0m                 Traceback (most recent call last)",
      "Cell \u001b[1;32mIn[12], line 1\u001b[0m\n\u001b[1;32m----> 1\u001b[0m \u001b[43mdriver\u001b[49m\u001b[38;5;241;43m.\u001b[39;49m\u001b[43mget\u001b[49m\u001b[43m(\u001b[49m\u001b[38;5;124;43m'\u001b[39;49m\u001b[38;5;124;43mhttps://www.youtube.com/wendoverproductions/videos\u001b[39;49m\u001b[38;5;124;43m'\u001b[39;49m\u001b[43m)\u001b[49m\n\u001b[0;32m      2\u001b[0m time\u001b[38;5;241m.\u001b[39msleep(\u001b[38;5;241m3\u001b[39m)\n\u001b[0;32m      4\u001b[0m item \u001b[38;5;241m=\u001b[39m []\n",
      "File \u001b[1;32m~\\.conda\\envs\\audios\\lib\\site-packages\\selenium\\webdriver\\remote\\webdriver.py:454\u001b[0m, in \u001b[0;36mWebDriver.get\u001b[1;34m(self, url)\u001b[0m\n\u001b[0;32m    436\u001b[0m \u001b[38;5;28;01mdef\u001b[39;00m \u001b[38;5;21mget\u001b[39m(\u001b[38;5;28mself\u001b[39m, url: \u001b[38;5;28mstr\u001b[39m) \u001b[38;5;241m-\u001b[39m\u001b[38;5;241m>\u001b[39m \u001b[38;5;28;01mNone\u001b[39;00m:\n\u001b[0;32m    437\u001b[0m \u001b[38;5;250m    \u001b[39m\u001b[38;5;124;03m\"\"\"Navigate the browser to the specified URL in the current window or\u001b[39;00m\n\u001b[0;32m    438\u001b[0m \u001b[38;5;124;03m    tab.\u001b[39;00m\n\u001b[0;32m    439\u001b[0m \n\u001b[1;32m   (...)\u001b[0m\n\u001b[0;32m    452\u001b[0m \u001b[38;5;124;03m    >>> driver.get(\"https://example.com\")\u001b[39;00m\n\u001b[0;32m    453\u001b[0m \u001b[38;5;124;03m    \"\"\"\u001b[39;00m\n\u001b[1;32m--> 454\u001b[0m     \u001b[38;5;28;43mself\u001b[39;49m\u001b[38;5;241;43m.\u001b[39;49m\u001b[43mexecute\u001b[49m\u001b[43m(\u001b[49m\u001b[43mCommand\u001b[49m\u001b[38;5;241;43m.\u001b[39;49m\u001b[43mGET\u001b[49m\u001b[43m,\u001b[49m\u001b[43m \u001b[49m\u001b[43m{\u001b[49m\u001b[38;5;124;43m\"\u001b[39;49m\u001b[38;5;124;43murl\u001b[39;49m\u001b[38;5;124;43m\"\u001b[39;49m\u001b[43m:\u001b[49m\u001b[43m \u001b[49m\u001b[43murl\u001b[49m\u001b[43m}\u001b[49m\u001b[43m)\u001b[49m\n",
      "File \u001b[1;32m~\\.conda\\envs\\audios\\lib\\site-packages\\selenium\\webdriver\\remote\\webdriver.py:429\u001b[0m, in \u001b[0;36mWebDriver.execute\u001b[1;34m(self, driver_command, params)\u001b[0m\n\u001b[0;32m    427\u001b[0m response \u001b[38;5;241m=\u001b[39m \u001b[38;5;28mself\u001b[39m\u001b[38;5;241m.\u001b[39mcommand_executor\u001b[38;5;241m.\u001b[39mexecute(driver_command, params)\n\u001b[0;32m    428\u001b[0m \u001b[38;5;28;01mif\u001b[39;00m response:\n\u001b[1;32m--> 429\u001b[0m     \u001b[38;5;28;43mself\u001b[39;49m\u001b[38;5;241;43m.\u001b[39;49m\u001b[43merror_handler\u001b[49m\u001b[38;5;241;43m.\u001b[39;49m\u001b[43mcheck_response\u001b[49m\u001b[43m(\u001b[49m\u001b[43mresponse\u001b[49m\u001b[43m)\u001b[49m\n\u001b[0;32m    430\u001b[0m     response[\u001b[38;5;124m\"\u001b[39m\u001b[38;5;124mvalue\u001b[39m\u001b[38;5;124m\"\u001b[39m] \u001b[38;5;241m=\u001b[39m \u001b[38;5;28mself\u001b[39m\u001b[38;5;241m.\u001b[39m_unwrap_value(response\u001b[38;5;241m.\u001b[39mget(\u001b[38;5;124m\"\u001b[39m\u001b[38;5;124mvalue\u001b[39m\u001b[38;5;124m\"\u001b[39m, \u001b[38;5;28;01mNone\u001b[39;00m))\n\u001b[0;32m    431\u001b[0m     \u001b[38;5;28;01mreturn\u001b[39;00m response\n",
      "File \u001b[1;32m~\\.conda\\envs\\audios\\lib\\site-packages\\selenium\\webdriver\\remote\\errorhandler.py:232\u001b[0m, in \u001b[0;36mErrorHandler.check_response\u001b[1;34m(self, response)\u001b[0m\n\u001b[0;32m    230\u001b[0m         alert_text \u001b[38;5;241m=\u001b[39m value[\u001b[38;5;124m\"\u001b[39m\u001b[38;5;124malert\u001b[39m\u001b[38;5;124m\"\u001b[39m]\u001b[38;5;241m.\u001b[39mget(\u001b[38;5;124m\"\u001b[39m\u001b[38;5;124mtext\u001b[39m\u001b[38;5;124m\"\u001b[39m)\n\u001b[0;32m    231\u001b[0m     \u001b[38;5;28;01mraise\u001b[39;00m exception_class(message, screen, stacktrace, alert_text)  \u001b[38;5;66;03m# type: ignore[call-arg]  # mypy is not smart enough here\u001b[39;00m\n\u001b[1;32m--> 232\u001b[0m \u001b[38;5;28;01mraise\u001b[39;00m exception_class(message, screen, stacktrace)\n",
      "\u001b[1;31mInvalidSessionIdException\u001b[0m: Message: invalid session id: session deleted as the browser has closed the connection\nfrom disconnected: not connected to DevTools\n  (Session info: chrome=133.0.6943.53)\nStacktrace:\n\tGetHandleVerifier [0x00007FF6BCDF2EC5+28789]\n\t(No symbol) [0x00007FF6BCD5F870]\n\t(No symbol) [0x00007FF6BCBF8F9A]\n\t(No symbol) [0x00007FF6BCBE4DA5]\n\t(No symbol) [0x00007FF6BCC0971A]\n\t(No symbol) [0x00007FF6BCC7EFAF]\n\t(No symbol) [0x00007FF6BCC9EFB2]\n\t(No symbol) [0x00007FF6BCC76FF3]\n\t(No symbol) [0x00007FF6BCC3FF0E]\n\t(No symbol) [0x00007FF6BCC41193]\n\tGetHandleVerifier [0x00007FF6BD13D5FD+3479469]\n\tGetHandleVerifier [0x00007FF6BD1571A3+3584851]\n\tGetHandleVerifier [0x00007FF6BD14C44D+3540477]\n\tGetHandleVerifier [0x00007FF6BCEB8B6A+838938]\n\t(No symbol) [0x00007FF6BCD6A4EF]\n\t(No symbol) [0x00007FF6BCD66954]\n\t(No symbol) [0x00007FF6BCD66AF6]\n\t(No symbol) [0x00007FF6BCD56499]\n\tBaseThreadInitThunk [0x00007FFFEBF17374+20]\n\tRtlUserThreadStart [0x00007FFFEC99CC91+33]\n"
     ]
    }
   ],
   "source": [
    "driver.get('https://www.youtube.com/wendoverproductions/videos')\n",
    "time.sleep(3)\n",
    "\n",
    "item = []\n",
    "SCROLL_PAUSE_TIME = 1\n",
    "last_height = driver.execute_script(\"return document.documentElement.scrollHeight\")"
   ]
  },
  {
   "cell_type": "code",
   "execution_count": 8,
   "id": "b3ba278b-a203-4a8a-ae98-5e72323d3355",
   "metadata": {},
   "outputs": [],
   "source": [
    "item_count = 180"
   ]
  },
  {
   "cell_type": "code",
   "execution_count": 9,
   "id": "317f9c98-4187-4105-b2fa-c6ad80d16157",
   "metadata": {},
   "outputs": [],
   "source": [
    "while item_count > len(item):\n",
    "    driver.execute_script(\"window.scrollTo(0,document.documentElement.scrollHeight);\")\n",
    "    time.sleep(SCROLL_PAUSE_TIME)\n",
    "    new_height = driver.execute_script(\"return document.documentElement.scrollHeight\")\n",
    "\n",
    "    if new_height == last_height:\n",
    "        break\n",
    "    last_height = new_height"
   ]
  },
  {
   "cell_type": "code",
   "execution_count": 10,
   "id": "3da3f5dc-7b3a-460d-ae4e-bc11007afebc",
   "metadata": {},
   "outputs": [
    {
     "name": "stdout",
     "output_type": "stream",
     "text": [
      "[{'video_url': 'https://www.youtube.com/watch?v=CxfFKuSfQ8c', 'title': 'How F1 Exploded', 'date_time': '1 day ago', 'views': '422K views'}, {'video_url': 'https://www.youtube.com/watch?v=HuMxQzX0uso', 'title': 'The Logistics of Natural Gas', 'date_time': '9 days ago', 'views': '862K views'}, {'video_url': 'https://www.youtube.com/watch?v=74E-eAxQ9P4', 'title': \"Volkswagen's China Problem\", 'date_time': '2 weeks ago', 'views': '1.2M views'}, {'video_url': 'https://www.youtube.com/watch?v=FyemWfUZ2lo', 'title': 'The 20 Most Important Flights of 2024', 'date_time': '1 month ago', 'views': '693K views'}, {'video_url': 'https://www.youtube.com/watch?v=B2j-LgcA7Gk', 'title': 'The Battle Over NYC Congestion Pricing', 'date_time': '1 month ago', 'views': '1.2M views'}, {'video_url': 'https://www.youtube.com/watch?v=RckX1yiVPIE', 'title': 'How Arenas Transform Overnight', 'date_time': '2 months ago', 'views': '1.8M views'}, {'video_url': 'https://www.youtube.com/watch?v=cQI9z7picQI', 'title': \"The World's Fastest Growing Economy\", 'date_time': '2 months ago', 'views': '807K views'}, {'video_url': 'https://www.youtube.com/watch?v=qARQV3WDv4o', 'title': \"The Gov Agency That Manages America's Worst Land\", 'date_time': '3 months ago', 'views': '1.3M views'}, {'video_url': 'https://www.youtube.com/watch?v=Uqs-f862YaU', 'title': 'How Inland Waterways Work', 'date_time': '3 months ago', 'views': '845K views'}, {'video_url': 'https://www.youtube.com/watch?v=JrO_tvMjqjo', 'title': \"Hawaii's Logistics Problem\", 'date_time': '4 months ago', 'views': '1.4M views'}, {'video_url': 'https://www.youtube.com/watch?v=_xt05Z-fF9Q', 'title': 'The Huge Controversy Over Moving This Runway 80 Feet', 'date_time': '4 months ago', 'views': '1.3M views'}, {'video_url': 'https://www.youtube.com/watch?v=Aj8lwyWKpa4', 'title': 'The Logistics of a Presidential Campaign', 'date_time': '5 months ago', 'views': '978K views'}, {'video_url': 'https://www.youtube.com/watch?v=O1zqDZacoVc', 'title': 'How an Amusement Park Works', 'date_time': '5 months ago', 'views': '617K views'}, {'video_url': 'https://www.youtube.com/watch?v=kFSR6OuWVQ4', 'title': 'The Terrifying Efficiency of Drone Warfare', 'date_time': '6 months ago', 'views': '1.4M views'}, {'video_url': 'https://www.youtube.com/watch?v=8wjFcTcWa4U', 'title': 'The Slow, Quiet Death of Hong Kong', 'date_time': '6 months ago', 'views': '1.8M views'}, {'video_url': 'https://www.youtube.com/watch?v=4-Pu3CXatsA', 'title': 'Why Budget Airlines are Suddenly Failing', 'date_time': '6 months ago', 'views': '3.2M views'}, {'video_url': 'https://www.youtube.com/watch?v=1pYjtCaqiys', 'title': 'How Big Tech Ruined Farming', 'date_time': '7 months ago', 'views': '1.8M views'}, {'video_url': 'https://www.youtube.com/watch?v=bQE_zNs5HOU', 'title': 'Why Wyoming is so Weirdly Wealthy', 'date_time': '7 months ago', 'views': '1.5M views'}, {'video_url': 'https://www.youtube.com/watch?v=E5aGyiTCxDA', 'title': 'The Logistics of German Reunification', 'date_time': '8 months ago', 'views': '1.3M views'}, {'video_url': 'https://www.youtube.com/watch?v=OK804tfnPEg', 'title': 'The Six-Country Fight Over These Tiny, Terrible Islands', 'date_time': '8 months ago', 'views': '1.2M views'}, {'video_url': 'https://www.youtube.com/watch?v=XK8hpxR_r2Y', 'title': 'How Private Equity Consumed America', 'date_time': '9 months ago', 'views': '1.9M views'}, {'video_url': 'https://www.youtube.com/watch?v=fndEkeob5tY', 'title': 'How the Korean DMZ Works', 'date_time': '9 months ago', 'views': '1.7M views'}, {'video_url': 'https://www.youtube.com/watch?v=M_U_rzlVVdA', 'title': 'Why Utah is So Weird', 'date_time': '10 months ago', 'views': '1.9M views'}, {'video_url': 'https://www.youtube.com/watch?v=ascPhiXcpss', 'title': \"Why China's Economy is Finally Slowing Down\", 'date_time': '10 months ago', 'views': '1.8M views'}, {'video_url': 'https://www.youtube.com/watch?v=V0DmliiUFHk', 'title': 'The Increasing Reality of War in Space', 'date_time': '11 months ago', 'views': '1.6M views'}, {'video_url': 'https://www.youtube.com/watch?v=OQm1l6OWahA', 'title': 'How Qatar is Trying to Become the Switzerland of the Middle East', 'date_time': '11 months ago', 'views': '734K views'}, {'video_url': 'https://www.youtube.com/watch?v=URoVKPVDKPU', 'title': 'How Boeing Lost Its Way', 'date_time': '11 months ago', 'views': '2.3M views'}, {'video_url': 'https://www.youtube.com/watch?v=iJuGkwA7S1c', 'title': 'The Logistics of Firefighting', 'date_time': '1 year ago', 'views': '1.3M views'}, {'video_url': 'https://www.youtube.com/watch?v=dmpyV4Yf8b0', 'title': 'The Surprising Success of Private Passenger Rail', 'date_time': '1 year ago', 'views': '1.5M views'}, {'video_url': 'https://www.youtube.com/watch?v=S_vc04fveGc', 'title': \"Everything That's Changed With Nine of Our Most Popular Videos\", 'date_time': '1 year ago', 'views': '746K views'}, {'video_url': 'https://www.youtube.com/watch?v=nDXsVhFG7TE', 'title': 'The Most Dangerous Subway in America', 'date_time': '1 year ago', 'views': '2.4M views'}, {'video_url': 'https://www.youtube.com/watch?v=8cyuOcb5O_M', 'title': 'How Modern Treasure Hunting Works', 'date_time': '1 year ago', 'views': '819K views'}, {'video_url': 'https://www.youtube.com/watch?v=aQXD-Wr6h64', 'title': 'Why the US Military Costs so Much', 'date_time': '1 year ago', 'views': '2.4M views'}, {'video_url': 'https://www.youtube.com/watch?v=Iiny1GrfhYM', 'title': \"South Africa's Slow, Inevitable March Towards Collapse\", 'date_time': '1 year ago', 'views': '5.2M views'}, {'video_url': 'https://www.youtube.com/watch?v=44l6f7iXGAk', 'title': 'Why West Virginia is so Poor', 'date_time': '1 year ago', 'views': '2.6M views'}, {'video_url': 'https://www.youtube.com/watch?v=AL57dSIXqBM', 'title': 'The Troubling Danger of Dams', 'date_time': '1 year ago', 'views': '1.6M views'}, {'video_url': 'https://www.youtube.com/watch?v=vQpUV--2Jao', 'title': 'How Dollar Stores Quietly Consumed America', 'date_time': '1 year ago', 'views': '3.8M views'}, {'video_url': 'https://www.youtube.com/watch?v=C_B09FZwSbA', 'title': 'How to Control a Crowd', 'date_time': '1 year ago', 'views': '4M views'}, {'video_url': 'https://www.youtube.com/watch?v=Kmlfy4svwuM', 'title': 'How to Build a Road', 'date_time': '1 year ago', 'views': '3.4M views'}, {'video_url': 'https://www.youtube.com/watch?v=mYGTNHfgZ8E', 'title': 'Saudi Arabia’s Plan to Conquer Global Golf', 'date_time': '1 year ago', 'views': '691K views'}, {'video_url': 'https://www.youtube.com/watch?v=73ygHs4Kwcs', 'title': 'The Broken Economics of the Oceans', 'date_time': '1 year ago', 'views': '2.1M views'}, {'video_url': 'https://www.youtube.com/watch?v=g6rFff2MAxM', 'title': 'The Growing Revolt Against the US Dollar', 'date_time': '1 year ago', 'views': '1.7M views'}, {'video_url': 'https://www.youtube.com/watch?v=Alqt6RCEWdM', 'title': 'How We Built a $150 Million Streaming Platform with $100,000', 'date_time': '1 year ago', 'views': '1M views'}, {'video_url': 'https://www.youtube.com/watch?v=37Hmd-VkMIM', 'title': 'Too Many People are Going Outside', 'date_time': '1 year ago', 'views': '1.8M views'}, {'video_url': 'https://www.youtube.com/watch?v=WtkI-QAgM6w', 'title': 'How the World’s Most Dangerous Country Solved Murder', 'date_time': '1 year ago', 'views': '4M views'}, {'video_url': 'https://www.youtube.com/watch?v=GXT46osICdY', 'title': 'How Mexico is Becoming the New China', 'date_time': '1 year ago', 'views': '2.1M views'}, {'video_url': 'https://www.youtube.com/watch?v=S46iJIk3t70', 'title': 'How Corporate Consolidation is Killing Ski Towns', 'date_time': '1 year ago', 'views': '2.8M views'}, {'video_url': 'https://www.youtube.com/watch?v=1ngms6iRa14', 'title': 'Why California Has So Many Problems', 'date_time': '1 year ago', 'views': '2.9M views'}, {'video_url': 'https://www.youtube.com/watch?v=89FoKRtpAy4', 'title': 'The System that Fuels Media Negativity', 'date_time': '1 year ago', 'views': '753K views'}, {'video_url': 'https://www.youtube.com/watch?v=TcSpBAZvMhI', 'title': 'A Week in the Life of a US President', 'date_time': '1 year ago', 'views': '2.7M views'}, {'video_url': 'https://www.youtube.com/watch?v=xpUIZ32n9nw', 'title': 'How Tesla Fumbled', 'date_time': '1 year ago', 'views': '1.8M views'}, {'video_url': 'https://www.youtube.com/watch?v=1-m_Jjse-cs', 'title': 'The Airline Industry’s Problem with Absolutely Ancient IT', 'date_time': '1 year ago', 'views': '3.3M views'}, {'video_url': 'https://www.youtube.com/watch?v=xfN6lgxedEI', 'title': 'The Impossible Ethical Bargain Behind African Safaris', 'date_time': '2 years ago', 'views': '1.4M views'}, {'video_url': 'https://www.youtube.com/watch?v=qQTjLWIHN74', 'title': 'The One Tiny Law That Keeps Amtrak Terrible', 'date_time': '2 years ago', 'views': '3M views'}, {'video_url': 'https://www.youtube.com/watch?v=c3dDagZMALQ', 'title': '22 Problems Solved in 2022', 'date_time': '2 years ago', 'views': '1.4M views'}, {'video_url': 'https://www.youtube.com/watch?v=Pm5bTZRhncY', 'title': 'How the Sports Betting Industry Quietly Consumed America', 'date_time': '2 years ago', 'views': '1.7M views'}, {'video_url': 'https://www.youtube.com/watch?v=AIqxfBhlwx0', 'title': 'How Florida Got So Weird', 'date_time': '2 years ago', 'views': '3.8M views'}, {'video_url': 'https://www.youtube.com/watch?v=oL0umpPPe-8', 'title': 'Samsung’s Dangerous Dominance over South Korea', 'date_time': '2 years ago', 'views': '6M views'}, {'video_url': 'https://www.youtube.com/watch?v=GBp_NgrrtPM', 'title': 'China’s Electricity Problem', 'date_time': '2 years ago', 'views': '3.3M views'}, {'video_url': 'https://www.youtube.com/watch?v=YBNcYxHJPLE', 'title': 'How the World’s Wealthiest People Travel', 'date_time': '2 years ago', 'views': '5.6M views'}, {'video_url': 'https://www.youtube.com/watch?v=iIpPuJ_r8Xg', 'title': 'The US Military’s Massive Global Transportation System', 'date_time': '2 years ago', 'views': '2.9M views'}, {'video_url': 'https://www.youtube.com/watch?v=MY8AB1wYOtg', 'title': 'The Absurd Logistics of Concert Tours', 'date_time': '2 years ago', 'views': '2.7M views'}, {'video_url': 'https://www.youtube.com/watch?v=8xzINLykprA', 'title': 'Money’s Mostly Digital, So Why Is Moving It So Hard?', 'date_time': '2 years ago', 'views': '3.3M views'}, {'video_url': 'https://www.youtube.com/watch?v=f66GfsKPTUg', 'title': 'How This Central African City Became the World’s Most Expensive', 'date_time': '2 years ago', 'views': '6.1M views'}, {'video_url': 'https://www.youtube.com/watch?v=IDLkOWW0_xg', 'title': 'The Simple Genius of NYC’s Water Supply System', 'date_time': '2 years ago', 'views': '3.3M views'}, {'video_url': 'https://www.youtube.com/watch?v=U9jirFqex6g', 'title': 'Europe’s Experiment: Treating Trains Like Planes', 'date_time': '2 years ago', 'views': '3.4M views'}, {'video_url': 'https://www.youtube.com/watch?v=eoWcQUjNM8o', 'title': 'How the YouTube Creator Economy Works', 'date_time': '2 years ago', 'views': '1.3M views'}, {'video_url': 'https://www.youtube.com/watch?v=V0Xx0E8cs7U', 'title': 'The Incredible Logistics Behind Weather Forecasting', 'date_time': '2 years ago', 'views': '1.7M views'}, {'video_url': 'https://www.youtube.com/watch?v=v0aGGOK4kAM', 'title': 'Australia Had a Mass-Shooting Problem. Here’s How it Stopped', 'date_time': '2 years ago', 'views': '1.2M views'}, {'video_url': 'https://www.youtube.com/watch?v=AW3gaelBypY', 'title': 'The Carbon Offset Problem', 'date_time': '2 years ago', 'views': '1.8M views'}, {'video_url': 'https://www.youtube.com/watch?v=xhYl7Jjefo8', 'title': 'Jet Lag: The Game - A New Channel by Wendover Productions', 'date_time': '2 years ago', 'views': '616K views'}, {'video_url': 'https://www.youtube.com/watch?v=oESoI6XxZTg', 'title': 'How to Design a Theme Park (To Take Tons of Your Money)', 'date_time': '2 years ago', 'views': '3.2M views'}, {'video_url': 'https://www.youtube.com/watch?v=AQbmpecxS2w', 'title': 'Why Gas Got So Expensive (It’s Not the War)', 'date_time': '2 years ago', 'views': '3.7M views'}, {'video_url': 'https://www.youtube.com/watch?v=U_7CGl6VWaQ', 'title': 'How Cyberwarfare Actually Works', 'date_time': '2 years ago', 'views': '3.1M views'}, {'video_url': 'https://www.youtube.com/watch?v=R9pxFgJwxFE', 'title': 'The Incredible Logistics Behind Corn Farming', 'date_time': '2 years ago', 'views': '2.5M views'}, {'video_url': 'https://www.youtube.com/watch?v=SrTrpwzVt4g', 'title': 'The Sanction-Fueled Destruction of the Russian Aviation Industry', 'date_time': '2 years ago', 'views': '5M views'}, {'video_url': 'https://www.youtube.com/watch?v=b4wRdoWpw0w', 'title': \"The Failed Logistics of Russia's Invasion of Ukraine\", 'date_time': '2 years ago', 'views': '10M views'}, {'video_url': 'https://www.youtube.com/watch?v=UX4KklvCDmg', 'title': 'Why Everywhere in the US is Starting to Look the Same', 'date_time': '2 years ago', 'views': '3.8M views'}, {'video_url': 'https://www.youtube.com/watch?v=J-M98KLgaUU', 'title': 'Drone Delivery Was Supposed to be the Future. What Went Wrong?', 'date_time': '3 years ago', 'views': '2.7M views'}, {'video_url': 'https://www.youtube.com/watch?v=0faCad2kKeg', 'title': 'How Cell Service Actually Works', 'date_time': '3 years ago', 'views': '3.1M views'}, {'video_url': 'https://www.youtube.com/watch?v=9dnN82DsQ2k', 'title': \"Electric Vehicles' Battery Problem\", 'date_time': '3 years ago', 'views': '3.2M views'}, {'video_url': 'https://www.youtube.com/watch?v=Y413Czri6qw', 'title': 'The News You Missed in 2021, From Every Country in the World (Part 2)', 'date_time': '3 years ago', 'views': '773K views'}, {'video_url': 'https://www.youtube.com/watch?v=W3qZIPiWKc4', 'title': 'The News You Missed in 2021, From Every Country in the World (Part 1)', 'date_time': '3 years ago', 'views': '1.3M views'}, {'video_url': 'https://www.youtube.com/watch?v=ggUduBmvQ_4', 'title': 'How Airlines Quietly Became Banks', 'date_time': '3 years ago', 'views': '6.6M views'}, {'video_url': 'https://www.youtube.com/watch?v=xhxo2oXRiio', 'title': 'How Electricity Gets to You', 'date_time': '3 years ago', 'views': '2.7M views'}, {'video_url': 'https://www.youtube.com/watch?v=8d5d_HXGeMA', 'title': \"How Ocean Shipping Works (And Why It's Broken)\", 'date_time': '3 years ago', 'views': '4.3M views'}, {'video_url': 'https://www.youtube.com/watch?v=8egszLpKMWU', 'title': 'Is Africa the Next China?', 'date_time': '3 years ago', 'views': '1M views'}, {'video_url': 'https://www.youtube.com/watch?v=WNrobOYWZQE', 'title': 'When Will Space Tourism be Affordable?', 'date_time': '3 years ago', 'views': '749K views'}, {'video_url': 'https://www.youtube.com/watch?v=ZZ3F3zWiEmc', 'title': 'The Art Market is a Scam (And Rich People Run It)', 'date_time': '3 years ago', 'views': '2.8M views'}, {'video_url': 'https://www.youtube.com/watch?v=V16GdzRvhRU', 'title': \"Saudi Arabia's Oil Problem\", 'date_time': '3 years ago', 'views': '3.5M views'}, {'video_url': 'https://www.youtube.com/watch?v=o4tuhWvKduU', 'title': 'The Logistics of Evacuating Afghanistan', 'date_time': '3 years ago', 'views': '1.6M views'}, {'video_url': 'https://www.youtube.com/watch?v=1-uNMj57Y4c', 'title': \"Airlines' Business Travel Problem\", 'date_time': '3 years ago', 'views': '1.1M views'}, {'video_url': 'https://www.youtube.com/watch?v=SR7BA3xEmDo', 'title': 'The Simple Genius of the Interstate Highway System', 'date_time': '3 years ago', 'views': '3.1M views'}, {'video_url': 'https://www.youtube.com/watch?v=iO5mfbpq16A', 'title': 'Why the Southern Hemisphere is Poorer', 'date_time': '3 years ago', 'views': '1.4M views'}, {'video_url': 'https://www.youtube.com/watch?v=B3FKtBNEBRc', 'title': 'The Incredible Logistics of the Tokyo Olympics', 'date_time': '3 years ago', 'views': '1M views'}, {'video_url': 'https://www.youtube.com/watch?v=VJtFgte1GKc', 'title': 'Little Bay: Why This Island Was Abandoned on December 31st, 2019', 'date_time': '3 years ago', 'views': '567K views'}, {'video_url': 'https://www.youtube.com/watch?v=J5PLyYVIEpg', 'title': 'How the Navajo Nation Works (A Country Within a Country?)', 'date_time': '3 years ago', 'views': '1.7M views'}, {'video_url': 'https://www.youtube.com/watch?v=LHhJuAOK3CI', 'title': 'Extremities: A New Channel by Wendover Productions', 'date_time': '3 years ago', 'views': '228K views'}, {'video_url': 'https://www.youtube.com/watch?v=aH4b3sAs-l8', 'title': 'Why Electric Planes are Inevitably Coming', 'date_time': '3 years ago', 'views': '1.7M views'}, {'video_url': 'https://www.youtube.com/watch?v=b1JlYZQG3lI', 'title': \"Why There are Now So Many Shortages (It's Not COVID)\", 'date_time': '3 years ago', 'views': '7.8M views'}, {'video_url': 'https://www.youtube.com/watch?v=BNpk_OGEGlA', 'title': 'The Incredible Logistics of Grocery Stores', 'date_time': '3 years ago', 'views': '3.3M views'}, {'video_url': 'https://www.youtube.com/watch?v=4p0fRlCHYyg', 'title': 'Supersonic Planes are Coming Back (And This Time, They Might Work)', 'date_time': '3 years ago', 'views': '3M views'}, {'video_url': 'https://www.youtube.com/watch?v=N4dOCfWlgBw', 'title': 'The Insane Logistics of Shutting Down the Cruise Industry', 'date_time': '3 years ago', 'views': '2.3M views'}, {'video_url': 'https://www.youtube.com/watch?v=3CuPqeIJr3U', 'title': \"China's Vaccine Diplomacy\", 'date_time': '3 years ago', 'views': '931K views'}, {'video_url': 'https://www.youtube.com/watch?v=DlTq8DbRs4k', 'title': \"The UK's Failed Experiment in Rail Privatization\", 'date_time': '3 years ago', 'views': '1.9M views'}, {'video_url': 'https://www.youtube.com/watch?v=VjiH3mpxyrQ', 'title': 'How to Start an Airline', 'date_time': '3 years ago', 'views': '2.3M views'}, {'video_url': 'https://www.youtube.com/watch?v=pLcqJ2DclEg', 'title': 'The Electric Vehicle Charging Problem', 'date_time': '3 years ago', 'views': '5M views'}, {'video_url': 'https://www.youtube.com/watch?v=3gdCH1XUIlE', 'title': \"How Air Ambulances (Don't) Work\", 'date_time': '4 years ago', 'views': '1.4M views'}, {'video_url': 'https://www.youtube.com/watch?v=2qanMpnYsjk', 'title': \"How Amazon's Super-Complex Shipping System Works\", 'date_time': '4 years ago', 'views': '3.7M views'}, {'video_url': 'https://www.youtube.com/watch?v=7R7jNWHp0D0', 'title': 'The News You Missed in 2020, From Every Country in the World (Part 2)', 'date_time': '4 years ago', 'views': '1.4M views'}, {'video_url': 'https://www.youtube.com/watch?v=GIFV_Z7Y9_w', 'title': 'The News You Missed in 2020, From Every Country in the World (Part 1)', 'date_time': '4 years ago', 'views': '2.3M views'}, {'video_url': 'https://www.youtube.com/watch?v=KXRtNwUju5g', 'title': \"How China Broke the World's Recycling\", 'date_time': '4 years ago', 'views': '4.4M views'}, {'video_url': 'https://www.youtube.com/watch?v=fTyUE162lrw', 'title': 'Why Long-Haul Low-Cost Airlines Always Go Bankrupt', 'date_time': '4 years ago', 'views': '1.6M views'}, {'video_url': 'https://www.youtube.com/watch?v=ZAEydOjNWyQ', 'title': 'How Living at the South Pole Works', 'date_time': '4 years ago', 'views': '2.9M views'}, {'video_url': 'https://www.youtube.com/watch?v=_BCY0SPOFpE', 'title': \"Egypt's Dam Problem: The Geopolitics of the Nile\", 'date_time': '4 years ago', 'views': '1.9M views'}, {'video_url': 'https://www.youtube.com/watch?v=v_rXhuaI0W8', 'title': 'The 8 Flights That Show How COVID-19 Reinvented Aviation', 'date_time': '4 years ago', 'views': '1.4M views'}, {'video_url': 'https://www.youtube.com/watch?v=Ongqf93rAcM', 'title': \"How to Beat the Casino, and How They'll Stop You\", 'date_time': '4 years ago', 'views': '3.6M views'}, {'video_url': 'https://www.youtube.com/watch?v=byW1GExQB84', 'title': 'Distributing the COVID Vaccine: The Greatest Logistics Challenge Ever', 'date_time': '4 years ago', 'views': '919K views'}, {'video_url': 'https://www.youtube.com/watch?v=DTIDCA7mjZs', 'title': 'How to Illegally Cross the Mexico-US Border', 'date_time': '4 years ago', 'views': '1.9M views'}, {'video_url': 'https://www.youtube.com/watch?v=H_akzwzghWQ', 'title': 'How COVID-19 Broke the Airline Pricing Model', 'date_time': '4 years ago', 'views': '2.3M views'}, {'video_url': 'https://www.youtube.com/watch?v=7C1fPocIFgU', 'title': 'The Broken Economics of Organ Transplants', 'date_time': '4 years ago', 'views': '656K views'}, {'video_url': 'https://www.youtube.com/watch?v=3J06af5xHD0', 'title': 'The Final Years of Majuro [Documentary]', 'date_time': '4 years ago', 'views': '2.1M views'}, {'video_url': 'https://www.youtube.com/watch?v=YgiMqePRp0Y', 'title': 'The Logistics of Covid-19 Testing', 'date_time': '4 years ago', 'views': '542K views'}, {'video_url': 'https://www.youtube.com/watch?v=Rtmhv5qEBg0', 'title': \"Airlines' Protocol for After a Plane Crash\", 'date_time': '4 years ago', 'views': '2M views'}, {'video_url': 'https://www.youtube.com/watch?v=6GMoUmvw8kU', 'title': 'Why Taiwan and China are Battling over Tiny Island Countries', 'date_time': '4 years ago', 'views': '865K views'}, {'video_url': 'https://www.youtube.com/watch?v=QlPrAKtegFQ', 'title': 'How Long-Haul Trucking Works', 'date_time': '4 years ago', 'views': '2.6M views'}, {'video_url': 'https://www.youtube.com/watch?v=uAG4zCsiA_w', 'title': 'Why Helicopter Airlines Failed', 'date_time': '4 years ago', 'views': '1.7M views'}, {'video_url': 'https://www.youtube.com/watch?v=NtX-Ibi21tU', 'title': 'The Five Rules of Risk', 'date_time': '4 years ago', 'views': '1.1M views'}, {'video_url': 'https://www.youtube.com/watch?v=r2oPk20OHBE', 'title': \"Air Cargo's Coronavirus Problem\", 'date_time': '4 years ago', 'views': '1.1M views'}, {'video_url': 'https://www.youtube.com/watch?v=ABIkWS_YavM', 'title': 'How Offshore Oil Rigs Work', 'date_time': '4 years ago', 'views': '2.9M views'}, {'video_url': 'https://www.youtube.com/watch?v=-pNBAxx4IRo', 'title': \"How the US' Hospital Ships Work\", 'date_time': '4 years ago', 'views': '1.6M views'}, {'video_url': 'https://www.youtube.com/watch?v=VX2e2iEg_pM', 'title': 'COVID-19: How Aviation is Fighting for Survival', 'date_time': '4 years ago', 'views': '1.3M views'}, {'video_url': 'https://www.youtube.com/watch?v=Ppjv0H-Yt5Q', 'title': 'The Logistics of the US Census', 'date_time': '4 years ago', 'views': '929K views'}, {'video_url': 'https://www.youtube.com/watch?v=QvUpSFGRqEo', 'title': 'How Boeing Will Get the 737 MAX Flying Again', 'date_time': '4 years ago', 'views': '1.2M views'}, {'video_url': 'https://www.youtube.com/watch?v=3Sh7hghljuQ', 'title': 'How China Built a Hospital in 10 Days', 'date_time': '4 years ago', 'views': '2.8M views'}, {'video_url': 'https://www.youtube.com/watch?v=vpcUVOjUrKk', 'title': 'The Business of Ski Resorts', 'date_time': '5 years ago', 'views': '2.6M views'}, {'video_url': 'https://www.youtube.com/watch?v=FCEwPio2bkg', 'title': \"American Sports' Battle for China\", 'date_time': '5 years ago', 'views': '504K views'}, {'video_url': 'https://www.youtube.com/watch?v=5-QejUTDCWw', 'title': \"The World's Most Useful Airport [Documentary]\", 'date_time': '5 years ago', 'views': '9.7M views'}, {'video_url': 'https://www.youtube.com/watch?v=RyG7nzteG64', 'title': 'The Logistics of the US Election', 'date_time': '5 years ago', 'views': '854K views'}, {'video_url': 'https://www.youtube.com/watch?v=dSw7fWCrDk0', 'title': 'Amtrak’s Grand Plan for Profitability', 'date_time': '5 years ago', 'views': '1.5M views'}, {'video_url': 'https://www.youtube.com/watch?v=5SDUm1bx7Zc', 'title': \"Australia's China Problem\", 'date_time': '5 years ago', 'views': '6.9M views'}, {'video_url': 'https://www.youtube.com/watch?v=U1a73gdNs0M', 'title': 'The US Government Program That Pays For Your Flights', 'date_time': '5 years ago', 'views': '929K views'}, {'video_url': 'https://www.youtube.com/watch?v=tLS9IK693KI', 'title': 'The Logistics of Disaster Response', 'date_time': '5 years ago', 'views': '997K views'}, {'video_url': 'https://www.youtube.com/watch?v=cnfoTAxhpzQ', 'title': 'Why So Many Airlines are Going Bankrupt', 'date_time': '5 years ago', 'views': '2.9M views'}, {'video_url': 'https://www.youtube.com/watch?v=erS2YMYcZO8', 'title': 'The Logistics of Filming Avengers', 'date_time': '5 years ago', 'views': '1.5M views'}, {'video_url': 'https://www.youtube.com/watch?v=XjbYloKJX7c', 'title': \"Boeing's China Problem\", 'date_time': '5 years ago', 'views': '3.5M views'}, {'video_url': 'https://www.youtube.com/watch?v=A0qt0hdCQtg', 'title': \"The US' Overseas Military Base Strategy\", 'date_time': '5 years ago', 'views': '3.8M views'}, {'video_url': 'https://www.youtube.com/watch?v=I9ttpHvK6yw', 'title': 'How to Stop an Epidemic', 'date_time': '5 years ago', 'views': '2.3M views'}, {'video_url': 'https://www.youtube.com/watch?v=pJ_LUFBSoqM', 'title': \"The NFL's Logistics Problem\", 'date_time': '5 years ago', 'views': '2.5M views'}, {'video_url': 'https://www.youtube.com/watch?v=jYPrH4xANpU', 'title': 'The Economics of Private Jets', 'date_time': '5 years ago', 'views': '4.4M views'}, {'video_url': 'https://www.youtube.com/watch?v=KgsxapE27NU', 'title': \"The World's Shortcut: How the Panama Canal Works\", 'date_time': '5 years ago', 'views': '4.6M views'}, {'video_url': 'https://www.youtube.com/watch?v=C1f2GwWLB3k', 'title': 'How Air Traffic Control Works', 'date_time': '5 years ago', 'views': '4.8M views'}, {'video_url': 'https://www.youtube.com/watch?v=u2-ehDQM6TM', 'title': 'Extremities: A New Scripted Podcast from Wendover', 'date_time': '5 years ago', 'views': '194K views'}, {'video_url': 'https://www.youtube.com/watch?v=17oZPYcpPnQ', 'title': \"Iceland's Tourism Revolution\", 'date_time': '5 years ago', 'views': '1.3M views'}, {'video_url': 'https://www.youtube.com/watch?v=SUsqnD9-42g', 'title': 'Mini Countries Abroad: How Embassies Work', 'date_time': '5 years ago', 'views': '6.2M views'}, {'video_url': 'https://www.youtube.com/watch?v=BfNEOfEGe3I', 'title': 'The Economics That Made Boeing Build the 737 Max', 'date_time': '5 years ago', 'views': '2.4M views'}, {'video_url': 'https://www.youtube.com/watch?v=EkRRo5DN9lI', 'title': 'The Logistics of the International Space Station', 'date_time': '5 years ago', 'views': '3.3M views'}, {'video_url': 'https://www.youtube.com/watch?v=E3jfvncofiA', 'title': 'How Airlines Decide Where to Fly', 'date_time': '5 years ago', 'views': '2.8M views'}, {'video_url': 'https://www.youtube.com/watch?v=xX0ozxrZlEQ', 'title': 'How Rwanda is Becoming the Singapore of Africa', 'date_time': '5 years ago', 'views': '6.8M views'}, {'video_url': 'https://www.youtube.com/watch?v=9poImReDFeY', 'title': 'How Freight Trains Connect the World', 'date_time': '5 years ago', 'views': '2.4M views'}, {'video_url': 'https://www.youtube.com/watch?v=69EVxLLhciQ', 'title': 'How Hong Kong Changed Countries', 'date_time': '5 years ago', 'views': '2.6M views'}, {'video_url': 'https://www.youtube.com/watch?v=gdy0gBVWAzE', 'title': 'Living Underwater: How Submarines Work', 'date_time': '6 years ago', 'views': '10M views'}, {'video_url': 'https://www.youtube.com/watch?v=bnoUBfLxZz0', 'title': 'The Super-Fast Logistics of Delivering Blood By Drone', 'date_time': '6 years ago', 'views': '1M views'}, {'video_url': 'https://www.youtube.com/watch?v=msjuRoZ0Vu8', 'title': 'The New Economy of the Warming Arctic', 'date_time': '6 years ago', 'views': '852K views'}, {'video_url': 'https://www.youtube.com/watch?v=c0pS3Zx7Fc8', 'title': 'Cities at Sea: How Aircraft Carriers Work', 'date_time': '6 years ago', 'views': '13M views'}, {'video_url': 'https://www.youtube.com/watch?v=TNUomfuWuA8', 'title': 'The Rise of 20-Hour Long Flights', 'date_time': '6 years ago', 'views': '4M views'}, {'video_url': 'https://www.youtube.com/watch?v=0JDoll8OEFE', 'title': 'Why China Is so Good at Building Railways', 'date_time': '6 years ago', 'views': '8.5M views'}, {'video_url': 'https://www.youtube.com/watch?v=7cjIWMUgPtY', 'title': 'The Magic Economics of Gambling', 'date_time': '6 years ago', 'views': '3.2M views'}, {'video_url': 'https://www.youtube.com/watch?v=cognzTud3Wg', 'title': 'Why the World is Running Out of Pilots', 'date_time': '6 years ago', 'views': '4.2M views'}, {'video_url': 'https://www.youtube.com/watch?v=EodxubsO8EI', 'title': 'How Fighting Wildfires Works', 'date_time': '6 years ago', 'views': '1.7M views'}, {'video_url': 'https://www.youtube.com/watch?v=30XpSozOZII', 'title': 'How to Build a $100 Million Satellite', 'date_time': '6 years ago', 'views': '1.3M views'}, {'video_url': 'https://www.youtube.com/watch?v=zQV_DKQkT8o', 'title': \"How Africa is Becoming China's China\", 'date_time': '6 years ago', 'views': '9M views'}, {'video_url': 'https://www.youtube.com/watch?v=wdU1WTBJMl0', 'title': 'How Airports Make Money', 'date_time': '6 years ago', 'views': '5M views'}, {'video_url': 'https://www.youtube.com/watch?v=6OLVFa8YRfM', 'title': 'The Insane Logistics of Formula 1', 'date_time': '6 years ago', 'views': '6.8M views'}, {'video_url': 'https://www.youtube.com/watch?v=jdNDYBt9e_U', 'title': 'The Most Valuable Airspace in the World', 'date_time': '6 years ago', 'views': '5.7M views'}, {'video_url': 'https://www.youtube.com/watch?v=5r90DYjZ76g', 'title': \"Guam: Why America's Most Isolated Territory Exists\", 'date_time': '6 years ago', 'views': '6.6M views'}, {'video_url': 'https://www.youtube.com/watch?v=1Y1kJpHBn50', 'title': 'How to Design Impenetrable Airport Security', 'date_time': '6 years ago', 'views': '5.3M views'}, {'video_url': 'https://www.youtube.com/watch?v=hiRBQxHrxNw', 'title': 'Space: The Next Trillion Dollar Industry', 'date_time': '6 years ago', 'views': '3.5M views'}, {'video_url': 'https://www.youtube.com/watch?v=-s3j-ptJD10', 'title': 'The Logistics of Living in Antarctica', 'date_time': '6 years ago', 'views': '5.6M views'}, {'video_url': 'https://www.youtube.com/watch?v=y3qfeoqErtY', 'title': 'How Overnight Shipping Works', 'date_time': '6 years ago', 'views': '7.4M views'}, {'video_url': 'https://www.youtube.com/watch?v=IvAvHjYoLUU', 'title': 'Why Cities Exist', 'date_time': '7 years ago', 'views': '3.2M views'}, {'video_url': 'https://www.youtube.com/watch?v=72hlr-E7KA0', 'title': 'How Airlines Price Flights', 'date_time': '7 years ago', 'views': '3.4M views'}, {'video_url': 'https://www.youtube.com/watch?v=voozHXadYYE', 'title': 'The Gene Patent Question', 'date_time': '7 years ago', 'views': '597K views'}, {'video_url': 'https://www.youtube.com/watch?v=uU3kLBo_ruo', 'title': 'The Nuclear Waste Problem', 'date_time': '7 years ago', 'views': '3.8M views'}, {'video_url': 'https://www.youtube.com/watch?v=V1YMPk3XhCc', 'title': 'The Little Plane War', 'date_time': '7 years ago', 'views': '4.2M views'}, {'video_url': 'https://www.youtube.com/watch?v=h97fXhDN5qE', 'title': \"Elon Musk's Basic Economics\", 'date_time': '7 years ago', 'views': '6M views'}, {'video_url': 'https://www.youtube.com/watch?v=GiBF6v5UAAE', 'title': \"China's Geography Problem\", 'date_time': '7 years ago', 'views': '12M views'}, {'video_url': 'https://www.youtube.com/watch?v=-cjfTG8DbwA', 'title': 'Why Public Transportation Sucks in the US', 'date_time': '7 years ago', 'views': '3.4M views'}, {'video_url': 'https://www.youtube.com/watch?v=ql0Op1VcELw', 'title': \"What's Actually the Plane of the Future\", 'date_time': '7 years ago', 'views': '5M views'}, {'video_url': 'https://www.youtube.com/watch?v=RaGG50laHgI', 'title': 'TWL is back! (But not here...)', 'date_time': '7 years ago', 'views': '307K views'}, {'video_url': 'https://www.youtube.com/watch?v=yT9bit2-1pg', 'title': 'How to Stop a Riot', 'date_time': '7 years ago', 'views': '5.2M views'}, {'video_url': 'https://www.youtube.com/watch?v=e-WO-c9xHms', 'title': 'How Geography Gave the US Power', 'date_time': '7 years ago', 'views': '3.6M views'}, {'video_url': 'https://www.youtube.com/watch?v=E7Jfrzkmzyc', 'title': 'Why Chinese Manufacturing Wins', 'date_time': '7 years ago', 'views': '6.2M views'}, {'video_url': 'https://www.youtube.com/watch?v=dGXahSnA_oA', 'title': 'How Airlines Schedule Flights', 'date_time': '7 years ago', 'views': '4.2M views'}, {'video_url': 'https://www.youtube.com/watch?v=N4PW66_g6XA', 'title': 'How to Fix Traffic Forever', 'date_time': '7 years ago', 'views': '4M views'}, {'video_url': 'https://www.youtube.com/watch?v=j48Z3W35FI0', 'title': 'How the US Government Will Survive Doomsday', 'date_time': '7 years ago', 'views': '4.8M views'}, {'video_url': 'https://www.youtube.com/watch?v=MP1OAm7Pzps', 'title': 'Why the Northernmost Town in America Exists', 'date_time': '7 years ago', 'views': '9.4M views'}, {'video_url': 'https://www.youtube.com/watch?v=lkCeKc1GTMs', 'title': 'Which Country Are International Airports In?', 'date_time': '7 years ago', 'views': '3.8M views'}, {'video_url': 'https://www.youtube.com/watch?v=Nu2WOxXxsHw', 'title': 'How the Post Office Made America', 'date_time': '7 years ago', 'views': '1.2M views'}, {'video_url': 'https://www.youtube.com/watch?v=HSxSgbNQi-g', 'title': 'Small Planes Over Big Oceans (ETOPS Explained)', 'date_time': '7 years ago', 'views': '3.2M views'}, {'video_url': 'https://www.youtube.com/watch?v=ZcDwtO4RWmo', 'title': \"Canada's New Shipping Shortcut\", 'date_time': '7 years ago', 'views': '3.7M views'}, {'video_url': 'https://www.youtube.com/watch?v=EqWksuyry5w', 'title': 'Why Airlines Sell More Seats Than They Have', 'date_time': '7 years ago', 'views': '2.2M views'}, {'video_url': 'https://www.youtube.com/watch?v=fwjwePe-HmA', 'title': 'Why Trains are so Expensive', 'date_time': '7 years ago', 'views': '3.1M views'}, {'video_url': 'https://www.youtube.com/watch?v=v3C_5bsdQWg', 'title': \"Russia's Geography Problem\", 'date_time': '7 years ago', 'views': '8.7M views'}, {'video_url': 'https://www.youtube.com/watch?v=BzB5xtGGsTc', 'title': 'The Economics of Airline Class', 'date_time': '7 years ago', 'views': '11M views'}, {'video_url': 'https://www.youtube.com/watch?v=n1QEj09Pe6k', 'title': \"Why Planes Don't Fly Faster\", 'date_time': '7 years ago', 'views': '7.3M views'}, {'video_url': 'https://www.youtube.com/watch?v=YJRqB1xtIxg', 'title': \"The US President's $2,614 Per Minute Transport System\", 'date_time': '7 years ago', 'views': '12M views'}, {'video_url': 'https://www.youtube.com/watch?v=ancuYECRGN8', 'title': 'Every State in the US', 'date_time': '8 years ago', 'views': '6.6M views'}, {'video_url': 'https://www.youtube.com/watch?v=bL2WPDtLYNU', 'title': 'How to Make First Contact', 'date_time': '8 years ago', 'views': '3.2M views'}, {'video_url': 'https://www.youtube.com/watch?v=3PWWtqfwacQ', 'title': 'Why Cities Are Where They Are', 'date_time': '8 years ago', 'views': '5.3M views'}, {'video_url': 'https://www.youtube.com/watch?v=_lj127TKu4Q', 'title': 'Is the European Union a Country?', 'date_time': '8 years ago', 'views': '2.1M views'}, {'video_url': 'https://www.youtube.com/watch?v=d1CVVoAihBc', 'title': 'Every Country in the World (Part 2)', 'date_time': '8 years ago', 'views': '3.2M views'}, {'video_url': 'https://www.youtube.com/watch?v=P-b4SUOfn_4', 'title': 'Every Country in the World (Part 1)', 'date_time': '8 years ago', 'views': '8.8M views'}, {'video_url': 'https://www.youtube.com/watch?v=thqbjA2DC-E', 'title': 'The Five Freedoms of Aviation', 'date_time': '8 years ago', 'views': '3.5M views'}, {'video_url': 'https://www.youtube.com/watch?v=_rk2hPrEnk8', 'title': \"Why Chicken Sandwiches Don't Cost $1500\", 'date_time': '8 years ago', 'views': '3.1M views'}, {'video_url': 'https://www.youtube.com/watch?v=aQSxPzafO_k', 'title': 'Urban Geography: Why We Live Where We Do', 'date_time': '8 years ago', 'views': '3.4M views'}, {'video_url': 'https://www.youtube.com/watch?v=NlIdzF1_b5M', 'title': 'Big Plane vs Little Plane (The Economics of Long-Haul Flights)', 'date_time': '8 years ago', 'views': '4.2M views'}, {'video_url': 'https://www.youtube.com/watch?v=HpfvOc8HJdg', 'title': 'TWL #10.5: Argleton (+ Patreon)', 'date_time': '8 years ago', 'views': '204K views'}, {'video_url': 'https://www.youtube.com/watch?v=7ouiTMXuDAQ', 'title': 'How Much Would it Cost to Live on the Moon?', 'date_time': '8 years ago', 'views': '1M views'}, {'video_url': 'https://www.youtube.com/watch?v=-aQ2E0mlRQI', 'title': 'The Plane Highway in the Sky', 'date_time': '8 years ago', 'views': '4.8M views'}, {'video_url': 'https://www.youtube.com/watch?v=mbEfzuCLoAQ', 'title': 'Why Trains Suck in America', 'date_time': '8 years ago', 'views': '5.9M views'}, {'video_url': 'https://www.youtube.com/watch?v=N7CvEt51fz4', 'title': 'How Maritime Law Works', 'date_time': '8 years ago', 'views': '3.7M views'}, {'video_url': 'https://www.youtube.com/watch?v=7PsmkAxVHdM', 'title': 'Why College is so Expensive', 'date_time': '8 years ago', 'views': '1.2M views'}, {'video_url': 'https://www.youtube.com/watch?v=JoYNhX15w4k', 'title': 'TWL #10: The Day Sweden Switched Driving Directions', 'date_time': '8 years ago', 'views': '1.2M views'}, {'video_url': 'https://www.youtube.com/watch?v=1c-jBfZPVv4', 'title': 'TWL #9: The Secret Anti-Counterfeit Symbol', 'date_time': '8 years ago', 'views': '1.4M views'}, {'video_url': 'https://www.youtube.com/watch?v=069y1MpOkQY', 'title': 'How Budget Airlines Work', 'date_time': '8 years ago', 'views': '9.7M views'}, {'video_url': 'https://www.youtube.com/watch?v=n7RHv_MIIT0', 'title': 'TWL #8: Immortality Through Quantum Suicide', 'date_time': '8 years ago', 'views': '1.9M views'}, {'video_url': 'https://www.youtube.com/watch?v=6Oe8T3AvydU', 'title': 'Why Flying is So Expensive', 'date_time': '8 years ago', 'views': '4.9M views'}, {'video_url': 'https://www.youtube.com/watch?v=LnEyjwdoj7g', 'title': 'TWL #7: This Number is Illegal', 'date_time': '8 years ago', 'views': '3.7M views'}, {'video_url': 'https://www.youtube.com/watch?v=5XdYbmova_s', 'title': 'TWL #6: Big Mac Economics', 'date_time': '8 years ago', 'views': '1.6M views'}, {'video_url': 'https://www.youtube.com/watch?v=F53TA37Mqck', 'title': 'TWL #5: Timekeeping on Mars', 'date_time': '8 years ago', 'views': '821K views'}, {'video_url': 'https://www.youtube.com/watch?v=O6o5C-i02c8', 'title': 'TWL #4: Which Way Should Toilet Paper Face?', 'date_time': '8 years ago', 'views': '754K views'}, {'video_url': 'https://www.youtube.com/watch?v=JllpzZgAAl8', 'title': 'TWL #3: Paper Towns- Fake Places Made to Catch Copyright Thieves', 'date_time': '8 years ago', 'views': '1.1M views'}, {'video_url': 'https://www.youtube.com/watch?v=v_iaurPRhCs', 'title': 'TWL #2: Bir Tawil- The Land Without a Country', 'date_time': '8 years ago', 'views': '864K views'}, {'video_url': 'https://www.youtube.com/watch?v=_ugvJi2pIck', 'title': 'TWL #1: Presidents Are 4x More Likely to be Lefties', 'date_time': '8 years ago', 'views': '563K views'}, {'video_url': 'https://www.youtube.com/watch?v=RRWggYusSds', 'title': \"Why Time is One of Humanity's Greatest Inventions\", 'date_time': '8 years ago', 'views': '1.4M views'}, {'video_url': 'https://www.youtube.com/watch?v=h6AWAoc_Lr0', 'title': 'Space Law-What Laws are There in Space?', 'date_time': '9 years ago', 'views': '1.5M views'}, {'video_url': 'https://www.youtube.com/watch?v=2H9KEcb74aA', 'title': \"A Map Geek's Tour of the World #2\", 'date_time': '9 years ago', 'views': '256K views'}, {'video_url': 'https://www.youtube.com/watch?v=ThNeIT7aceI', 'title': 'How the Layouts of Grocery Stores are Secretly Designed to Make You Spend More Money', 'date_time': '9 years ago', 'views': '995K views'}, {'video_url': 'https://www.youtube.com/watch?v=bg2VZIPfX0U', 'title': 'How to Create a Country', 'date_time': '9 years ago', 'views': '3.9M views'}, {'video_url': 'https://www.youtube.com/watch?v=pVB4TEeMcgA', 'title': \"A Map Geek's Tour of the World\", 'date_time': '9 years ago', 'views': '417K views'}, {'video_url': 'https://www.youtube.com/watch?v=avh7ez858xM', 'title': 'The Messy Ethics of Self Driving Cars', 'date_time': '9 years ago', 'views': '466K views'}, {'video_url': 'https://www.youtube.com/watch?v=Y3jlFtBg0Y8', 'title': 'The Surprising Easternmost Point in the US', 'date_time': '9 years ago', 'views': '225K views'}, {'video_url': 'https://www.youtube.com/watch?v=F-ZskaqBshs', 'title': \"Containerization: The Most Influential Invention That You've Never Heard Of\", 'date_time': '9 years ago', 'views': '704K views'}, {'video_url': 'https://www.youtube.com/watch?v=Nn-ym8y1_kw', 'title': 'The World is Shrinking', 'date_time': '9 years ago', 'views': '194K views'}, {'video_url': 'https://www.youtube.com/watch?v=8LqqVfPduTs', 'title': 'How Marketers Manipulate Us: Psychological Manipulation in Advertising', 'date_time': '9 years ago', 'views': '483K views'}]\n",
      "246\n"
     ]
    }
   ],
   "source": [
    "data = []\n",
    "try:\n",
    "    for e in WebDriverWait(driver, 20).until(EC.presence_of_all_elements_located((By.CSS_SELECTOR, 'div#details'))):\n",
    "        title = e.find_element(By.CSS_SELECTOR,'a#video-title-link').get_attribute('title')\n",
    "        vurl = e.find_element(By.CSS_SELECTOR,'a#video-title-link').get_attribute('href')\n",
    "        views= e.find_element(By.XPATH,'.//*[@id=\"metadata\"]//span[@class=\"inline-metadata-item style-scope ytd-video-meta-block\"][1]').text\n",
    "        date_time = e.find_element(By.XPATH,'.//*[@id=\"metadata\"]//span[@class=\"inline-metadata-item style-scope ytd-video-meta-block\"][2]').text\n",
    "        data.append({\n",
    "            'video_url':vurl,\n",
    "            'title':title,\n",
    "            'date_time':date_time,\n",
    "            'views':views\n",
    "            })\n",
    "except:\n",
    "    pass\n",
    "    \n",
    "item = data\n",
    "print(item)\n",
    "print(len(item))"
   ]
  },
  {
   "cell_type": "code",
   "execution_count": null,
   "id": "649535da-11ce-4cb8-bf87-c9845dd7fd57",
   "metadata": {},
   "outputs": [],
   "source": []
  }
 ],
 "metadata": {
  "kernelspec": {
   "display_name": "audios",
   "language": "python",
   "name": "audios"
  },
  "language_info": {
   "codemirror_mode": {
    "name": "ipython",
    "version": 3
   },
   "file_extension": ".py",
   "mimetype": "text/x-python",
   "name": "python",
   "nbconvert_exporter": "python",
   "pygments_lexer": "ipython3",
   "version": "3.10.14"
  }
 },
 "nbformat": 4,
 "nbformat_minor": 5
}
