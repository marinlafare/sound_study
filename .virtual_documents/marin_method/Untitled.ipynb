from marin_api.data.engine import init_db
import psycopg2



init_db()


conn = psycopg2.connect(
                       host = "127.0.0.1",  
                       dbname = "postgres",
                       user = "postgres",
                       password = "3214",
                       port = "5432"
)
cur = conn.cursor()


cur.execute(f"select * from admin;")
cur.fetchall()







cur.execute(f"select * from subject;")
cur.fetchall()

conn.commit()
cur.close()
conn.close()
