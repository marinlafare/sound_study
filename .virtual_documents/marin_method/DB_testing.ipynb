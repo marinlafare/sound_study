from marin_api.data.engine import init_db
from marin_api.data.db_interface import DBInterface
from marin_api.operations.models import CreateSong
from marin_api.data.models import Song
import psycopg2


init_db()


one_song = {
    "name": "popotito",
    "url":"https://www.youtube.com/watch?v=ybuJ_nIXwGE"
}


test_song = CreateSong(**one_song)


test_song


song_interface = DBInterface(Song)


song_interface.create(test_song.dict())











means_data = CreateCountryFactorsMean(**means_data)
std_data = CreateCountryFactorsStd(**std_data)

factors_mean_interface.create(means_data.dict())
factors_std_interface.create(std_data.dict())





conn = psycopg2.connect(
                       host = "127.0.0.1",  
                       dbname = "postgres",
                       user = "postgres",
                       password = "3214",
                       port = "5432"
)
cur = conn.cursor()





cur.execute(f"select * from song;")
cur.fetchall()







cur.execute(f"select * from subject;")
cur.fetchall()

conn.commit()
cur.close()
conn.close()
