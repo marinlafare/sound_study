from pytubefix import YouTube
import pyaudio
import wave
import sys
import os
from raw_data.raw_data import *
from raw_data.constants import *
import crepe
from scipy.io import wavfile
import matplotlib.pyplot as plt
import numpy as np
import sounddevice as sd
import struct


sd.query_devices()








44100/1024 * 4


FORMAT = pyaudio.paInt16                # We use 16bit format per sample
CHANNELS = 1
RATE = 44100
CHUNK = 1024                            # 1024bytes of data red from a buffer
RECORD_SECONDS = 3
# WAVE_OUTPUT_FILENAME = "file.wav"

audio = pyaudio.PyAudio()

# start Recording
stream = audio.open(format=FORMAT,
                    channels=CHANNELS,
                    rate=RATE, input=True,
                    frames_per_buffer=CHUNK)

frames = []
for i in range(0, int(RATE / CHUNK * RECORD_SECONDS)):
    data = stream.read(CHUNK)
    frames.append(data)
frames = b''.join(frames).decode()

stream.stop_stream()
stream.close()
audio.terminate()






































chunk = 1024 
sample_format = pyaudio.paInt16  
chanels = 1
sr = 44100 
seconds = 4


pa = pyaudio.PyAudio()  

stream = pa.open(format=sample_format, channels=chanels, 
                 rate=sr, input=True, 
                 frames_per_buffer=chunk)
 
print('Recording...')
# Initialize array that be used for storing frames
frames = []  
 
# Store data in chunks for 8 seconds
for i in range(0, int(sr / chunk * seconds)):
    data = stream.read(chunk)
    frames.append(data)
frames = b''.join(frames)
# Stop and close the stream 
stream.stop_stream()
stream.close()
 
# Terminate - PortAudio interface
pa.terminate()


len(frames)


amplitude = np.frombuffer(frames, np.int16)


plt.plot(amplitude)


amplitude[-300000:]





time, frequency, confidence, activation = crepe.predict(amplitude, 44100, viterbi=True)








def freq_to_note(freq):
    notes = ['A', 'A#', 'B', 'C', 'C#', 'D', 'D#', 'E', 'F', 'F#', 'G', 'G#']

    note_number = 12 * np.log2(freq / 440) + 49  
    note_number = round(note_number)
        
    note = (note_number - 1 ) % len(notes)
    note = notes[note]
    
    octave = (note_number + 8 ) // len(notes)
    
    return f"{note}_{octave}"


freq_to_note(141)





plt.plot(frequency)
plt.ylim(100,140)



































audio_folder = "raw_data/raw_audio"
voices_folder = "raw_data/voices"


song_folder_url = "White_Copper_Alley___Lass_of_London_City_-_Ménestrel"
song_voice_url = "vocals.wav"


song = os.path.join(voices_folder, song_folder_url, song_voice_url)





sr, audio = wavfile.read(song)


audio[350_000:350_050]








time, frequency, confidence, activation = crepe.predict(audio, sr, viterbi=True)


len(time)


len(frequency)


len(confidence)


len(activation)





time_split = time[2000:3000]
freq_split = frequency[2000:3000]


len(freq_split)


# Essentia is needed but only works in Linux
# ALthough it seems crepe is fine, maybe we'll never know
# [x if x<550 and x>180 else None for x in freq_split]


plt.figure(figsize=(10,6))
mean = np.mean(freq_split)
std = np.std(freq_split)
plt.scatter(time_split,[x if x<(mean+std) and x>(mean-std) else None for x in freq_split], alpha = 0.3)





np.std(freq_split)








len(time)


len(frequency)




















from spleeter.separator import Separator


separator = Separator(f"spleeter:2stems")
separator.separate_to_file(song,
                        "raw_data/voices",
                        duration = 540,
                        codec='wav',
                        filename_format='{filename}/{instrument}.{codec}')








one = videos_waiting_for_extract()[0]


one


import os
import ffmpeg
import string























# Sona_Is_A_Chill_Mom__Conan_O'Brien_Needs_A_Friend.m4a





























one


wf = wave.open(one)








for song in songs:
    print(videos_dir + "/" + song)











separate_voice(audio_file, stems = 2)


os.getcwd()

















import os
import ffmpeg
import string



VIDEOS_URL = 'videos_from_yt'
AUDIOS_URL = 'audios_from_yt'

def convert_video_to_audio(title, encoder):
    stream = ffmpeg.input(f"{VIDEOS_URL}/{title}")
    stream = ffmpeg.output(stream, f"{AUDIOS_URL}/{title}.{encoder}")
    ffmpeg.run(stream)
    os.remove(os.path.join(VIDEOS_URL,title))








def callback(input_data, frame_count, time_info, flags):
    ...

    return input_data, pyaudio.paContinue

stream = audio.open(format=FORMAT,
                    channels=CHANNELS,
                    rate=RATE,
                    input=True,
                    stream_callback=callback,
                    frames_per_buffer=CHUNK)





ys.__dict__


ys.download()


pip install pytubefix









































from selenium import webdriver
from selenium.webdriver.chrome.service import Service
from selenium.webdriver.common.by import By
import time
import pandas as pd
from selenium.webdriver.support.wait import WebDriverWait
from selenium.webdriver.support import expected_conditions as EC


from webdriver_manager.chrome import ChromeDriverManager


options = webdriver.ChromeOptions()
options.add_experimental_option("detach", True)
options.add_argument("--disable-extensions")
options.add_argument("--disable-notifications")
options.add_argument("--disable-Advertisement")
options.add_argument("--disable-popup-blocking")
options.add_argument("start-maximized")
options.add_argument('headless')


service = Service(executable_path='chromedriver/chromedriver.exe')
options = webdriver.ChromeOptions()
driver = webdriver.Chrome(service=service, options=options)
# ... Automate something here



driver.get('https://www.youtube.com/wendoverproductions/videos')
time.sleep(3)

item = []
SCROLL_PAUSE_TIME = 1
last_height = driver.execute_script("return document.documentElement.scrollHeight")


item_count = 180


while item_count > len(item):
    driver.execute_script("window.scrollTo(0,document.documentElement.scrollHeight);")
    time.sleep(SCROLL_PAUSE_TIME)
    new_height = driver.execute_script("return document.documentElement.scrollHeight")

    if new_height == last_height:
        break
    last_height = new_height


data = []
try:
    for e in WebDriverWait(driver, 20).until(EC.presence_of_all_elements_located((By.CSS_SELECTOR, 'div#details'))):
        title = e.find_element(By.CSS_SELECTOR,'a#video-title-link').get_attribute('title')
        vurl = e.find_element(By.CSS_SELECTOR,'a#video-title-link').get_attribute('href')
        views= e.find_element(By.XPATH,'.//*[@id="metadata"]//span[@class="inline-metadata-item style-scope ytd-video-meta-block"][1]').text
        date_time = e.find_element(By.XPATH,'.//*[@id="metadata"]//span[@class="inline-metadata-item style-scope ytd-video-meta-block"][2]').text
        data.append({
            'video_url':vurl,
            'title':title,
            'date_time':date_time,
            'views':views
            })
except:
    pass
    
item = data
print(item)
print(len(item))



