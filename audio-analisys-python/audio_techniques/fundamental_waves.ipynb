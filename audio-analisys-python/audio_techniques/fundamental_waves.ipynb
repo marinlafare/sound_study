{
 "cells": [
  {
   "cell_type": "code",
   "execution_count": 1,
   "id": "909b293e-beb4-42d0-a0cd-5c657566ae31",
   "metadata": {},
   "outputs": [],
   "source": [
    "import numpy as np\n",
    "import audioflux as af"
   ]
  },
  {
   "cell_type": "code",
   "execution_count": 2,
   "id": "1596a36f-9a36-4703-94a7-9aa52227d1e7",
   "metadata": {},
   "outputs": [],
   "source": [
    "import pyo\n",
    "from time import sleep\n",
    "# import jack"
   ]
  },
  {
   "cell_type": "code",
   "execution_count": 3,
   "id": "d0344348-b165-4822-8de8-873e3d855668",
   "metadata": {},
   "outputs": [],
   "source": [
    "s = pyo.Server().boot()"
   ]
  },
  {
   "cell_type": "code",
   "execution_count": null,
   "id": "d1cffdcc-6ec4-4773-a77d-0974dcaecf70",
   "metadata": {},
   "outputs": [],
   "source": [
    "ndx = pyo.Sig(150)\n",
    "mod = pyo.Sine(freq = 200, mul=ndx)\n",
    "car = pyo.Sine(800+mod, mul =.2).mix(2).out()\n",
    "sp = pyo.Spectrum(car, size = 4096)\n",
    "s.gui(locals())"
   ]
  },
  {
   "cell_type": "code",
   "execution_count": null,
   "id": "48dbfe60-047f-48b5-bf05-4e70a9049bdf",
   "metadata": {},
   "outputs": [],
   "source": []
  },
  {
   "cell_type": "code",
   "execution_count": null,
   "id": "f03bb63a-1e55-4025-91d4-7f67a88f12a1",
   "metadata": {},
   "outputs": [],
   "source": []
  },
  {
   "cell_type": "code",
   "execution_count": null,
   "id": "211f0331-7b27-4205-8829-a27a010b1e40",
   "metadata": {},
   "outputs": [],
   "source": []
  },
  {
   "cell_type": "code",
   "execution_count": null,
   "id": "1e5b5bda-889c-4830-82bd-3a340d03f6bf",
   "metadata": {},
   "outputs": [],
   "source": []
  },
  {
   "cell_type": "code",
   "execution_count": null,
   "id": "4f4ae1c2-ca20-4eb1-989f-f3f48e5bf1f1",
   "metadata": {},
   "outputs": [],
   "source": []
  },
  {
   "cell_type": "code",
   "execution_count": 3,
   "id": "90bf3e2b-b7af-478f-982c-faaf19591e82",
   "metadata": {},
   "outputs": [
    {
     "data": {
      "text/plain": [
       "<pyo.lib.server.Server at 0x1d0236e7160>"
      ]
     },
     "execution_count": 3,
     "metadata": {},
     "output_type": "execute_result"
    }
   ],
   "source": [
    "# s.start()"
   ]
  },
  {
   "cell_type": "code",
   "execution_count": 4,
   "id": "f68344fc-cfd1-47e3-b3e1-1d0e40ac5d65",
   "metadata": {},
   "outputs": [],
   "source": [
    "tri = pyo.LFO(freq = 440, sharp = 1, type=3)\n",
    "saw = pyo.Phasor(freq = 440, mul = 2, add =-1)\n",
    "sel = pyo.Selector(inputs = [tri,saw], voice = 0.0)"
   ]
  },
  {
   "cell_type": "code",
   "execution_count": 7,
   "id": "2ed797dd-1919-46d4-b1ba-30777eb3be2b",
   "metadata": {},
   "outputs": [],
   "source": [
    "sc = pyo.Scope(sel)"
   ]
  },
  {
   "cell_type": "code",
   "execution_count": 8,
   "id": "48d5063c-d2e2-4b34-8c17-bb9443618c6f",
   "metadata": {},
   "outputs": [],
   "source": [
    "s.gui(locals())"
   ]
  },
  {
   "cell_type": "code",
   "execution_count": null,
   "id": "9a8531fd-355f-42e9-b4e2-85615a012141",
   "metadata": {},
   "outputs": [],
   "source": []
  },
  {
   "cell_type": "code",
   "execution_count": 4,
   "id": "6a0166b0-a102-4457-a903-65bd930eb3b2",
   "metadata": {},
   "outputs": [],
   "source": [
    "mod = pyo.Sine(freq=205,mul=500,add=200)"
   ]
  },
  {
   "cell_type": "code",
   "execution_count": 5,
   "id": "d4933682-8e99-4bce-8309-677087e22cea",
   "metadata": {},
   "outputs": [],
   "source": [
    "car = pyo.Sine(freq=mod,mul=.2).out() "
   ]
  },
  {
   "cell_type": "code",
   "execution_count": 6,
   "id": "40818296-5dda-44f8-8c01-a61d37f33226",
   "metadata": {},
   "outputs": [
    {
     "name": "stderr",
     "output_type": "stream",
     "text": [
      "\n",
      "KeyboardInterrupt\n",
      "\n"
     ]
    }
   ],
   "source": [
    "s.gui(locals())"
   ]
  },
  {
   "cell_type": "code",
   "execution_count": null,
   "id": "9812a744-6b05-4cd9-9a0a-b98f47275915",
   "metadata": {},
   "outputs": [],
   "source": []
  },
  {
   "cell_type": "code",
   "execution_count": null,
   "id": "9a216aae-b6b7-4957-a4df-57a73da6405b",
   "metadata": {},
   "outputs": [],
   "source": []
  },
  {
   "cell_type": "code",
   "execution_count": null,
   "id": "e31f0167-9599-4bc9-bd7c-682f00873821",
   "metadata": {},
   "outputs": [],
   "source": []
  },
  {
   "cell_type": "code",
   "execution_count": null,
   "id": "c04d77fd-2528-4f29-9850-bea180368b3e",
   "metadata": {},
   "outputs": [],
   "source": []
  },
  {
   "cell_type": "code",
   "execution_count": null,
   "id": "56f60dc3-9966-4ec0-97a0-98f38e0e0d3a",
   "metadata": {},
   "outputs": [],
   "source": []
  },
  {
   "cell_type": "code",
   "execution_count": 13,
   "id": "1f8f25ba-5ce2-4c55-88e2-301e6a851b3b",
   "metadata": {},
   "outputs": [],
   "source": [
    "oscs.ctrl(title=\"Simple additive synthesis\")"
   ]
  },
  {
   "cell_type": "code",
   "execution_count": 14,
   "id": "8f5bc4ed-79bb-4e77-ba08-ff9889dd0413",
   "metadata": {},
   "outputs": [
    {
     "ename": "KeyboardInterrupt",
     "evalue": "",
     "output_type": "error",
     "traceback": [
      "\u001b[1;31m---------------------------------------------------------------------------\u001b[0m",
      "\u001b[1;31mKeyboardInterrupt\u001b[0m                         Traceback (most recent call last)",
      "Cell \u001b[1;32mIn[14], line 1\u001b[0m\n\u001b[1;32m----> 1\u001b[0m \u001b[43ms\u001b[49m\u001b[38;5;241;43m.\u001b[39;49m\u001b[43mgui\u001b[49m\u001b[43m(\u001b[49m\u001b[38;5;28;43mlocals\u001b[39;49m\u001b[43m(\u001b[49m\u001b[43m)\u001b[49m\u001b[43m)\u001b[49m\n",
      "File \u001b[1;32m~\\.conda\\envs\\audios\\lib\\site-packages\\pyo\\lib\\server.py:307\u001b[0m, in \u001b[0;36mServer.gui\u001b[1;34m(self, locals, meter, timer, exit, title)\u001b[0m\n\u001b[0;32m    305\u001b[0m     win\u001b[38;5;241m.\u001b[39mMainLoop()\n\u001b[0;32m    306\u001b[0m \u001b[38;5;28;01melse\u001b[39;00m:\n\u001b[1;32m--> 307\u001b[0m     \u001b[43mwin\u001b[49m\u001b[38;5;241;43m.\u001b[39;49m\u001b[43mmainloop\u001b[49m\u001b[43m(\u001b[49m\u001b[43m)\u001b[49m\n",
      "File \u001b[1;32m~\\.conda\\envs\\audios\\lib\\tkinter\\__init__.py:1458\u001b[0m, in \u001b[0;36mMisc.mainloop\u001b[1;34m(self, n)\u001b[0m\n\u001b[0;32m   1456\u001b[0m \u001b[38;5;28;01mdef\u001b[39;00m \u001b[38;5;21mmainloop\u001b[39m(\u001b[38;5;28mself\u001b[39m, n\u001b[38;5;241m=\u001b[39m\u001b[38;5;241m0\u001b[39m):\n\u001b[0;32m   1457\u001b[0m \u001b[38;5;250m    \u001b[39m\u001b[38;5;124;03m\"\"\"Call the mainloop of Tk.\"\"\"\u001b[39;00m\n\u001b[1;32m-> 1458\u001b[0m     \u001b[38;5;28;43mself\u001b[39;49m\u001b[38;5;241;43m.\u001b[39;49m\u001b[43mtk\u001b[49m\u001b[38;5;241;43m.\u001b[39;49m\u001b[43mmainloop\u001b[49m\u001b[43m(\u001b[49m\u001b[43mn\u001b[49m\u001b[43m)\u001b[49m\n",
      "\u001b[1;31mKeyboardInterrupt\u001b[0m: "
     ]
    }
   ],
   "source": [
    "s.gui(locals())"
   ]
  },
  {
   "cell_type": "code",
   "execution_count": null,
   "id": "12224103-8fd1-4e69-911c-78311e9993a0",
   "metadata": {},
   "outputs": [],
   "source": []
  },
  {
   "cell_type": "code",
   "execution_count": null,
   "id": "76f40131-997b-45e2-9da0-fcc0780c5209",
   "metadata": {},
   "outputs": [],
   "source": []
  },
  {
   "cell_type": "code",
   "execution_count": null,
   "id": "0a853a42-cbfc-4fa3-9e1d-a3f6bf350250",
   "metadata": {},
   "outputs": [],
   "source": [
    "sf = SfPlayer(\"path/to/your/sound.aif\", speed=1, loop=True).out()\n"
   ]
  },
  {
   "cell_type": "code",
   "execution_count": null,
   "id": "8b1fa278-964d-4bcb-8450-82f8629a4f24",
   "metadata": {},
   "outputs": [],
   "source": []
  },
  {
   "cell_type": "code",
   "execution_count": null,
   "id": "d3c442ee-bcc4-448e-99d5-b595601217aa",
   "metadata": {},
   "outputs": [],
   "source": []
  },
  {
   "cell_type": "code",
   "execution_count": null,
   "id": "34e37207-69a3-4420-95de-f38028b1ed99",
   "metadata": {},
   "outputs": [],
   "source": []
  },
  {
   "cell_type": "code",
   "execution_count": null,
   "id": "f5a2f688-f072-4491-84ad-6ccf8f054639",
   "metadata": {},
   "outputs": [],
   "source": []
  },
  {
   "cell_type": "code",
   "execution_count": 2,
   "id": "81f03f2f-98dc-4c40-82ba-124bf288a7fc",
   "metadata": {},
   "outputs": [
    {
     "ename": "NameError",
     "evalue": "name 'pyo' is not defined",
     "output_type": "error",
     "traceback": [
      "\u001b[0;31m---------------------------------------------------------------------------\u001b[0m",
      "\u001b[0;31mNameError\u001b[0m                                 Traceback (most recent call last)",
      "Cell \u001b[0;32mIn[2], line 1\u001b[0m\n\u001b[0;32m----> 1\u001b[0m server \u001b[38;5;241m=\u001b[39m \u001b[43mpyo\u001b[49m\u001b[38;5;241m.\u001b[39mServer(audio\u001b[38;5;241m=\u001b[39m\u001b[38;5;124m\"\u001b[39m\u001b[38;5;124mjackd\u001b[39m\u001b[38;5;124m\"\u001b[39m)\u001b[38;5;241m.\u001b[39mboot()\n",
      "\u001b[0;31mNameError\u001b[0m: name 'pyo' is not defined"
     ]
    }
   ],
   "source": [
    "server = pyo.Server(audio=\"jackd\").boot()"
   ]
  },
  {
   "cell_type": "code",
   "execution_count": 7,
   "id": "ab5556c1-f225-44d6-9692-e8bf514dffc5",
   "metadata": {},
   "outputs": [
    {
     "name": "stdout",
     "output_type": "stream",
     "text": [
      "AUDIO devices:\n",
      "\n"
     ]
    },
    {
     "name": "stderr",
     "output_type": "stream",
     "text": [
      "ALSA lib confmisc.c:855:(parse_card) cannot find card '0'\n",
      "ALSA lib conf.c:5178:(_snd_config_evaluate) function snd_func_card_inum returned error: No such file or directory\n",
      "ALSA lib confmisc.c:422:(snd_func_concat) error evaluating strings\n",
      "ALSA lib conf.c:5178:(_snd_config_evaluate) function snd_func_concat returned error: No such file or directory\n",
      "ALSA lib confmisc.c:1334:(snd_func_refer) error evaluating name\n",
      "ALSA lib conf.c:5178:(_snd_config_evaluate) function snd_func_refer returned error: No such file or directory\n",
      "ALSA lib conf.c:5701:(snd_config_expand) Evaluate error: No such file or directory\n",
      "ALSA lib pcm.c:2664:(snd_pcm_open_noupdate) Unknown PCM sysdefault\n",
      "ALSA lib confmisc.c:855:(parse_card) cannot find card '0'\n",
      "ALSA lib conf.c:5178:(_snd_config_evaluate) function snd_func_card_inum returned error: No such file or directory\n",
      "ALSA lib confmisc.c:422:(snd_func_concat) error evaluating strings\n",
      "ALSA lib conf.c:5178:(_snd_config_evaluate) function snd_func_concat returned error: No such file or directory\n",
      "ALSA lib confmisc.c:1334:(snd_func_refer) error evaluating name\n",
      "ALSA lib conf.c:5178:(_snd_config_evaluate) function snd_func_refer returned error: No such file or directory\n",
      "ALSA lib conf.c:5701:(snd_config_expand) Evaluate error: No such file or directory\n",
      "ALSA lib pcm.c:2664:(snd_pcm_open_noupdate) Unknown PCM sysdefault\n",
      "ALSA lib pcm.c:2664:(snd_pcm_open_noupdate) Unknown PCM cards.pcm.front\n",
      "ALSA lib pcm.c:2664:(snd_pcm_open_noupdate) Unknown PCM cards.pcm.rear\n",
      "ALSA lib pcm.c:2664:(snd_pcm_open_noupdate) Unknown PCM cards.pcm.center_lfe\n",
      "ALSA lib pcm.c:2664:(snd_pcm_open_noupdate) Unknown PCM cards.pcm.side\n",
      "ALSA lib pcm.c:2664:(snd_pcm_open_noupdate) Unknown PCM cards.pcm.surround21\n",
      "ALSA lib pcm.c:2664:(snd_pcm_open_noupdate) Unknown PCM cards.pcm.surround21\n",
      "ALSA lib pcm.c:2664:(snd_pcm_open_noupdate) Unknown PCM cards.pcm.surround40\n",
      "ALSA lib pcm.c:2664:(snd_pcm_open_noupdate) Unknown PCM cards.pcm.surround41\n",
      "ALSA lib pcm.c:2664:(snd_pcm_open_noupdate) Unknown PCM cards.pcm.surround50\n",
      "ALSA lib pcm.c:2664:(snd_pcm_open_noupdate) Unknown PCM cards.pcm.surround51\n",
      "ALSA lib pcm.c:2664:(snd_pcm_open_noupdate) Unknown PCM cards.pcm.surround71\n",
      "ALSA lib pcm.c:2664:(snd_pcm_open_noupdate) Unknown PCM cards.pcm.iec958\n",
      "ALSA lib pcm.c:2664:(snd_pcm_open_noupdate) Unknown PCM cards.pcm.iec958\n",
      "ALSA lib pcm.c:2664:(snd_pcm_open_noupdate) Unknown PCM cards.pcm.iec958\n",
      "ALSA lib pcm.c:2664:(snd_pcm_open_noupdate) Unknown PCM cards.pcm.hdmi\n",
      "ALSA lib pcm.c:2664:(snd_pcm_open_noupdate) Unknown PCM cards.pcm.hdmi\n",
      "ALSA lib pcm.c:2664:(snd_pcm_open_noupdate) Unknown PCM cards.pcm.modem\n",
      "ALSA lib pcm.c:2664:(snd_pcm_open_noupdate) Unknown PCM cards.pcm.modem\n",
      "ALSA lib pcm.c:2664:(snd_pcm_open_noupdate) Unknown PCM cards.pcm.phoneline\n",
      "ALSA lib pcm.c:2664:(snd_pcm_open_noupdate) Unknown PCM cards.pcm.phoneline\n",
      "ALSA lib confmisc.c:855:(parse_card) cannot find card '0'\n",
      "ALSA lib conf.c:5178:(_snd_config_evaluate) function snd_func_card_inum returned error: No such file or directory\n",
      "ALSA lib confmisc.c:422:(snd_func_concat) error evaluating strings\n",
      "ALSA lib conf.c:5178:(_snd_config_evaluate) function snd_func_concat returned error: No such file or directory\n",
      "ALSA lib confmisc.c:1334:(snd_func_refer) error evaluating name\n",
      "ALSA lib conf.c:5178:(_snd_config_evaluate) function snd_func_refer returned error: No such file or directory\n",
      "ALSA lib conf.c:5701:(snd_config_expand) Evaluate error: No such file or directory\n",
      "ALSA lib pcm.c:2664:(snd_pcm_open_noupdate) Unknown PCM default\n",
      "ALSA lib confmisc.c:855:(parse_card) cannot find card '0'\n",
      "ALSA lib conf.c:5178:(_snd_config_evaluate) function snd_func_card_inum returned error: No such file or directory\n",
      "ALSA lib confmisc.c:422:(snd_func_concat) error evaluating strings\n",
      "ALSA lib conf.c:5178:(_snd_config_evaluate) function snd_func_concat returned error: No such file or directory\n",
      "ALSA lib confmisc.c:1334:(snd_func_refer) error evaluating name\n",
      "ALSA lib conf.c:5178:(_snd_config_evaluate) function snd_func_refer returned error: No such file or directory\n",
      "ALSA lib conf.c:5701:(snd_config_expand) Evaluate error: No such file or directory\n",
      "ALSA lib pcm.c:2664:(snd_pcm_open_noupdate) Unknown PCM default\n",
      "ALSA lib confmisc.c:855:(parse_card) cannot find card '0'\n",
      "ALSA lib conf.c:5178:(_snd_config_evaluate) function snd_func_card_id returned error: No such file or directory\n",
      "ALSA lib confmisc.c:422:(snd_func_concat) error evaluating strings\n",
      "ALSA lib conf.c:5178:(_snd_config_evaluate) function snd_func_concat returned error: No such file or directory\n",
      "ALSA lib confmisc.c:1334:(snd_func_refer) error evaluating name\n",
      "ALSA lib conf.c:5178:(_snd_config_evaluate) function snd_func_refer returned error: No such file or directory\n",
      "ALSA lib conf.c:5701:(snd_config_expand) Evaluate error: No such file or directory\n",
      "ALSA lib pcm.c:2664:(snd_pcm_open_noupdate) Unknown PCM dmix\n",
      "Cannot connect to server socket err = No such file or directory\n",
      "Cannot connect to server request channel\n",
      "jack server is not running or cannot be started\n",
      "JackShmReadWritePtr::~JackShmReadWritePtr - Init not done for -1, skipping unlock\n",
      "JackShmReadWritePtr::~JackShmReadWritePtr - Init not done for -1, skipping unlock\n"
     ]
    }
   ],
   "source": [
    "pyo.pa_list_devices()"
   ]
  },
  {
   "cell_type": "code",
   "execution_count": null,
   "id": "d2c1ba20-e63b-4709-8cb7-6a25dda1ff89",
   "metadata": {},
   "outputs": [],
   "source": []
  }
 ],
 "metadata": {
  "kernelspec": {
   "display_name": "audios",
   "language": "python",
   "name": "audios"
  },
  "language_info": {
   "codemirror_mode": {
    "name": "ipython",
    "version": 3
   },
   "file_extension": ".py",
   "mimetype": "text/x-python",
   "name": "python",
   "nbconvert_exporter": "python",
   "pygments_lexer": "ipython3",
   "version": "3.10.14"
  }
 },
 "nbformat": 4,
 "nbformat_minor": 5
}
