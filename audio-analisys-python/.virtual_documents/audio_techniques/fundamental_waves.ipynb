import numpy as np
import audioflux as af


import pyo
from time import sleep
# import jack


s = pyo.Server().boot()


ndx = pyo.Sig(150)
mod = pyo.Sine(freq = 200, mul=ndx)
car = pyo.Sine(800+mod, mul =.2).mix(2).out()
sp = pyo.Spectrum(car, size = 4096)
s.gui(locals())

















# s.start()


tri = pyo.LFO(freq = 440, sharp = 1, type=3)
saw = pyo.Phasor(freq = 440, mul = 2, add =-1)
sel = pyo.Selector(inputs = [tri,saw], voice = 0.0)


sc = pyo.Scope(sel)


s.gui(locals())





mod = pyo.Sine(freq=205,mul=500,add=200)


car = pyo.Sine(freq=mod,mul=.2).out() 


s.gui(locals())

















oscs.ctrl(title="Simple additive synthesis")


s.gui(locals())








sf = SfPlayer("path/to/your/sound.aif", speed=1, loop=True).out()















server = pyo.Server(audio="jackd").boot()


pyo.pa_list_devices()



